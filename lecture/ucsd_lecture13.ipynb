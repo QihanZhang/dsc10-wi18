{
 "cells": [
  {
   "cell_type": "code",
   "execution_count": null,
   "metadata": {},
   "outputs": [],
   "source": [
    "from datascience import *\n",
    "import numpy as np\n",
    "\n",
    "%matplotlib inline\n",
    "import matplotlib.pyplot as plots\n",
    "plots.style.use('fivethirtyeight')"
   ]
  },
  {
   "cell_type": "markdown",
   "metadata": {},
   "source": [
    "## Basics"
   ]
  },
  {
   "cell_type": "code",
   "execution_count": null,
   "metadata": {},
   "outputs": [],
   "source": [
    "values = [2, 3, 3, 9]\n"
   ]
  },
  {
   "cell_type": "code",
   "execution_count": null,
   "metadata": {},
   "outputs": [],
   "source": [
    "np.average(values)\n"
   ]
  },
  {
   "cell_type": "code",
   "execution_count": null,
   "metadata": {},
   "outputs": [],
   "source": [
    "np.mean(values)\n"
   ]
  },
  {
   "cell_type": "code",
   "execution_count": null,
   "metadata": {},
   "outputs": [],
   "source": [
    "sum(values) / len(values)\n"
   ]
  },
  {
   "cell_type": "code",
   "execution_count": null,
   "metadata": {},
   "outputs": [],
   "source": [
    "#weighted average: how many times each item appears in the list\n",
    "(1/4) * 2 + (2/4) * 3 + (1/4) * 9\n",
    "\n",
    "#(back to slides)"
   ]
  },
  {
   "cell_type": "markdown",
   "metadata": {},
   "source": [
    "## Means and Histograms"
   ]
  },
  {
   "cell_type": "code",
   "execution_count": null,
   "metadata": {},
   "outputs": [],
   "source": [
    "#histogram of what numbers?\n",
    "\n",
    "t = Table().with_columns('Value', make_array(2, 3, 9),\n",
    "                        'Proportion', make_array(0.25, 0.5, 0.25))\n",
    "\n",
    "t.hist(bin_column = 'Value', bins = np.arange(1.5, 9.6, 1))\n",
    "plots.plot([1.5, 9.5], [0, 0], color = 'grey', lw = 8)\n"
   ]
  },
  {
   "cell_type": "code",
   "execution_count": null,
   "metadata": {},
   "outputs": [],
   "source": [
    "#This is also a histogram for (2, 2, 3, 3, 3, 3, 9, 9). True/False?\n",
    "# A: True\n",
    "# B: False"
   ]
  },
  {
   "cell_type": "code",
   "execution_count": null,
   "metadata": {},
   "outputs": [],
   "source": [
    "\n",
    "\n",
    "\n",
    "\n",
    "# Answer is True:\n",
    "#  2*(1/8) + 2*(1/8) + 3* (1/8) * 4 + 9 * (1/8) + 9* (1/8) =\n",
    "#  = 2 * (1/8) * 2  + 3 * (1/8) * 4 + 9 * (1/8) * 2 \n",
    "#  = 2 * (1/4) + 3 * (1/2) + 9 * (1/4)\n",
    "# And now look at the weights\n",
    "# Calulation of the average does not depend on how many elements are in the list"
   ]
  },
  {
   "cell_type": "code",
   "execution_count": null,
   "metadata": {},
   "outputs": [],
   "source": [
    "# Balance point is the average\n",
    "\n",
    "mean = sum (t.column(\"Value\")*t.column(\"Proportion\"))\n",
    "t.hist(bin_column = 'Value', bins = np.arange(1.5, 9.6, 1))\n",
    "plots.scatter(mean, -0.009, marker = '^', color = 'darkblue', s=60)\n",
    "plots.plot([1.5, 9.5], [0, 0], color = 'grey', lw = 8)\n",
    "plots.ylim(-0.05, 0.5)"
   ]
  },
  {
   "cell_type": "code",
   "execution_count": null,
   "metadata": {},
   "outputs": [],
   "source": [
    "# symmetric histogram\n",
    "\n",
    "t1 = Table().with_columns('Value', make_array(2, 3, 4, 9),\n",
    "                        'Proportion', make_array(0.25, 0.5, 0.25, 0))\n",
    "\n",
    "mean1 = sum (t1.column(\"Value\")*t1.column(\"Proportion\"))\n",
    "t1.hist(bin_column = 'Value', bins = np.arange(1.5, 4.6, 1))\n",
    "plots.scatter(mean1, -0.009, marker = '^', color = 'darkblue', s=60)\n",
    "plots.plot([1.5, 9.5], [0, 0], color = 'grey', lw = 8)\n",
    "plots.xlim(1, 10)\n",
    "plots.ylim(-0.05, 0.5)"
   ]
  },
  {
   "cell_type": "code",
   "execution_count": null,
   "metadata": {},
   "outputs": [],
   "source": [
    "#destroy symmetry\n",
    "\n",
    "t1 = t1.with_columns('Not_symmetric', make_array(0.25, 0.5, 0, 0.25))\n",
    "\n",
    "mean2 = sum (t1.column(\"Value\")*t1.column(\"Not_symmetric\"))\n",
    "t1.hist(bin_column = 'Value', bins = np.arange(1.5, 9.6, 1))\n",
    "plots.scatter(mean1, -0.009, marker = '^', color = 'darkblue', s=60)\n",
    "plots.scatter(mean2, -0.009, marker = '^', color = 'gold', s=60)\n",
    "\n",
    "plots.plot([1.5, 9.5], [0, 0], color = 'grey', lw = 8)\n",
    "plots.ylim(-0.05, 0.5)"
   ]
  },
  {
   "cell_type": "code",
   "execution_count": null,
   "metadata": {},
   "outputs": [],
   "source": [
    "#(back to slides)"
   ]
  },
  {
   "cell_type": "markdown",
   "metadata": {},
   "source": [
    "\n",
    "## Another Example\n"
   ]
  },
  {
   "cell_type": "code",
   "execution_count": null,
   "metadata": {},
   "outputs": [],
   "source": [
    "# Let's try again. Which is larger, mean or median?\n",
    "\n",
    "sf2015 = Table.read_table('san_francisco_2015.csv').where('Salaries', are.above(10000))\n",
    "\n",
    "sf2015.select('Total Compensation').hist(bins = np.arange(10000, 700000, 25000))"
   ]
  },
  {
   "cell_type": "code",
   "execution_count": null,
   "metadata": {},
   "outputs": [],
   "source": [
    "compensation  = sf2015.column(\"Total Compensation\")\n",
    "percentile (50, compensation)"
   ]
  },
  {
   "cell_type": "code",
   "execution_count": null,
   "metadata": {
    "scrolled": true
   },
   "outputs": [],
   "source": [
    "np.mean(compensation)\n",
    "\n",
    "#(back to slides)"
   ]
  },
  {
   "cell_type": "markdown",
   "metadata": {},
   "source": [
    "## Measuring Variability\n"
   ]
  },
  {
   "cell_type": "code",
   "execution_count": null,
   "metadata": {},
   "outputs": [],
   "source": [
    "values = make_array(2, 3, 3, 9)\n",
    "values\n",
    "\n",
    "# how far the numbers are from the mean? "
   ]
  },
  {
   "cell_type": "code",
   "execution_count": null,
   "metadata": {},
   "outputs": [],
   "source": [
    "# Step 1, the average\n",
    "\n",
    "average = np.average(values)\n",
    "average"
   ]
  },
  {
   "cell_type": "code",
   "execution_count": null,
   "metadata": {},
   "outputs": [],
   "source": [
    "# Step 2, the deviations from average\n",
    "# how far from the average? (each value)\n",
    "\n",
    "deviations = values - average\n",
    "deviations"
   ]
  },
  {
   "cell_type": "code",
   "execution_count": null,
   "metadata": {},
   "outputs": [],
   "source": [
    "t = Table().with_columns(\n",
    "    'Value', values,\n",
    "    'Deviation from Average', deviations,\n",
    ")\n",
    "t"
   ]
  },
  {
   "cell_type": "code",
   "execution_count": null,
   "metadata": {},
   "outputs": [],
   "source": [
    "# Let's take the average of the deviations, so\n",
    "# add the deviations up\n",
    "\n",
    "t.column(1).sum()"
   ]
  },
  {
   "cell_type": "code",
   "execution_count": null,
   "metadata": {},
   "outputs": [],
   "source": [
    "# Step 3. The squared deviations from average\n",
    "# square them -> positive\n",
    "\n",
    "t.with_column('Squared Deviations', deviations ** 2)"
   ]
  },
  {
   "cell_type": "code",
   "execution_count": null,
   "metadata": {},
   "outputs": [],
   "source": [
    "squared_devs = deviations ** 2\n",
    "squared_devs"
   ]
  },
  {
   "cell_type": "code",
   "execution_count": null,
   "metadata": {},
   "outputs": [],
   "source": [
    "# Step 4: Variance = the mean squared deviation from average\n",
    "# Units have changed. \n",
    "\n",
    "variance = np.mean(squared_devs)\n",
    "variance"
   ]
  },
  {
   "cell_type": "code",
   "execution_count": null,
   "metadata": {},
   "outputs": [],
   "source": [
    "# Step 5: Standard deviation: root mean squared deviation from average\n",
    "# Steps of calculation:         5    4     3        2             1 \n",
    "sd = np.sqrt(variance)\n",
    "sd"
   ]
  },
  {
   "cell_type": "code",
   "execution_count": null,
   "metadata": {},
   "outputs": [],
   "source": [
    "#the bigger the standard deviation, the more spread out the distribution \n",
    "np.std(values)\n",
    "\n",
    "\n",
    "#(back to slides)"
   ]
  },
  {
   "cell_type": "markdown",
   "metadata": {},
   "source": [
    "## Understanding Standard Deviation"
   ]
  },
  {
   "cell_type": "code",
   "execution_count": null,
   "metadata": {},
   "outputs": [],
   "source": [
    "#http://inferentialthinking.com/notebooks/nba2013.csv\n",
    "nba13 = Table.read_table('nba2013.csv')\n",
    "nba13"
   ]
  },
  {
   "cell_type": "code",
   "execution_count": null,
   "metadata": {},
   "outputs": [],
   "source": [
    "nba13.select('Height').hist(bins=np.arange(68, 88, 1))"
   ]
  },
  {
   "cell_type": "code",
   "execution_count": null,
   "metadata": {},
   "outputs": [],
   "source": [
    "mean_height = np.mean(nba13.column('Height'))\n",
    "sd_height = np.std(nba13.column('Height'))\n",
    "(mean_height, sd_height)"
   ]
  },
  {
   "cell_type": "code",
   "execution_count": null,
   "metadata": {},
   "outputs": [],
   "source": [
    "# tallest person\n",
    "\n",
    "nba13.sort('Height', descending=True).show(3)"
   ]
  },
  {
   "cell_type": "code",
   "execution_count": null,
   "metadata": {},
   "outputs": [],
   "source": [
    "#shortest player\n",
    "\n",
    "nba13.sort('Height').show(3)"
   ]
  },
  {
   "cell_type": "code",
   "execution_count": null,
   "metadata": {},
   "outputs": [],
   "source": [
    "# for tallest player. How many inches above the mean?\n",
    "87 - mean_height\n",
    "\n",
    "# how many SDs is that?"
   ]
  },
  {
   "cell_type": "code",
   "execution_count": null,
   "metadata": {},
   "outputs": [],
   "source": [
    "# look at the deviation relative to SD\n",
    "(87 - mean_height)/sd_height\n"
   ]
  },
  {
   "cell_type": "code",
   "execution_count": null,
   "metadata": {},
   "outputs": [],
   "source": [
    "# Now for the shortest player\n",
    "# how many SDs below average?\n",
    "\n",
    "(69 - mean_height)/sd_height\n",
    "\n",
    "# we start working with Standard Units"
   ]
  },
  {
   "cell_type": "code",
   "execution_count": null,
   "metadata": {},
   "outputs": [],
   "source": [
    "#conversion to standard units\n",
    "\n",
    "def standard_units(numbers_array):\n",
    "    \"Convert any array of numbers to standard units.\"\n",
    "    return (numbers_array - np.mean(numbers_array))/np.std(numbers_array)    "
   ]
  },
  {
   "cell_type": "code",
   "execution_count": null,
   "metadata": {},
   "outputs": [],
   "source": [
    "# You have converted heights to standard units. Used to be in inches. \n",
    "# Now what units do we use?\n",
    "# What kind of units will you see? Can they all be positive?\n",
    "# How big? 0.9, possible?\n",
    "# How about -7?\n"
   ]
  },
  {
   "cell_type": "code",
   "execution_count": null,
   "metadata": {},
   "outputs": [],
   "source": [
    "nba13 = nba13.with_column(\n",
    "    'Height (Standard Units)', standard_units(nba13.column('Height'))\n",
    ")\n",
    "nba13.sort(0)"
   ]
  },
  {
   "cell_type": "code",
   "execution_count": null,
   "metadata": {},
   "outputs": [],
   "source": [
    "# (back to slides)"
   ]
  },
  {
   "cell_type": "markdown",
   "metadata": {},
   "source": [
    "## Standard Units and Chebyshev Bounds"
   ]
  },
  {
   "cell_type": "code",
   "execution_count": null,
   "metadata": {},
   "outputs": [],
   "source": [
    "#http://inferentialthinking.com/notebooks/united_summer2015.csv\n",
    "united = Table.read_table('united_summer2015.csv')\n",
    "united = united.with_column(\n",
    "    'Delay (Standard Units)', standard_units(united.column('Delay'))\n",
    ")\n",
    "united"
   ]
  },
  {
   "cell_type": "code",
   "execution_count": null,
   "metadata": {},
   "outputs": [],
   "source": [
    "united.sort('Delay', descending=True)"
   ]
  },
  {
   "cell_type": "code",
   "execution_count": null,
   "metadata": {},
   "outputs": [],
   "source": [
    "within_3_sd = united.where('Delay (Standard Units)', are.between(-3, 3))\n",
    "within_3_sd.num_rows/united.num_rows"
   ]
  },
  {
   "cell_type": "code",
   "execution_count": null,
   "metadata": {},
   "outputs": [],
   "source": [
    "united.hist('Delay (Standard Units)', bins=np.arange(-5, 15.5, 0.5))\n",
    "plots.xticks(np.arange(-6, 17, 3));"
   ]
  },
  {
   "cell_type": "code",
   "execution_count": null,
   "metadata": {},
   "outputs": [],
   "source": [
    "#(back to slides)"
   ]
  },
  {
   "cell_type": "markdown",
   "metadata": {},
   "source": [
    "## Chebyshev Bounds: Another Example"
   ]
  },
  {
   "cell_type": "code",
   "execution_count": null,
   "metadata": {},
   "outputs": [],
   "source": [
    "#http://inferentialthinking.com/notebooks/baby.csv\n",
    "births = Table.read_table('baby.csv')\n",
    "births.show(3)"
   ]
  },
  {
   "cell_type": "code",
   "execution_count": null,
   "metadata": {},
   "outputs": [],
   "source": [
    "avg = np.mean(births.column('Maternal Age'))\n",
    "sd = np.std(births.column(2))\n",
    "avg, sd"
   ]
  },
  {
   "cell_type": "code",
   "execution_count": null,
   "metadata": {},
   "outputs": [],
   "source": [
    "# proportion of rows where the ages in between average +/- 2 std \n",
    "(births\n",
    " .where(2, are.between(avg - 2*sd, avg + 2*sd))\n",
    " .num_rows\n",
    " / births.num_rows)"
   ]
  },
  {
   "cell_type": "code",
   "execution_count": null,
   "metadata": {},
   "outputs": [],
   "source": [
    "#(back to slides)"
   ]
  },
  {
   "cell_type": "markdown",
   "metadata": {},
   "source": [
    "## Normal Distribution"
   ]
  },
  {
   "cell_type": "code",
   "execution_count": null,
   "metadata": {},
   "outputs": [],
   "source": [
    "# all at once, not helpful\n",
    "births.hist()"
   ]
  },
  {
   "cell_type": "code",
   "execution_count": null,
   "metadata": {},
   "outputs": [],
   "source": [
    "# all of them on separate histograms\n",
    "births.hist(overlay=False)"
   ]
  },
  {
   "cell_type": "code",
   "execution_count": null,
   "metadata": {},
   "outputs": [],
   "source": [
    "#maternal height looks pretty normal (height and weight often are)\n",
    "\n",
    "avg_h = np.round(np.mean(births.column('Maternal Height')), 1)\n",
    "sd_h = np.round(np.std(births.column(\"Maternal Height\")),1)\n",
    "avg_h, sd_h"
   ]
  },
  {
   "cell_type": "code",
   "execution_count": null,
   "metadata": {},
   "outputs": [],
   "source": [
    "# bell shaped curve\n",
    "births.hist(3, bins=np.arange(55.5, 72.5, 1), unit='inch')\n",
    "positions = np.arange(-3, 3.1, 1)* sd_h + avg_h\n",
    "plots.xticks(positions);\n",
    "\n",
    "# where is the point of inflection?"
   ]
  },
  {
   "cell_type": "code",
   "execution_count": null,
   "metadata": {},
   "outputs": [],
   "source": [
    "#(back to slides)"
   ]
  },
  {
   "cell_type": "markdown",
   "metadata": {},
   "source": [
    "## The standard normal curve"
   ]
  },
  {
   "cell_type": "code",
   "execution_count": null,
   "metadata": {},
   "outputs": [],
   "source": [
    "from scipy import stats\n",
    "\n",
    "plot_normal_cdf()"
   ]
  },
  {
   "cell_type": "code",
   "execution_count": null,
   "metadata": {},
   "outputs": [],
   "source": [
    "\n",
    "samples = []\n",
    "for i in np.arange(1000000):\n",
    "    samples.append( np.random.normal())\n",
    "sample_table = Table().with_column('Sample', samples)\n",
    "sample_table.hist(bins=np.arange(-4.5, 4.6, .1))"
   ]
  },
  {
   "cell_type": "code",
   "execution_count": null,
   "metadata": {},
   "outputs": [],
   "source": [
    "#(back to slides)"
   ]
  },
  {
   "cell_type": "markdown",
   "metadata": {},
   "source": [
    "## Average Plus or Minus a Few SDs"
   ]
  },
  {
   "cell_type": "code",
   "execution_count": null,
   "metadata": {},
   "outputs": [],
   "source": [
    "# how many samples are within 3 SDs?\n",
    "\n",
    "sample_table.where('Sample', are.not_below(-3)).where('Sample', are.not_above(3)).num_rows"
   ]
  },
  {
   "cell_type": "code",
   "execution_count": null,
   "metadata": {},
   "outputs": [],
   "source": [
    "#as a proportion of all samples\n",
    "sample_table.where('Sample', are.not_below(-3)).where('Sample', are.not_above(3)).num_rows/1000000"
   ]
  },
  {
   "cell_type": "code",
   "execution_count": null,
   "metadata": {},
   "outputs": [],
   "source": [
    "#Chebyshev says within 3 SDs, at least 1-1/9 = 88.8888%"
   ]
  },
  {
   "cell_type": "code",
   "execution_count": null,
   "metadata": {},
   "outputs": [],
   "source": [
    "#proportion within 2 SDs\n",
    "sample_table.where('Sample', are.not_below(-2)).where('Sample', are.not_above(2)).num_rows/1000000"
   ]
  },
  {
   "cell_type": "code",
   "execution_count": null,
   "metadata": {},
   "outputs": [],
   "source": [
    "#proportion within 1 SD\n",
    "sample_table.where('Sample', are.not_below(-1)).where('Sample', are.not_above(1)).num_rows/1000000"
   ]
  },
  {
   "cell_type": "code",
   "execution_count": null,
   "metadata": {},
   "outputs": [],
   "source": [
    "#(back to slides)"
   ]
  },
  {
   "cell_type": "markdown",
   "metadata": {},
   "source": [
    "## Aren't Normal Distributions Rare?"
   ]
  },
  {
   "cell_type": "code",
   "execution_count": null,
   "metadata": {},
   "outputs": [],
   "source": [
    "#maternal age, not bell shaped; has long tail\n",
    "births.hist(2)"
   ]
  },
  {
   "cell_type": "code",
   "execution_count": null,
   "metadata": {},
   "outputs": [],
   "source": [
    "np.mean(births.column(2))\n"
   ]
  },
  {
   "cell_type": "code",
   "execution_count": null,
   "metadata": {},
   "outputs": [],
   "source": [
    "np.mean(births.sample().column(2))\n"
   ]
  },
  {
   "cell_type": "code",
   "execution_count": null,
   "metadata": {},
   "outputs": [],
   "source": [
    "means = []\n",
    "for i in np.arange(10000):\n",
    "    means.append(np.mean(births.sample(1000).column(2)))\n"
   ]
  },
  {
   "cell_type": "code",
   "execution_count": null,
   "metadata": {},
   "outputs": [],
   "source": [
    "Table().with_column('Mean', means).hist(bins=50)"
   ]
  },
  {
   "cell_type": "code",
   "execution_count": null,
   "metadata": {},
   "outputs": [],
   "source": [
    "#(back to slides)"
   ]
  },
  {
   "cell_type": "markdown",
   "metadata": {},
   "source": [
    "## Central Limit Theorem"
   ]
  },
  {
   "cell_type": "code",
   "execution_count": null,
   "metadata": {},
   "outputs": [],
   "source": [
    "united"
   ]
  },
  {
   "cell_type": "code",
   "execution_count": null,
   "metadata": {},
   "outputs": [],
   "source": [
    "mean_delay =  np.mean (united.column(\"Delay\"))\n",
    "sd_delay =  np.std (united.column(\"Delay\"))\n",
    "(mean_delay, sd_delay)"
   ]
  },
  {
   "cell_type": "code",
   "execution_count": null,
   "metadata": {},
   "outputs": [],
   "source": [
    "delay = united.select(\"Delay\")\n",
    "delay.hist(bins=np.arange(-30, 600, 10))"
   ]
  },
  {
   "cell_type": "code",
   "execution_count": null,
   "metadata": {},
   "outputs": [],
   "source": [
    "sample_size=400\n",
    "rep = 10000\n",
    "means = make_array()\n",
    "\n",
    "for  i in np.arange(rep):\n",
    "    sample = delay.sample(sample_size)\n",
    "    new_mean = np.mean(sample.column(\"Delay\"))\n",
    "    means = np.append(means, new_mean)\n",
    "\n",
    "results = Table().with_column(\"Sample means\", means)\n"
   ]
  },
  {
   "cell_type": "code",
   "execution_count": null,
   "metadata": {},
   "outputs": [],
   "source": [
    "results.hist(bins = np.arange(10, 25, 0.5))"
   ]
  },
  {
   "cell_type": "code",
   "execution_count": null,
   "metadata": {},
   "outputs": [],
   "source": []
  }
 ],
 "metadata": {
  "kernelspec": {
   "display_name": "Python 3",
   "language": "python",
   "name": "python3"
  },
  "language_info": {
   "codemirror_mode": {
    "name": "ipython",
    "version": 3
   },
   "file_extension": ".py",
   "mimetype": "text/x-python",
   "name": "python",
   "nbconvert_exporter": "python",
   "pygments_lexer": "ipython3",
   "version": "3.5.3"
  }
 },
 "nbformat": 4,
 "nbformat_minor": 2
}
