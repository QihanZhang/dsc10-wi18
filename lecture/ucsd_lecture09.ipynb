{
 "cells": [
  {
   "cell_type": "code",
   "execution_count": null,
   "metadata": {
    "collapsed": true
   },
   "outputs": [],
   "source": [
    "from datascience import *\n",
    "import numpy as np\n",
    "\n",
    "%matplotlib inline\n",
    "import matplotlib.pyplot as plots\n",
    "plots.style.use('fivethirtyeight')"
   ]
  },
  {
   "cell_type": "markdown",
   "metadata": {},
   "source": [
    "## Monty Hall"
   ]
  },
  {
   "cell_type": "code",
   "execution_count": null,
   "metadata": {},
   "outputs": [],
   "source": [
    "#my three posibilites are:\n",
    "\n",
    "# CGG\n",
    "\n",
    "# GCG\n",
    "\n",
    "# GGC\n"
   ]
  },
  {
   "cell_type": "code",
   "execution_count": null,
   "metadata": {
    "collapsed": true
   },
   "outputs": [],
   "source": [
    "#let's simulate game in Python\n",
    "\n",
    "#1. Put the prizes behind doors randomly\n",
    "#2. I pick a door\n",
    "#3. Monty opens the door\n",
    "#4. Reveal what was behind each door"
   ]
  },
  {
   "cell_type": "code",
   "execution_count": null,
   "metadata": {},
   "outputs": [],
   "source": [
    "#1. Put the prizes behind doors randomly\n",
    "\n",
    "doors = make_array(1, 2, 3)\n",
    "prizes =  make_array(\"Car\", \"First Goat\", \"Second Goat\")\n",
    "np.random.choice(prizes, 3, replace = False) #by default, with replacement. Could get two cars, for example"
   ]
  },
  {
   "cell_type": "code",
   "execution_count": null,
   "metadata": {},
   "outputs": [],
   "source": [
    "#function to put my results in a table\n",
    "def setup ():\n",
    "    \"\"\"Return a random setup of the game\"\"\"\n",
    "    return Table().with_columns(\n",
    "        'Door', doors, \n",
    "        'Prize', np.random.choice(prizes, 3, replace = False)\n",
    "    )\n",
    "\n",
    "a_game = setup()\n",
    "a_game\n"
   ]
  },
  {
   "cell_type": "markdown",
   "metadata": {},
   "source": [
    "** How would you define a function 'behind' that takes in a game and a door number and returns the prize behind the door? **"
   ]
  },
  {
   "cell_type": "code",
   "execution_count": null,
   "metadata": {
    "collapsed": true
   },
   "outputs": [],
   "source": [
    "def behind(game, door_num):\n",
    "    \"\"\"Returns the prize behind the door\"\"\"\n",
    "    return ...\n",
    "\n",
    "\n",
    "\n",
    "    "
   ]
  },
  {
   "cell_type": "code",
   "execution_count": null,
   "metadata": {},
   "outputs": [],
   "source": [
    "def behind(game, door_num):\n",
    "    \"\"\"Returns the prize behind the door\"\"\"\n",
    "    return game.where('Door', door_num).column('Prize').item(0)\n",
    "   # return game.column(1).item(door_num-1) <--another way\n",
    "\n",
    "\n",
    "\n",
    "\n",
    "for d in doors:\n",
    "    print('Behind a door number', d, 'is the', behind(a_game, d))\n",
    "\n",
    "\n"
   ]
  },
  {
   "cell_type": "code",
   "execution_count": null,
   "metadata": {},
   "outputs": [],
   "source": [
    "#function that tells me where each prize is\n",
    "def prize_loc(game, prize):\n",
    "    return game.where('Prize', prize).column('Door').item(0)\n",
    "\n",
    "for prize in prizes:\n",
    "    print('The', prize, 'is behind door number', prize_loc(a_game, prize))"
   ]
  },
  {
   "cell_type": "markdown",
   "metadata": {},
   "source": [
    "**How would you write a function 'expose' that takes in a game (as a table) and a guessed door number\n",
    "and shows which door Montey Hall would open to expose a goat? ** Talk to each other first."
   ]
  },
  {
   "cell_type": "code",
   "execution_count": null,
   "metadata": {},
   "outputs": [],
   "source": [
    "# run it again\n",
    "a_game"
   ]
  },
  {
   "cell_type": "code",
   "execution_count": null,
   "metadata": {},
   "outputs": [],
   "source": [
    "#The output will be different for each a_game run! We should change the example below in class.\n",
    "expose (a_game, 2) => 3\n",
    "expose (a_game, 3) => 2\n",
    "expose (a_game, 1) => either 2 or 3. "
   ]
  },
  {
   "cell_type": "code",
   "execution_count": null,
   "metadata": {
    "collapsed": true
   },
   "outputs": [],
   "source": [
    "def expose (game, guessed_door):\n",
    "    \"\"\"Returns the door that Monty opens to expose a goat\"\"\"\n",
    "    return....\n",
    "\n"
   ]
  },
  {
   "cell_type": "code",
   "execution_count": null,
   "metadata": {},
   "outputs": [],
   "source": [
    "def expose (game, guessed_door):\n",
    "    \"\"\"Returns the door that Monty opens to expose a goat\"\"\"\n",
    "    \n",
    "    guessed_prize = behind(game, guessed_door)\n",
    "    \n",
    "    if (guessed_prize == 'First Goat'):\n",
    "        reveal = 'Second Goat'\n",
    "    elif (guessed_prize == 'Second Goat'):\n",
    "        reveal = 'First Goat'\n",
    "    else: \n",
    "        reveal = np.random.choice(make_array('First Goat', 'Second Goat'))\n",
    "    return prize_loc(game, reveal)\n",
    "    \n",
    "a_guess = 2    \n",
    "an_exposed_door = expose(a_game, a_guess)\n",
    "print('The contestant pick out door', a_guess, 'which hides', behind(a_game, a_guess))\n",
    "print('Monty opens door', an_exposed_door, 'to expose a goat' )"
   ]
  },
  {
   "cell_type": "code",
   "execution_count": null,
   "metadata": {},
   "outputs": [],
   "source": [
    "# what is the door that no one chose?\n",
    "def other(game, my_guess, monty):\n",
    "    '''Returns the door that is not guessed or exposed'''\n",
    "    return (1 + 2 + 3) - (my_guess + monty)\n",
    "\n",
    "remain_door = other(a_game, 3, 2)\n",
    "print ('The remaining door', remain_door, 'hides the', behind(a_game, remain_door))"
   ]
  },
  {
   "cell_type": "markdown",
   "metadata": {},
   "source": [
    "# Reveal all doors, repeat"
   ]
  },
  {
   "cell_type": "markdown",
   "metadata": {},
   "source": [
    "** Let's simulate one game of the Monty Hall problem. Create a list where the first element is the prize behind the contestant's guessed door, the second is the prize behind Monty's exposed door, and the third is the prize behind the remaining door.  **"
   ]
  },
  {
   "cell_type": "code",
   "execution_count": null,
   "metadata": {},
   "outputs": [],
   "source": [
    "game = setup()\n",
    "game"
   ]
  },
  {
   "cell_type": "code",
   "execution_count": null,
   "metadata": {},
   "outputs": [],
   "source": [
    "#now my guess\n",
    "guess =  np.random.choice(doors)\n",
    "#monty's turn\n",
    "monty = expose(game, guess)\n",
    "#remaining door\n",
    "remaining = other(game, guess, monty)\n",
    "#put all in the list\n",
    "[guess, monty, remaining]"
   ]
  },
  {
   "cell_type": "code",
   "execution_count": null,
   "metadata": {},
   "outputs": [],
   "source": [
    "#I want to know what is behind the doors\n",
    "\n",
    "[behind(game, guess),behind(game, monty),behind(game, remaining)]"
   ]
  },
  {
   "cell_type": "code",
   "execution_count": null,
   "metadata": {},
   "outputs": [],
   "source": [
    "#run this game several times and save the resutls\n",
    "\n",
    "trials = Table(['trial', 'guess', 'exposed', 'remaining'] )\n",
    "for i in np.arange(10000):\n",
    "    guess =  np.random.choice(doors)\n",
    "    monty = expose(game, guess)\n",
    "    remaining = other(game, guess, monty)\n",
    "    trials.append([i, behind(game, guess),behind(game, monty),behind(game, remaining)])\n",
    "    \n",
    "trials"
   ]
  },
  {
   "cell_type": "code",
   "execution_count": null,
   "metadata": {},
   "outputs": [],
   "source": [
    "trials.group('guess')"
   ]
  },
  {
   "cell_type": "code",
   "execution_count": null,
   "metadata": {},
   "outputs": [],
   "source": [
    "trials.group('remaining')"
   ]
  },
  {
   "cell_type": "code",
   "execution_count": null,
   "metadata": {},
   "outputs": [],
   "source": [
    "trials.group('guess').barh('guess')\n",
    "plots.xlim(0, 6000)"
   ]
  },
  {
   "cell_type": "code",
   "execution_count": null,
   "metadata": {},
   "outputs": [],
   "source": [
    "trials.group('remaining').barh('remaining')\n",
    "plots.xlim(0, 8000)"
   ]
  },
  {
   "cell_type": "markdown",
   "metadata": {
    "collapsed": true
   },
   "source": [
    "## Probability"
   ]
  },
  {
   "cell_type": "markdown",
   "metadata": {},
   "source": [
    "back to slides"
   ]
  },
  {
   "cell_type": "markdown",
   "metadata": {},
   "source": [
    "## Sampling"
   ]
  },
  {
   "cell_type": "code",
   "execution_count": null,
   "metadata": {},
   "outputs": [],
   "source": [
    "top = Table.read_table('top_movies.csv')\n",
    "top = top.with_column('Row Index', np.arange(top.num_rows))\n",
    "top = top.move_to_start('Row Index')\n",
    "\n",
    "top"
   ]
  },
  {
   "cell_type": "code",
   "execution_count": null,
   "metadata": {},
   "outputs": [],
   "source": [
    "#take a (deterministic) sample of this table. No chance is envolved \n",
    "top.take(make_array(3, 8, 10))"
   ]
  },
  {
   "cell_type": "code",
   "execution_count": null,
   "metadata": {},
   "outputs": [],
   "source": [
    "# another way to take a sample. Deterministic? \n",
    "top.where('Title', are.containing('and the'))"
   ]
  },
  {
   "cell_type": "code",
   "execution_count": null,
   "metadata": {},
   "outputs": [],
   "source": [
    "# how about now? \n",
    "start = np.random.choice(np.arange(10))\n",
    "top.take(np.arange(start, 200, 10))"
   ]
  },
  {
   "cell_type": "code",
   "execution_count": null,
   "metadata": {
    "collapsed": true
   },
   "outputs": [],
   "source": [
    "#we can find a probablity of a specific row. For example 37th? "
   ]
  },
  {
   "cell_type": "code",
   "execution_count": null,
   "metadata": {},
   "outputs": [],
   "source": [
    "#sometimes you want to take 5 rows uniformly at random (with replacement)\n",
    "top.sample(5)"
   ]
  },
  {
   "cell_type": "code",
   "execution_count": null,
   "metadata": {},
   "outputs": [],
   "source": [
    "#sometimes you want to take 5 rows uniformly at random (without replacement)\n",
    "top.sample(5, with_replacement = False)"
   ]
  },
  {
   "cell_type": "code",
   "execution_count": null,
   "metadata": {
    "collapsed": true
   },
   "outputs": [],
   "source": [
    "#Sample of Convenience. back to slides."
   ]
  },
  {
   "cell_type": "markdown",
   "metadata": {},
   "source": [
    "## Dice"
   ]
  },
  {
   "cell_type": "code",
   "execution_count": null,
   "metadata": {},
   "outputs": [],
   "source": [
    "die =  Table().with_column('face', np.arange(1, 7, 1))\n",
    "die"
   ]
  },
  {
   "cell_type": "code",
   "execution_count": null,
   "metadata": {},
   "outputs": [],
   "source": [
    "die.sample(1)"
   ]
  },
  {
   "cell_type": "code",
   "execution_count": null,
   "metadata": {},
   "outputs": [],
   "source": [
    "die.with_column('probability', 1/6)"
   ]
  },
  {
   "cell_type": "code",
   "execution_count": null,
   "metadata": {},
   "outputs": [],
   "source": [
    "#histogram, with bins\n",
    "die.hist('face', bins = np.arange(0.5, 6.6, 1))"
   ]
  },
  {
   "cell_type": "code",
   "execution_count": null,
   "metadata": {},
   "outputs": [],
   "source": [
    "#empirical distribution\n",
    "die.sample(10)"
   ]
  },
  {
   "cell_type": "code",
   "execution_count": null,
   "metadata": {},
   "outputs": [],
   "source": [
    "#take a histogram again\n",
    "die.sample(10).hist('face', bins = np.arange(0.5, 6.6, 1))"
   ]
  },
  {
   "cell_type": "code",
   "execution_count": null,
   "metadata": {},
   "outputs": [],
   "source": [
    "#more samples\n",
    "die.sample(10).hist('face', bins = np.arange(0.5, 6.6, 1))"
   ]
  }
 ],
 "metadata": {
  "kernelspec": {
   "display_name": "Python 3",
   "language": "python",
   "name": "python3"
  },
  "language_info": {
   "codemirror_mode": {
    "name": "ipython",
    "version": 3
   },
   "file_extension": ".py",
   "mimetype": "text/x-python",
   "name": "python",
   "nbconvert_exporter": "python",
   "pygments_lexer": "ipython3",
   "version": "3.6.1"
  }
 },
 "nbformat": 4,
 "nbformat_minor": 2
}
