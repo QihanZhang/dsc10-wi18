{
 "cells": [
  {
   "cell_type": "code",
   "execution_count": 1,
   "metadata": {
    "collapsed": true
   },
   "outputs": [],
   "source": [
    "from datascience import *\n",
    "import numpy as np\n",
    "\n",
    "%matplotlib inline\n",
    "import matplotlib.pyplot as plots\n",
    "plots.style.use('fivethirtyeight')"
   ]
  },
  {
   "cell_type": "markdown",
   "metadata": {},
   "source": [
    "## Sampling"
   ]
  },
  {
   "cell_type": "code",
   "execution_count": 2,
   "metadata": {},
   "outputs": [
    {
     "data": {
      "text/html": [
       "<table border=\"1\" class=\"dataframe\">\n",
       "    <thead>\n",
       "        <tr>\n",
       "            <th>Row Index</th> <th>Title</th> <th>Studio</th> <th>Gross</th> <th>Gross (Adjusted)</th> <th>Year</th>\n",
       "        </tr>\n",
       "    </thead>\n",
       "    <tbody>\n",
       "        <tr>\n",
       "            <td>0        </td> <td>Star Wars: The Force Awakens             </td> <td>Buena Vista (Disney)</td> <td>906723418</td> <td>906723400       </td> <td>2015</td>\n",
       "        </tr>\n",
       "    </tbody>\n",
       "        <tr>\n",
       "            <td>1        </td> <td>Avatar                                   </td> <td>Fox                 </td> <td>760507625</td> <td>846120800       </td> <td>2009</td>\n",
       "        </tr>\n",
       "    </tbody>\n",
       "        <tr>\n",
       "            <td>2        </td> <td>Titanic                                  </td> <td>Paramount           </td> <td>658672302</td> <td>1178627900      </td> <td>1997</td>\n",
       "        </tr>\n",
       "    </tbody>\n",
       "        <tr>\n",
       "            <td>3        </td> <td>Jurassic World                           </td> <td>Universal           </td> <td>652270625</td> <td>687728000       </td> <td>2015</td>\n",
       "        </tr>\n",
       "    </tbody>\n",
       "        <tr>\n",
       "            <td>4        </td> <td>Marvel's The Avengers                    </td> <td>Buena Vista (Disney)</td> <td>623357910</td> <td>668866600       </td> <td>2012</td>\n",
       "        </tr>\n",
       "    </tbody>\n",
       "        <tr>\n",
       "            <td>5        </td> <td>The Dark Knight                          </td> <td>Warner Bros.        </td> <td>534858444</td> <td>647761600       </td> <td>2008</td>\n",
       "        </tr>\n",
       "    </tbody>\n",
       "        <tr>\n",
       "            <td>6        </td> <td>Star Wars: Episode I - The Phantom Menace</td> <td>Fox                 </td> <td>474544677</td> <td>785715000       </td> <td>1999</td>\n",
       "        </tr>\n",
       "    </tbody>\n",
       "        <tr>\n",
       "            <td>7        </td> <td>Star Wars                                </td> <td>Fox                 </td> <td>460998007</td> <td>1549640500      </td> <td>1977</td>\n",
       "        </tr>\n",
       "    </tbody>\n",
       "        <tr>\n",
       "            <td>8        </td> <td>Avengers: Age of Ultron                  </td> <td>Buena Vista (Disney)</td> <td>459005868</td> <td>465684200       </td> <td>2015</td>\n",
       "        </tr>\n",
       "    </tbody>\n",
       "        <tr>\n",
       "            <td>9        </td> <td>The Dark Knight Rises                    </td> <td>Warner Bros.        </td> <td>448139099</td> <td>500961700       </td> <td>2012</td>\n",
       "        </tr>\n",
       "    </tbody>\n",
       "</table>\n",
       "<p>... (190 rows omitted)</p"
      ],
      "text/plain": [
       "Row Index | Title                                     | Studio               | Gross     | Gross (Adjusted) | Year\n",
       "0         | Star Wars: The Force Awakens              | Buena Vista (Disney) | 906723418 | 906723400        | 2015\n",
       "1         | Avatar                                    | Fox                  | 760507625 | 846120800        | 2009\n",
       "2         | Titanic                                   | Paramount            | 658672302 | 1178627900       | 1997\n",
       "3         | Jurassic World                            | Universal            | 652270625 | 687728000        | 2015\n",
       "4         | Marvel's The Avengers                     | Buena Vista (Disney) | 623357910 | 668866600        | 2012\n",
       "5         | The Dark Knight                           | Warner Bros.         | 534858444 | 647761600        | 2008\n",
       "6         | Star Wars: Episode I - The Phantom Menace | Fox                  | 474544677 | 785715000        | 1999\n",
       "7         | Star Wars                                 | Fox                  | 460998007 | 1549640500       | 1977\n",
       "8         | Avengers: Age of Ultron                   | Buena Vista (Disney) | 459005868 | 465684200        | 2015\n",
       "9         | The Dark Knight Rises                     | Warner Bros.         | 448139099 | 500961700        | 2012\n",
       "... (190 rows omitted)"
      ]
     },
     "execution_count": 2,
     "metadata": {},
     "output_type": "execute_result"
    }
   ],
   "source": [
    "top = Table.read_table('top_movies.csv')\n",
    "top = top.with_column('Row Index', np.arange(top.num_rows))\n",
    "top = top.move_to_start('Row Index')\n",
    "\n",
    "top"
   ]
  },
  {
   "cell_type": "code",
   "execution_count": 3,
   "metadata": {},
   "outputs": [
    {
     "data": {
      "text/html": [
       "<table border=\"1\" class=\"dataframe\">\n",
       "    <thead>\n",
       "        <tr>\n",
       "            <th>Row Index</th> <th>Title</th> <th>Studio</th> <th>Gross</th> <th>Gross (Adjusted)</th> <th>Year</th>\n",
       "        </tr>\n",
       "    </thead>\n",
       "    <tbody>\n",
       "        <tr>\n",
       "            <td>3        </td> <td>Jurassic World         </td> <td>Universal           </td> <td>652270625</td> <td>687728000       </td> <td>2015</td>\n",
       "        </tr>\n",
       "    </tbody>\n",
       "        <tr>\n",
       "            <td>8        </td> <td>Avengers: Age of Ultron</td> <td>Buena Vista (Disney)</td> <td>459005868</td> <td>465684200       </td> <td>2015</td>\n",
       "        </tr>\n",
       "    </tbody>\n",
       "        <tr>\n",
       "            <td>10       </td> <td>Shrek 2                </td> <td>Dreamworks          </td> <td>441226247</td> <td>618143100       </td> <td>2004</td>\n",
       "        </tr>\n",
       "    </tbody>\n",
       "</table>"
      ],
      "text/plain": [
       "Row Index | Title                   | Studio               | Gross     | Gross (Adjusted) | Year\n",
       "3         | Jurassic World          | Universal            | 652270625 | 687728000        | 2015\n",
       "8         | Avengers: Age of Ultron | Buena Vista (Disney) | 459005868 | 465684200        | 2015\n",
       "10        | Shrek 2                 | Dreamworks           | 441226247 | 618143100        | 2004"
      ]
     },
     "execution_count": 3,
     "metadata": {},
     "output_type": "execute_result"
    }
   ],
   "source": [
    "#take a (deterministic) sample of this table. No chance is involved \n",
    "top.take(make_array(3, 8, 10))"
   ]
  },
  {
   "cell_type": "code",
   "execution_count": 4,
   "metadata": {},
   "outputs": [
    {
     "data": {
      "text/html": [
       "<table border=\"1\" class=\"dataframe\">\n",
       "    <thead>\n",
       "        <tr>\n",
       "            <th>Row Index</th> <th>Title</th> <th>Studio</th> <th>Gross</th> <th>Gross (Adjusted)</th> <th>Year</th>\n",
       "        </tr>\n",
       "    </thead>\n",
       "    <tbody>\n",
       "        <tr>\n",
       "            <td>22       </td> <td>Harry Potter and the Deathly Hallows Part 2                 </td> <td>Warner Bros.        </td> <td>381011219</td> <td>417512200       </td> <td>2011</td>\n",
       "        </tr>\n",
       "    </tbody>\n",
       "        <tr>\n",
       "            <td>43       </td> <td>Harry Potter and the Sorcerer's Stone                       </td> <td>Warner Bros.        </td> <td>317575550</td> <td>486442900       </td> <td>2001</td>\n",
       "        </tr>\n",
       "    </tbody>\n",
       "        <tr>\n",
       "            <td>44       </td> <td>Indiana Jones and the Kingdom of the Crystal Skull          </td> <td>Paramount           </td> <td>317101119</td> <td>384231200       </td> <td>2008</td>\n",
       "        </tr>\n",
       "    </tbody>\n",
       "        <tr>\n",
       "            <td>54       </td> <td>Harry Potter and the Half-Blood Prince                      </td> <td>Warner Bros.        </td> <td>301959197</td> <td>352098800       </td> <td>2009</td>\n",
       "        </tr>\n",
       "    </tbody>\n",
       "        <tr>\n",
       "            <td>59       </td> <td>Harry Potter and the Order of the Phoenix                   </td> <td>Warner Bros.        </td> <td>292004738</td> <td>369250200       </td> <td>2007</td>\n",
       "        </tr>\n",
       "    </tbody>\n",
       "        <tr>\n",
       "            <td>60       </td> <td>The Chronicles of Narnia: The Lion, the Witch and the Wa ...</td> <td>Buena Vista (Disney)</td> <td>291710957</td> <td>393033100       </td> <td>2005</td>\n",
       "        </tr>\n",
       "    </tbody>\n",
       "        <tr>\n",
       "            <td>62       </td> <td>Harry Potter and the Goblet of Fire                         </td> <td>Warner Bros.        </td> <td>290013036</td> <td>393024800       </td> <td>2005</td>\n",
       "        </tr>\n",
       "    </tbody>\n",
       "        <tr>\n",
       "            <td>69       </td> <td>Harry Potter and the Chamber of Secrets                     </td> <td>Warner Bros.        </td> <td>261988482</td> <td>390768100       </td> <td>2002</td>\n",
       "        </tr>\n",
       "    </tbody>\n",
       "        <tr>\n",
       "            <td>76       </td> <td>Harry Potter and the Prisoner of Azkaban                    </td> <td>Warner Bros.        </td> <td>249541069</td> <td>349598600       </td> <td>2004</td>\n",
       "        </tr>\n",
       "    </tbody>\n",
       "        <tr>\n",
       "            <td>91       </td> <td>Beauty and the Beast                                        </td> <td>Buena Vista (Disney)</td> <td>218967620</td> <td>394664300       </td> <td>1991</td>\n",
       "        </tr>\n",
       "    </tbody>\n",
       "</table>\n",
       "<p>... (6 rows omitted)</p"
      ],
      "text/plain": [
       "Row Index | Title                                                        | Studio               | Gross     | Gross (Adjusted) | Year\n",
       "22        | Harry Potter and the Deathly Hallows Part 2                  | Warner Bros.         | 381011219 | 417512200        | 2011\n",
       "43        | Harry Potter and the Sorcerer's Stone                        | Warner Bros.         | 317575550 | 486442900        | 2001\n",
       "44        | Indiana Jones and the Kingdom of the Crystal Skull           | Paramount            | 317101119 | 384231200        | 2008\n",
       "54        | Harry Potter and the Half-Blood Prince                       | Warner Bros.         | 301959197 | 352098800        | 2009\n",
       "59        | Harry Potter and the Order of the Phoenix                    | Warner Bros.         | 292004738 | 369250200        | 2007\n",
       "60        | The Chronicles of Narnia: The Lion, the Witch and the Wa ... | Buena Vista (Disney) | 291710957 | 393033100        | 2005\n",
       "62        | Harry Potter and the Goblet of Fire                          | Warner Bros.         | 290013036 | 393024800        | 2005\n",
       "69        | Harry Potter and the Chamber of Secrets                      | Warner Bros.         | 261988482 | 390768100        | 2002\n",
       "76        | Harry Potter and the Prisoner of Azkaban                     | Warner Bros.         | 249541069 | 349598600        | 2004\n",
       "91        | Beauty and the Beast                                         | Buena Vista (Disney) | 218967620 | 394664300        | 1991\n",
       "... (6 rows omitted)"
      ]
     },
     "execution_count": 4,
     "metadata": {},
     "output_type": "execute_result"
    }
   ],
   "source": [
    "# another way to take a sample. Deterministic? \n",
    "top.where('Title', are.containing('and the'))"
   ]
  },
  {
   "cell_type": "code",
   "execution_count": 6,
   "metadata": {},
   "outputs": [
    {
     "data": {
      "text/html": [
       "<table border=\"1\" class=\"dataframe\">\n",
       "    <thead>\n",
       "        <tr>\n",
       "            <th>Row Index</th> <th>Title</th> <th>Studio</th> <th>Gross</th> <th>Gross (Adjusted)</th> <th>Year</th>\n",
       "        </tr>\n",
       "    </thead>\n",
       "    <tbody>\n",
       "        <tr>\n",
       "            <td>4        </td> <td>Marvel's The Avengers                             </td> <td>Buena Vista (Disney)</td> <td>623357910</td> <td>668866600       </td> <td>2012</td>\n",
       "        </tr>\n",
       "    </tbody>\n",
       "        <tr>\n",
       "            <td>14       </td> <td>The Lion King                                     </td> <td>Buena Vista (Disney)</td> <td>422783777</td> <td>775573900       </td> <td>1994</td>\n",
       "        </tr>\n",
       "    </tbody>\n",
       "        <tr>\n",
       "            <td>24       </td> <td>Star Wars: Episode III - Revenge of the Sith      </td> <td>Fox                 </td> <td>380270577</td> <td>516123900       </td> <td>2005</td>\n",
       "        </tr>\n",
       "    </tbody>\n",
       "        <tr>\n",
       "            <td>34       </td> <td>The Hunger Games: Mockingjay - Part 1             </td> <td>Lionsgate           </td> <td>337135885</td> <td>354324000       </td> <td>2014</td>\n",
       "        </tr>\n",
       "    </tbody>\n",
       "        <tr>\n",
       "            <td>44       </td> <td>Indiana Jones and the Kingdom of the Crystal Skull</td> <td>Paramount           </td> <td>317101119</td> <td>384231200       </td> <td>2008</td>\n",
       "        </tr>\n",
       "    </tbody>\n",
       "        <tr>\n",
       "            <td>54       </td> <td>Harry Potter and the Half-Blood Prince            </td> <td>Warner Bros.        </td> <td>301959197</td> <td>352098800       </td> <td>2009</td>\n",
       "        </tr>\n",
       "    </tbody>\n",
       "        <tr>\n",
       "            <td>64       </td> <td>Home Alone                                        </td> <td>Fox                 </td> <td>285761243</td> <td>589287500       </td> <td>1990</td>\n",
       "        </tr>\n",
       "    </tbody>\n",
       "        <tr>\n",
       "            <td>74       </td> <td>Night at the Museum                               </td> <td>Fox                 </td> <td>250863268</td> <td>322261900       </td> <td>2006</td>\n",
       "        </tr>\n",
       "    </tbody>\n",
       "        <tr>\n",
       "            <td>84       </td> <td>Beverly Hills Cop                                 </td> <td>Paramount           </td> <td>234760478</td> <td>584205200       </td> <td>1984</td>\n",
       "        </tr>\n",
       "    </tbody>\n",
       "        <tr>\n",
       "            <td>94       </td> <td>Saving Private Ryan                               </td> <td>Dreamworks          </td> <td>216540909</td> <td>397999500       </td> <td>1998</td>\n",
       "        </tr>\n",
       "    </tbody>\n",
       "</table>\n",
       "<p>... (10 rows omitted)</p"
      ],
      "text/plain": [
       "Row Index | Title                                              | Studio               | Gross     | Gross (Adjusted) | Year\n",
       "4         | Marvel's The Avengers                              | Buena Vista (Disney) | 623357910 | 668866600        | 2012\n",
       "14        | The Lion King                                      | Buena Vista (Disney) | 422783777 | 775573900        | 1994\n",
       "24        | Star Wars: Episode III - Revenge of the Sith       | Fox                  | 380270577 | 516123900        | 2005\n",
       "34        | The Hunger Games: Mockingjay - Part 1              | Lionsgate            | 337135885 | 354324000        | 2014\n",
       "44        | Indiana Jones and the Kingdom of the Crystal Skull | Paramount            | 317101119 | 384231200        | 2008\n",
       "54        | Harry Potter and the Half-Blood Prince             | Warner Bros.         | 301959197 | 352098800        | 2009\n",
       "64        | Home Alone                                         | Fox                  | 285761243 | 589287500        | 1990\n",
       "74        | Night at the Museum                                | Fox                  | 250863268 | 322261900        | 2006\n",
       "84        | Beverly Hills Cop                                  | Paramount            | 234760478 | 584205200        | 1984\n",
       "94        | Saving Private Ryan                                | Dreamworks           | 216540909 | 397999500        | 1998\n",
       "... (10 rows omitted)"
      ]
     },
     "execution_count": 6,
     "metadata": {},
     "output_type": "execute_result"
    }
   ],
   "source": [
    "# how about now? \n",
    "start = np.random.choice(np.arange(10))\n",
    "top.take(np.arange(start, 200, 10))"
   ]
  },
  {
   "cell_type": "code",
   "execution_count": 7,
   "metadata": {
    "collapsed": true
   },
   "outputs": [],
   "source": [
    "#we can find a probablity of a specific row. For example 37th? "
   ]
  },
  {
   "cell_type": "code",
   "execution_count": 8,
   "metadata": {},
   "outputs": [
    {
     "data": {
      "text/html": [
       "<table border=\"1\" class=\"dataframe\">\n",
       "    <thead>\n",
       "        <tr>\n",
       "            <th>Row Index</th> <th>Title</th> <th>Studio</th> <th>Gross</th> <th>Gross (Adjusted)</th> <th>Year</th>\n",
       "        </tr>\n",
       "    </thead>\n",
       "    <tbody>\n",
       "        <tr>\n",
       "            <td>51       </td> <td>Pirates of the Caribbean: The Curse of the Black Pearl</td> <td>Buena Vista (Disney)</td> <td>305413918</td> <td>440645400       </td> <td>2003</td>\n",
       "        </tr>\n",
       "    </tbody>\n",
       "        <tr>\n",
       "            <td>36       </td> <td>Minions                                               </td> <td>Universal           </td> <td>336045770</td> <td>354213900       </td> <td>2015</td>\n",
       "        </tr>\n",
       "    </tbody>\n",
       "        <tr>\n",
       "            <td>117      </td> <td>Home Alone 2: Lost in New York                        </td> <td>Fox                 </td> <td>173585516</td> <td>364091400       </td> <td>1992</td>\n",
       "        </tr>\n",
       "    </tbody>\n",
       "        <tr>\n",
       "            <td>127      </td> <td>The Sting                                             </td> <td>Universal           </td> <td>156000000</td> <td>775542900       </td> <td>1973</td>\n",
       "        </tr>\n",
       "    </tbody>\n",
       "        <tr>\n",
       "            <td>132      </td> <td>101 Dalmatians                                        </td> <td>Disney              </td> <td>144880014</td> <td>869280100       </td> <td>1961</td>\n",
       "        </tr>\n",
       "    </tbody>\n",
       "</table>"
      ],
      "text/plain": [
       "Row Index | Title                                                  | Studio               | Gross     | Gross (Adjusted) | Year\n",
       "51        | Pirates of the Caribbean: The Curse of the Black Pearl | Buena Vista (Disney) | 305413918 | 440645400        | 2003\n",
       "36        | Minions                                                | Universal            | 336045770 | 354213900        | 2015\n",
       "117       | Home Alone 2: Lost in New York                         | Fox                  | 173585516 | 364091400        | 1992\n",
       "127       | The Sting                                              | Universal            | 156000000 | 775542900        | 1973\n",
       "132       | 101 Dalmatians                                         | Disney               | 144880014 | 869280100        | 1961"
      ]
     },
     "execution_count": 8,
     "metadata": {},
     "output_type": "execute_result"
    }
   ],
   "source": [
    "#sometimes you want to take 5 rows uniformly at random (with replacement)\n",
    "top.sample(5)"
   ]
  },
  {
   "cell_type": "code",
   "execution_count": 9,
   "metadata": {},
   "outputs": [
    {
     "data": {
      "text/html": [
       "<table border=\"1\" class=\"dataframe\">\n",
       "    <thead>\n",
       "        <tr>\n",
       "            <th>Row Index</th> <th>Title</th> <th>Studio</th> <th>Gross</th> <th>Gross (Adjusted)</th> <th>Year</th>\n",
       "        </tr>\n",
       "    </thead>\n",
       "    <tbody>\n",
       "        <tr>\n",
       "            <td>49       </td> <td>Return of the Jedi                               </td> <td>Fox                 </td> <td>309306177</td> <td>818316900       </td> <td>1983</td>\n",
       "        </tr>\n",
       "    </tbody>\n",
       "        <tr>\n",
       "            <td>45       </td> <td>The Lord of the Rings: The Fellowship of the Ring</td> <td>New Line            </td> <td>315544750</td> <td>476753700       </td> <td>2001</td>\n",
       "        </tr>\n",
       "    </tbody>\n",
       "        <tr>\n",
       "            <td>40       </td> <td>Shrek the Third                                  </td> <td>Paramount/Dreamworks</td> <td>322719944</td> <td>408090600       </td> <td>2007</td>\n",
       "        </tr>\n",
       "    </tbody>\n",
       "        <tr>\n",
       "            <td>118      </td> <td>Air Force One                                    </td> <td>Sony                </td> <td>172956409</td> <td>327752300       </td> <td>1997</td>\n",
       "        </tr>\n",
       "    </tbody>\n",
       "        <tr>\n",
       "            <td>128      </td> <td>Beverly Hills Cop II                             </td> <td>Paramount           </td> <td>153665036</td> <td>341914500       </td> <td>1987</td>\n",
       "        </tr>\n",
       "    </tbody>\n",
       "</table>"
      ],
      "text/plain": [
       "Row Index | Title                                             | Studio               | Gross     | Gross (Adjusted) | Year\n",
       "49        | Return of the Jedi                                | Fox                  | 309306177 | 818316900        | 1983\n",
       "45        | The Lord of the Rings: The Fellowship of the Ring | New Line             | 315544750 | 476753700        | 2001\n",
       "40        | Shrek the Third                                   | Paramount/Dreamworks | 322719944 | 408090600        | 2007\n",
       "118       | Air Force One                                     | Sony                 | 172956409 | 327752300        | 1997\n",
       "128       | Beverly Hills Cop II                              | Paramount            | 153665036 | 341914500        | 1987"
      ]
     },
     "execution_count": 9,
     "metadata": {},
     "output_type": "execute_result"
    }
   ],
   "source": [
    "#sometimes you want to take 5 rows uniformly at random (without replacement)\n",
    "top.sample(5, with_replacement = False)"
   ]
  },
  {
   "cell_type": "code",
   "execution_count": null,
   "metadata": {
    "collapsed": true
   },
   "outputs": [],
   "source": [
    "#Sample of Convenience. back to slides."
   ]
  },
  {
   "cell_type": "markdown",
   "metadata": {},
   "source": [
    "## Dice"
   ]
  },
  {
   "cell_type": "code",
   "execution_count": 10,
   "metadata": {},
   "outputs": [
    {
     "data": {
      "text/html": [
       "<table border=\"1\" class=\"dataframe\">\n",
       "    <thead>\n",
       "        <tr>\n",
       "            <th>face</th>\n",
       "        </tr>\n",
       "    </thead>\n",
       "    <tbody>\n",
       "        <tr>\n",
       "            <td>1   </td>\n",
       "        </tr>\n",
       "    </tbody>\n",
       "        <tr>\n",
       "            <td>2   </td>\n",
       "        </tr>\n",
       "    </tbody>\n",
       "        <tr>\n",
       "            <td>3   </td>\n",
       "        </tr>\n",
       "    </tbody>\n",
       "        <tr>\n",
       "            <td>4   </td>\n",
       "        </tr>\n",
       "    </tbody>\n",
       "        <tr>\n",
       "            <td>5   </td>\n",
       "        </tr>\n",
       "    </tbody>\n",
       "        <tr>\n",
       "            <td>6   </td>\n",
       "        </tr>\n",
       "    </tbody>\n",
       "</table>"
      ],
      "text/plain": [
       "face\n",
       "1\n",
       "2\n",
       "3\n",
       "4\n",
       "5\n",
       "6"
      ]
     },
     "execution_count": 10,
     "metadata": {},
     "output_type": "execute_result"
    }
   ],
   "source": [
    "die =  Table().with_column('face', np.arange(1, 7, 1))\n",
    "die"
   ]
  },
  {
   "cell_type": "code",
   "execution_count": 11,
   "metadata": {},
   "outputs": [
    {
     "data": {
      "text/html": [
       "<table border=\"1\" class=\"dataframe\">\n",
       "    <thead>\n",
       "        <tr>\n",
       "            <th>face</th>\n",
       "        </tr>\n",
       "    </thead>\n",
       "    <tbody>\n",
       "        <tr>\n",
       "            <td>2   </td>\n",
       "        </tr>\n",
       "    </tbody>\n",
       "</table>"
      ],
      "text/plain": [
       "face\n",
       "2"
      ]
     },
     "execution_count": 11,
     "metadata": {},
     "output_type": "execute_result"
    }
   ],
   "source": [
    "die.sample(1)"
   ]
  },
  {
   "cell_type": "code",
   "execution_count": 12,
   "metadata": {},
   "outputs": [
    {
     "data": {
      "text/html": [
       "<table border=\"1\" class=\"dataframe\">\n",
       "    <thead>\n",
       "        <tr>\n",
       "            <th>face</th> <th>probability</th>\n",
       "        </tr>\n",
       "    </thead>\n",
       "    <tbody>\n",
       "        <tr>\n",
       "            <td>1   </td> <td>0.166667   </td>\n",
       "        </tr>\n",
       "    </tbody>\n",
       "        <tr>\n",
       "            <td>2   </td> <td>0.166667   </td>\n",
       "        </tr>\n",
       "    </tbody>\n",
       "        <tr>\n",
       "            <td>3   </td> <td>0.166667   </td>\n",
       "        </tr>\n",
       "    </tbody>\n",
       "        <tr>\n",
       "            <td>4   </td> <td>0.166667   </td>\n",
       "        </tr>\n",
       "    </tbody>\n",
       "        <tr>\n",
       "            <td>5   </td> <td>0.166667   </td>\n",
       "        </tr>\n",
       "    </tbody>\n",
       "        <tr>\n",
       "            <td>6   </td> <td>0.166667   </td>\n",
       "        </tr>\n",
       "    </tbody>\n",
       "</table>"
      ],
      "text/plain": [
       "face | probability\n",
       "1    | 0.166667\n",
       "2    | 0.166667\n",
       "3    | 0.166667\n",
       "4    | 0.166667\n",
       "5    | 0.166667\n",
       "6    | 0.166667"
      ]
     },
     "execution_count": 12,
     "metadata": {},
     "output_type": "execute_result"
    }
   ],
   "source": [
    "die.with_column('probability', 1/6)"
   ]
  },
  {
   "cell_type": "code",
   "execution_count": 13,
   "metadata": {},
   "outputs": [
    {
     "data": {
      "image/png": "[encoded data removed]",
      "text/plain": [
       "<matplotlib.figure.Figure at 0x5f34b09cf8>"
      ]
     },
     "metadata": {},
     "output_type": "display_data"
    }
   ],
   "source": [
    "#histogram, with bins\n",
    "die.hist('face', bins = np.arange(0.5, 6.6, 1))"
   ]
  },
  {
   "cell_type": "code",
   "execution_count": 14,
   "metadata": {},
   "outputs": [
    {
     "data": {
      "text/html": [
       "<table border=\"1\" class=\"dataframe\">\n",
       "    <thead>\n",
       "        <tr>\n",
       "            <th>face</th>\n",
       "        </tr>\n",
       "    </thead>\n",
       "    <tbody>\n",
       "        <tr>\n",
       "            <td>1   </td>\n",
       "        </tr>\n",
       "    </tbody>\n",
       "        <tr>\n",
       "            <td>3   </td>\n",
       "        </tr>\n",
       "    </tbody>\n",
       "        <tr>\n",
       "            <td>3   </td>\n",
       "        </tr>\n",
       "    </tbody>\n",
       "        <tr>\n",
       "            <td>3   </td>\n",
       "        </tr>\n",
       "    </tbody>\n",
       "        <tr>\n",
       "            <td>2   </td>\n",
       "        </tr>\n",
       "    </tbody>\n",
       "        <tr>\n",
       "            <td>6   </td>\n",
       "        </tr>\n",
       "    </tbody>\n",
       "        <tr>\n",
       "            <td>6   </td>\n",
       "        </tr>\n",
       "    </tbody>\n",
       "        <tr>\n",
       "            <td>6   </td>\n",
       "        </tr>\n",
       "    </tbody>\n",
       "        <tr>\n",
       "            <td>2   </td>\n",
       "        </tr>\n",
       "    </tbody>\n",
       "        <tr>\n",
       "            <td>4   </td>\n",
       "        </tr>\n",
       "    </tbody>\n",
       "</table>"
      ],
      "text/plain": [
       "face\n",
       "1\n",
       "3\n",
       "3\n",
       "3\n",
       "2\n",
       "6\n",
       "6\n",
       "6\n",
       "2\n",
       "4"
      ]
     },
     "execution_count": 14,
     "metadata": {},
     "output_type": "execute_result"
    }
   ],
   "source": [
    "#empirical distribution\n",
    "die.sample(10)"
   ]
  },
  {
   "cell_type": "code",
   "execution_count": 15,
   "metadata": {},
   "outputs": [
    {
     "data": {
      "image/png": "[encoded data removed]",
      "text/plain": [
       "<matplotlib.figure.Figure at 0x5f34f49cf8>"
      ]
     },
     "metadata": {},
     "output_type": "display_data"
    }
   ],
   "source": [
    "#take a histogram again\n",
    "die.sample(10).hist('face', bins = np.arange(0.5, 6.6, 1))"
   ]
  },
  {
   "cell_type": "code",
   "execution_count": 19,
   "metadata": {},
   "outputs": [
    {
     "data": {
      "image/png": "[encoded data removed]",
      "text/plain": [
       "<matplotlib.figure.Figure at 0x5f35239278>"
      ]
     },
     "metadata": {},
     "output_type": "display_data"
    }
   ],
   "source": [
    "#change 10 to 100 or 1000, etc.\n",
    "die.sample(10).hist('face', bins = np.arange(0.5, 6.6, 1))"
   ]
  },
  {
   "cell_type": "markdown",
   "metadata": {},
   "source": [
    "## Flights"
   ]
  },
  {
   "cell_type": "code",
   "execution_count": 20,
   "metadata": {},
   "outputs": [
    {
     "data": {
      "text/html": [
       "<table border=\"1\" class=\"dataframe\">\n",
       "    <thead>\n",
       "        <tr>\n",
       "            <th>Date</th> <th>Flight Number</th> <th>Destination</th> <th>Delay</th>\n",
       "        </tr>\n",
       "    </thead>\n",
       "    <tbody>\n",
       "        <tr>\n",
       "            <td>6/1/15</td> <td>73           </td> <td>HNL        </td> <td>257  </td>\n",
       "        </tr>\n",
       "    </tbody>\n",
       "        <tr>\n",
       "            <td>6/1/15</td> <td>217          </td> <td>EWR        </td> <td>28   </td>\n",
       "        </tr>\n",
       "    </tbody>\n",
       "        <tr>\n",
       "            <td>6/1/15</td> <td>237          </td> <td>STL        </td> <td>-3   </td>\n",
       "        </tr>\n",
       "    </tbody>\n",
       "        <tr>\n",
       "            <td>6/1/15</td> <td>250          </td> <td>SAN        </td> <td>0    </td>\n",
       "        </tr>\n",
       "    </tbody>\n",
       "        <tr>\n",
       "            <td>6/1/15</td> <td>267          </td> <td>PHL        </td> <td>64   </td>\n",
       "        </tr>\n",
       "    </tbody>\n",
       "        <tr>\n",
       "            <td>6/1/15</td> <td>273          </td> <td>SEA        </td> <td>-6   </td>\n",
       "        </tr>\n",
       "    </tbody>\n",
       "        <tr>\n",
       "            <td>6/1/15</td> <td>278          </td> <td>SEA        </td> <td>-8   </td>\n",
       "        </tr>\n",
       "    </tbody>\n",
       "        <tr>\n",
       "            <td>6/1/15</td> <td>292          </td> <td>EWR        </td> <td>12   </td>\n",
       "        </tr>\n",
       "    </tbody>\n",
       "        <tr>\n",
       "            <td>6/1/15</td> <td>300          </td> <td>HNL        </td> <td>20   </td>\n",
       "        </tr>\n",
       "    </tbody>\n",
       "        <tr>\n",
       "            <td>6/1/15</td> <td>317          </td> <td>IND        </td> <td>-10  </td>\n",
       "        </tr>\n",
       "    </tbody>\n",
       "</table>\n",
       "<p>... (13815 rows omitted)</p"
      ],
      "text/plain": [
       "Date   | Flight Number | Destination | Delay\n",
       "6/1/15 | 73            | HNL         | 257\n",
       "6/1/15 | 217           | EWR         | 28\n",
       "6/1/15 | 237           | STL         | -3\n",
       "6/1/15 | 250           | SAN         | 0\n",
       "6/1/15 | 267           | PHL         | 64\n",
       "6/1/15 | 273           | SEA         | -6\n",
       "6/1/15 | 278           | SEA         | -8\n",
       "6/1/15 | 292           | EWR         | 12\n",
       "6/1/15 | 300           | HNL         | 20\n",
       "6/1/15 | 317           | IND         | -10\n",
       "... (13815 rows omitted)"
      ]
     },
     "execution_count": 20,
     "metadata": {},
     "output_type": "execute_result"
    }
   ],
   "source": [
    "# https://www.inferentialthinking.com/notebooks/united_summer2015.csv\n",
    "united = Table().read_table('united_summer2015.csv')\n",
    "united"
   ]
  },
  {
   "cell_type": "code",
   "execution_count": 22,
   "metadata": {},
   "outputs": [
    {
     "data": {
      "image/png": "[encoded data removed]",
      "text/plain": [
       "<matplotlib.figure.Figure at 0x5f36423b38>"
      ]
     },
     "metadata": {},
     "output_type": "display_data"
    }
   ],
   "source": [
    "#let's take a look at the distribution of these delay times\n",
    "united.hist('Delay')"
   ]
  },
  {
   "cell_type": "code",
   "execution_count": 23,
   "metadata": {},
   "outputs": [
    {
     "data": {
      "image/png": "[encoded data removed]",
      "text/plain": [
       "<matplotlib.figure.Figure at 0x5f364ff080>"
      ]
     },
     "metadata": {},
     "output_type": "display_data"
    }
   ],
   "source": [
    "#let's use more bins for clarity\n",
    "united.hist('Delay', bins = np.arange(-20, 300, 10), unit = 'minute')"
   ]
  },
  {
   "cell_type": "code",
   "execution_count": 7,
   "metadata": {},
   "outputs": [
    {
     "data": {
      "text/html": [
       "<table border=\"1\" class=\"dataframe\">\n",
       "    <thead>\n",
       "        <tr>\n",
       "            <th>Date</th> <th>Flight Number</th> <th>Destination</th> <th>Delay</th>\n",
       "        </tr>\n",
       "    </thead>\n",
       "    <tbody>\n",
       "        <tr>\n",
       "            <td>6/1/15</td> <td>292          </td> <td>EWR        </td> <td>12   </td>\n",
       "        </tr>\n",
       "    </tbody>\n",
       "        <tr>\n",
       "            <td>6/1/15</td> <td>408          </td> <td>IAD        </td> <td>14   </td>\n",
       "        </tr>\n",
       "    </tbody>\n",
       "        <tr>\n",
       "            <td>6/1/15</td> <td>433          </td> <td>LAX        </td> <td>10   </td>\n",
       "        </tr>\n",
       "    </tbody>\n",
       "        <tr>\n",
       "            <td>6/1/15</td> <td>477          </td> <td>ORD        </td> <td>10   </td>\n",
       "        </tr>\n",
       "    </tbody>\n",
       "        <tr>\n",
       "            <td>6/1/15</td> <td>624          </td> <td>ORD        </td> <td>10   </td>\n",
       "        </tr>\n",
       "    </tbody>\n",
       "        <tr>\n",
       "            <td>6/1/15</td> <td>794          </td> <td>LIH        </td> <td>17   </td>\n",
       "        </tr>\n",
       "    </tbody>\n",
       "        <tr>\n",
       "            <td>6/1/15</td> <td>1029         </td> <td>LAS        </td> <td>16   </td>\n",
       "        </tr>\n",
       "    </tbody>\n",
       "        <tr>\n",
       "            <td>6/1/15</td> <td>1132         </td> <td>DFW        </td> <td>10   </td>\n",
       "        </tr>\n",
       "    </tbody>\n",
       "        <tr>\n",
       "            <td>6/1/15</td> <td>1138         </td> <td>MSY        </td> <td>10   </td>\n",
       "        </tr>\n",
       "    </tbody>\n",
       "        <tr>\n",
       "            <td>6/1/15</td> <td>1149         </td> <td>EWR        </td> <td>15   </td>\n",
       "        </tr>\n",
       "    </tbody>\n",
       "</table>\n",
       "<p>... (1435 rows omitted)</p"
      ],
      "text/plain": [
       "Date   | Flight Number | Destination | Delay\n",
       "6/1/15 | 292           | EWR         | 12\n",
       "6/1/15 | 408           | IAD         | 14\n",
       "6/1/15 | 433           | LAX         | 10\n",
       "6/1/15 | 477           | ORD         | 10\n",
       "6/1/15 | 624           | ORD         | 10\n",
       "6/1/15 | 794           | LIH         | 17\n",
       "6/1/15 | 1029          | LAS         | 16\n",
       "6/1/15 | 1132          | DFW         | 10\n",
       "6/1/15 | 1138          | MSY         | 10\n",
       "6/1/15 | 1149          | EWR         | 15\n",
       "... (1435 rows omitted)"
      ]
     },
     "execution_count": 7,
     "metadata": {},
     "output_type": "execute_result"
    }
   ],
   "source": [
    "#What proportion of flights were between 10 and 20 min late?\n",
    "# A: ~5%\n",
    "# B: ~10%\n",
    "# C: ~15%\n",
    "# D: ~20%\n",
    "# E: Can't tell\n",
    "\n",
    "united.where('Delay', are.between(10, 20))"
   ]
  },
  {
   "cell_type": "code",
   "execution_count": 25,
   "metadata": {},
   "outputs": [
    {
     "data": {
      "text/plain": [
       "0.10452079566003616"
      ]
     },
     "execution_count": 25,
     "metadata": {},
     "output_type": "execute_result"
    }
   ],
   "source": [
    "#proportion\n",
    "united.where('Delay', are.between(10, 20)).num_rows/united.num_rows"
   ]
  },
  {
   "cell_type": "code",
   "execution_count": 28,
   "metadata": {},
   "outputs": [
    {
     "data": {
      "image/png": "[encoded data removed]",
      "text/plain": [
       "<matplotlib.figure.Figure at 0x5f366d5470>"
      ]
     },
     "metadata": {},
     "output_type": "display_data"
    }
   ],
   "source": [
    "#start with sample of size 100 then go up.\n",
    "#note, if I take 100000 samples it is perfectly fine => with replacements \n",
    "united.sample(100).hist('Delay', bins = np.arange(-20, 300, 10), unit = 'minute')"
   ]
  },
  {
   "cell_type": "code",
   "execution_count": 31,
   "metadata": {},
   "outputs": [
    {
     "ename": "ValueError",
     "evalue": "Cannot take a larger sample than population when 'replace=False'",
     "output_type": "error",
     "traceback": [
      "\u001b[1;31m---------------------------------------------------------------------------\u001b[0m",
      "\u001b[1;31mValueError\u001b[0m                                Traceback (most recent call last)",
      "\u001b[1;32m<ipython-input-31-992234dba279>\u001b[0m in \u001b[0;36m<module>\u001b[1;34m()\u001b[0m\n\u001b[1;32m----> 1\u001b[1;33m \u001b[0munited\u001b[0m\u001b[1;33m.\u001b[0m\u001b[0msample\u001b[0m\u001b[1;33m(\u001b[0m\u001b[1;36m100000\u001b[0m\u001b[1;33m,\u001b[0m \u001b[0mwith_replacement\u001b[0m \u001b[1;33m=\u001b[0m \u001b[1;32mFalse\u001b[0m\u001b[1;33m)\u001b[0m\u001b[1;33m.\u001b[0m\u001b[0mhist\u001b[0m\u001b[1;33m(\u001b[0m\u001b[1;34m'Delay'\u001b[0m\u001b[1;33m,\u001b[0m \u001b[0mbins\u001b[0m \u001b[1;33m=\u001b[0m \u001b[0mnp\u001b[0m\u001b[1;33m.\u001b[0m\u001b[0marange\u001b[0m\u001b[1;33m(\u001b[0m\u001b[1;33m-\u001b[0m\u001b[1;36m20\u001b[0m\u001b[1;33m,\u001b[0m \u001b[1;36m300\u001b[0m\u001b[1;33m,\u001b[0m \u001b[1;36m10\u001b[0m\u001b[1;33m)\u001b[0m\u001b[1;33m,\u001b[0m \u001b[0munit\u001b[0m \u001b[1;33m=\u001b[0m \u001b[1;34m'minute'\u001b[0m\u001b[1;33m)\u001b[0m\u001b[1;33m\u001b[0m\u001b[0m\n\u001b[0m",
      "\u001b[1;32mC:\\Users\\Janine\\Anaconda3\\lib\\site-packages\\datascience\\tables.py\u001b[0m in \u001b[0;36msample\u001b[1;34m(self, k, with_replacement, weights)\u001b[0m\n\u001b[0;32m   1434\u001b[0m         \u001b[1;32mif\u001b[0m \u001b[0mk\u001b[0m \u001b[1;32mis\u001b[0m \u001b[1;32mNone\u001b[0m\u001b[1;33m:\u001b[0m\u001b[1;33m\u001b[0m\u001b[0m\n\u001b[0;32m   1435\u001b[0m             \u001b[0mk\u001b[0m \u001b[1;33m=\u001b[0m \u001b[0mn\u001b[0m\u001b[1;33m\u001b[0m\u001b[0m\n\u001b[1;32m-> 1436\u001b[1;33m         \u001b[0mindex\u001b[0m \u001b[1;33m=\u001b[0m \u001b[0mnp\u001b[0m\u001b[1;33m.\u001b[0m\u001b[0mrandom\u001b[0m\u001b[1;33m.\u001b[0m\u001b[0mchoice\u001b[0m\u001b[1;33m(\u001b[0m\u001b[0mn\u001b[0m\u001b[1;33m,\u001b[0m \u001b[0mk\u001b[0m\u001b[1;33m,\u001b[0m \u001b[0mreplace\u001b[0m\u001b[1;33m=\u001b[0m\u001b[0mwith_replacement\u001b[0m\u001b[1;33m,\u001b[0m \u001b[0mp\u001b[0m\u001b[1;33m=\u001b[0m\u001b[0mweights\u001b[0m\u001b[1;33m)\u001b[0m\u001b[1;33m\u001b[0m\u001b[0m\n\u001b[0m\u001b[0;32m   1437\u001b[0m         \u001b[0mcolumns\u001b[0m \u001b[1;33m=\u001b[0m \u001b[1;33m[\u001b[0m\u001b[1;33m[\u001b[0m\u001b[0mc\u001b[0m\u001b[1;33m[\u001b[0m\u001b[0mi\u001b[0m\u001b[1;33m]\u001b[0m \u001b[1;32mfor\u001b[0m \u001b[0mi\u001b[0m \u001b[1;32min\u001b[0m \u001b[0mindex\u001b[0m\u001b[1;33m]\u001b[0m \u001b[1;32mfor\u001b[0m \u001b[0mc\u001b[0m \u001b[1;32min\u001b[0m \u001b[0mself\u001b[0m\u001b[1;33m.\u001b[0m\u001b[0mcolumns\u001b[0m\u001b[1;33m]\u001b[0m\u001b[1;33m\u001b[0m\u001b[0m\n\u001b[0;32m   1438\u001b[0m         \u001b[0msample\u001b[0m \u001b[1;33m=\u001b[0m \u001b[0mself\u001b[0m\u001b[1;33m.\u001b[0m\u001b[0m_with_columns\u001b[0m\u001b[1;33m(\u001b[0m\u001b[0mcolumns\u001b[0m\u001b[1;33m)\u001b[0m\u001b[1;33m\u001b[0m\u001b[0m\n",
      "\u001b[1;32mmtrand.pyx\u001b[0m in \u001b[0;36mmtrand.RandomState.choice (numpy\\random\\mtrand\\mtrand.c:18113)\u001b[1;34m()\u001b[0m\n",
      "\u001b[1;31mValueError\u001b[0m: Cannot take a larger sample than population when 'replace=False'"
     ]
    }
   ],
   "source": [
    "united.sample(100000, with_replacement = False).hist('Delay', bins = np.arange(-20, 300, 10), unit = 'minute')"
   ]
  },
  {
   "cell_type": "code",
   "execution_count": 32,
   "metadata": {
    "collapsed": true
   },
   "outputs": [],
   "source": [
    "#define a function that takes the number of samples as a parameter\n",
    "def united_sample_and_hist(sample_size):\n",
    "    return united.sample(sample_size).hist('Delay', bins = np.arange(-20, 300, 10), unit = 'minute')"
   ]
  },
  {
   "cell_type": "code",
   "execution_count": 17,
   "metadata": {},
   "outputs": [
    {
     "data": {
      "image/png": "[encoded data removed]",
      "text/plain": [
       "<matplotlib.figure.Figure at 0x7f92da068518>"
      ]
     },
     "metadata": {},
     "output_type": "display_data"
    }
   ],
   "source": [
    "united_sample_and_hist(100)"
   ]
  },
  {
   "cell_type": "markdown",
   "metadata": {},
   "source": [
    "## At least one 6"
   ]
  },
  {
   "cell_type": "code",
   "execution_count": 33,
   "metadata": {
    "collapsed": true
   },
   "outputs": [],
   "source": [
    "#Roll a die 4 times. What's P(at least one 6)?\n",
    "# A: 5/6\n",
    "# B: 1-5/6\n",
    "# C: 1-(5/6)**4\n",
    "# D: 1-(1/6)**4\n",
    "# E: None of the above\n"
   ]
  },
  {
   "cell_type": "code",
   "execution_count": 34,
   "metadata": {
    "collapsed": true
   },
   "outputs": [],
   "source": [
    "#Roll a die 5 times. What's P(at least one 6)?\n",
    "rolls = 5\n",
    "#What is the formula? \n",
    "\n",
    "\n",
    "\n",
    "\n",
    "\n",
    "\n",
    "\n",
    "\n",
    "\n",
    "\n",
    "\n",
    "\n",
    "\n"
   ]
  },
  {
   "cell_type": "code",
   "execution_count": 35,
   "metadata": {},
   "outputs": [
    {
     "data": {
      "text/plain": [
       "array([ 0.16666667,  0.30555556,  0.4212963 ,  0.51774691,  0.59812243,\n",
       "        0.66510202,  0.72091835,  0.76743196,  0.8061933 ,  0.83849442,\n",
       "        0.86541201,  0.88784335,  0.90653612,  0.92211343,  0.93509453,\n",
       "        0.94591211,  0.95492676,  0.96243896,  0.96869914,  0.97391595,\n",
       "        0.97826329,  0.98188607,  0.98490506,  0.98742088,  0.9895174 ,\n",
       "        0.9912645 ,  0.99272042,  0.99393368,  0.99494474,  0.99578728,\n",
       "        0.9964894 ,  0.9970745 ,  0.99756208,  0.9979684 ,  0.998307  ,\n",
       "        0.99858917,  0.99882431,  0.99902026,  0.99918355,  0.99931962,\n",
       "        0.99943302,  0.99952752,  0.99960626,  0.99967189,  0.99972657,\n",
       "        0.99977214,  0.99981012,  0.99984177,  0.99986814,  0.99989012])"
      ]
     },
     "execution_count": 35,
     "metadata": {},
     "output_type": "execute_result"
    }
   ],
   "source": [
    "#let's increase the number of rolls. What do you expect to see? \n",
    "rolls = np.arange(1, 51)\n",
    "1-(5/6)**rolls"
   ]
  },
  {
   "cell_type": "code",
   "execution_count": 36,
   "metadata": {},
   "outputs": [
    {
     "data": {
      "text/html": [
       "<table border=\"1\" class=\"dataframe\">\n",
       "    <thead>\n",
       "        <tr>\n",
       "            <th>roll</th> <th>Chance of getting at least one 6</th>\n",
       "        </tr>\n",
       "    </thead>\n",
       "    <tbody>\n",
       "        <tr>\n",
       "            <td>1   </td> <td>0.166667                        </td>\n",
       "        </tr>\n",
       "    </tbody>\n",
       "        <tr>\n",
       "            <td>2   </td> <td>0.305556                        </td>\n",
       "        </tr>\n",
       "    </tbody>\n",
       "        <tr>\n",
       "            <td>3   </td> <td>0.421296                        </td>\n",
       "        </tr>\n",
       "    </tbody>\n",
       "        <tr>\n",
       "            <td>4   </td> <td>0.517747                        </td>\n",
       "        </tr>\n",
       "    </tbody>\n",
       "        <tr>\n",
       "            <td>5   </td> <td>0.598122                        </td>\n",
       "        </tr>\n",
       "    </tbody>\n",
       "        <tr>\n",
       "            <td>6   </td> <td>0.665102                        </td>\n",
       "        </tr>\n",
       "    </tbody>\n",
       "        <tr>\n",
       "            <td>7   </td> <td>0.720918                        </td>\n",
       "        </tr>\n",
       "    </tbody>\n",
       "        <tr>\n",
       "            <td>8   </td> <td>0.767432                        </td>\n",
       "        </tr>\n",
       "    </tbody>\n",
       "        <tr>\n",
       "            <td>9   </td> <td>0.806193                        </td>\n",
       "        </tr>\n",
       "    </tbody>\n",
       "        <tr>\n",
       "            <td>10  </td> <td>0.838494                        </td>\n",
       "        </tr>\n",
       "    </tbody>\n",
       "</table>\n",
       "<p>... (40 rows omitted)</p"
      ],
      "text/plain": [
       "roll | Chance of getting at least one 6\n",
       "1    | 0.166667\n",
       "2    | 0.305556\n",
       "3    | 0.421296\n",
       "4    | 0.517747\n",
       "5    | 0.598122\n",
       "6    | 0.665102\n",
       "7    | 0.720918\n",
       "8    | 0.767432\n",
       "9    | 0.806193\n",
       "10   | 0.838494\n",
       "... (40 rows omitted)"
      ]
     },
     "execution_count": 36,
     "metadata": {},
     "output_type": "execute_result"
    }
   ],
   "source": [
    "#put it in a table and plot it\n",
    "rolls = np.arange(1, 51)\n",
    "at_least_one = Table().with_columns('roll', rolls, 'Chance of getting at least one 6', 1-(5/6)**rolls)\n",
    "at_least_one"
   ]
  },
  {
   "cell_type": "code",
   "execution_count": 37,
   "metadata": {},
   "outputs": [
    {
     "data": {
      "image/png": "[encoded data removed]",
      "text/plain": [
       "<matplotlib.figure.Figure at 0x5f34cd0390>"
      ]
     },
     "metadata": {},
     "output_type": "display_data"
    }
   ],
   "source": [
    "#plot\n",
    "at_least_one.scatter('roll')"
   ]
  },
  {
   "cell_type": "code",
   "execution_count": 39,
   "metadata": {},
   "outputs": [
    {
     "data": {
      "text/html": [
       "<table border=\"1\" class=\"dataframe\">\n",
       "    <thead>\n",
       "        <tr>\n",
       "            <th>roll</th> <th>Chance of getting at least one 6</th>\n",
       "        </tr>\n",
       "    </thead>\n",
       "    <tbody>\n",
       "        <tr>\n",
       "            <td>20  </td> <td>0.973916                        </td>\n",
       "        </tr>\n",
       "    </tbody>\n",
       "</table>"
      ],
      "text/plain": [
       "roll | Chance of getting at least one 6\n",
       "20   | 0.973916"
      ]
     },
     "execution_count": 39,
     "metadata": {},
     "output_type": "execute_result"
    }
   ],
   "source": [
    "#let's take a look at one particular probability\n",
    "at_least_one.where('roll', 20)"
   ]
  },
  {
   "cell_type": "code",
   "execution_count": 40,
   "metadata": {},
   "outputs": [
    {
     "data": {
      "text/plain": [
       "array([3, 5, 1, 1, 2, 2, 2, 6, 4, 2, 5, 2, 1, 6, 5, 1, 3, 5, 2, 5])"
      ]
     },
     "execution_count": 40,
     "metadata": {},
     "output_type": "execute_result"
    }
   ],
   "source": [
    "#now we are going to simulate\n",
    "faces = np.arange(1, 7)\n",
    "outcomes = np.random.choice(faces, 20) # pick random number from faces, 20 times\n",
    "outcomes"
   ]
  },
  {
   "cell_type": "code",
   "execution_count": 41,
   "metadata": {},
   "outputs": [
    {
     "data": {
      "text/plain": [
       "2"
      ]
     },
     "execution_count": 41,
     "metadata": {},
     "output_type": "execute_result"
    }
   ],
   "source": [
    "np.count_nonzero(outcomes == 6)"
   ]
  },
  {
   "cell_type": "code",
   "execution_count": 42,
   "metadata": {},
   "outputs": [
    {
     "data": {
      "text/plain": [
       "0.9741"
      ]
     },
     "execution_count": 42,
     "metadata": {},
     "output_type": "execute_result"
    }
   ],
   "source": [
    "luck = 0\n",
    "trials =  10000\n",
    "for i in np.arange(trials):\n",
    "    outcomes = np.random.choice(faces, 20)\n",
    "    if np.count_nonzero(outcomes == 6) >=1:\n",
    "        luck = luck + 1\n",
    "        \n",
    "#estimate the probability\n",
    "luck/trials"
   ]
  },
  {
   "cell_type": "code",
   "execution_count": null,
   "metadata": {
    "collapsed": true
   },
   "outputs": [],
   "source": [
    "#now let's talk about Statistics (slides)"
   ]
  },
  {
   "cell_type": "markdown",
   "metadata": {},
   "source": [
    "## Estimation"
   ]
  },
  {
   "cell_type": "code",
   "execution_count": 43,
   "metadata": {},
   "outputs": [
    {
     "data": {
      "text/plain": [
       "0.978"
      ]
     },
     "execution_count": 43,
     "metadata": {},
     "output_type": "execute_result"
    }
   ],
   "source": [
    "def roll_20(trials):\n",
    "    luck = 0\n",
    "    for i in np.arange(trials):\n",
    "        outcomes = np.random.choice(faces, 20)\n",
    "        if np.count_nonzero(outcomes == 6) >=1:\n",
    "            luck = luck + 1\n",
    "        \n",
    "    #estimate the probability\n",
    "    return luck/trials\n",
    "\n",
    "roll_20(1000)"
   ]
  },
  {
   "cell_type": "code",
   "execution_count": 44,
   "metadata": {},
   "outputs": [
    {
     "data": {
      "text/html": [
       "<table border=\"1\" class=\"dataframe\">\n",
       "    <thead>\n",
       "        <tr>\n",
       "            <th>estimates</th>\n",
       "        </tr>\n",
       "    </thead>\n",
       "    <tbody>\n",
       "        <tr>\n",
       "            <td>0.981    </td>\n",
       "        </tr>\n",
       "    </tbody>\n",
       "        <tr>\n",
       "            <td>0.979    </td>\n",
       "        </tr>\n",
       "    </tbody>\n",
       "        <tr>\n",
       "            <td>0.982    </td>\n",
       "        </tr>\n",
       "    </tbody>\n",
       "        <tr>\n",
       "            <td>0.971    </td>\n",
       "        </tr>\n",
       "    </tbody>\n",
       "        <tr>\n",
       "            <td>0.969    </td>\n",
       "        </tr>\n",
       "    </tbody>\n",
       "        <tr>\n",
       "            <td>0.972    </td>\n",
       "        </tr>\n",
       "    </tbody>\n",
       "        <tr>\n",
       "            <td>0.982    </td>\n",
       "        </tr>\n",
       "    </tbody>\n",
       "        <tr>\n",
       "            <td>0.976    </td>\n",
       "        </tr>\n",
       "    </tbody>\n",
       "        <tr>\n",
       "            <td>0.969    </td>\n",
       "        </tr>\n",
       "    </tbody>\n",
       "        <tr>\n",
       "            <td>0.969    </td>\n",
       "        </tr>\n",
       "    </tbody>\n",
       "</table>\n",
       "<p>... (190 rows omitted)</p"
      ],
      "text/plain": [
       "estimates\n",
       "0.981\n",
       "0.979\n",
       "0.982\n",
       "0.971\n",
       "0.969\n",
       "0.972\n",
       "0.982\n",
       "0.976\n",
       "0.969\n",
       "0.969\n",
       "... (190 rows omitted)"
      ]
     },
     "execution_count": 44,
     "metadata": {},
     "output_type": "execute_result"
    }
   ],
   "source": [
    "#let's call this method a bunch of times using another for loop\n",
    "estimates = Table(['estimates'])\n",
    "for i in np.arange(200):\n",
    "    estimates.append([roll_20(1000)])\n",
    "    \n",
    "estimates        "
   ]
  },
  {
   "cell_type": "code",
   "execution_count": 45,
   "metadata": {},
   "outputs": [
    {
     "data": {
      "image/png": "[encoded data removed]",
      "text/plain": [
       "<matplotlib.figure.Figure at 0x5f34f9b4e0>"
      ]
     },
     "metadata": {},
     "output_type": "display_data"
    }
   ],
   "source": [
    "#let's draw a distribuition\n",
    "estimates.group(0).barh(0)"
   ]
  },
  {
   "cell_type": "code",
   "execution_count": 46,
   "metadata": {},
   "outputs": [
    {
     "data": {
      "image/png": "[encoded data removed]",
      "text/plain": [
       "<matplotlib.figure.Figure at 0x5f36afe208>"
      ]
     },
     "metadata": {},
     "output_type": "display_data"
    }
   ],
   "source": [
    "estimates.hist(0)"
   ]
  },
  {
   "cell_type": "markdown",
   "metadata": {},
   "source": [
    "## Planes"
   ]
  },
  {
   "cell_type": "code",
   "execution_count": 47,
   "metadata": {},
   "outputs": [
    {
     "data": {
      "text/html": [
       "<table border=\"1\" class=\"dataframe\">\n",
       "    <thead>\n",
       "        <tr>\n",
       "            <th>Serial number</th>\n",
       "        </tr>\n",
       "    </thead>\n",
       "    <tbody>\n",
       "        <tr>\n",
       "            <td>1            </td>\n",
       "        </tr>\n",
       "    </tbody>\n",
       "        <tr>\n",
       "            <td>2            </td>\n",
       "        </tr>\n",
       "    </tbody>\n",
       "        <tr>\n",
       "            <td>3            </td>\n",
       "        </tr>\n",
       "    </tbody>\n",
       "        <tr>\n",
       "            <td>4            </td>\n",
       "        </tr>\n",
       "    </tbody>\n",
       "        <tr>\n",
       "            <td>5            </td>\n",
       "        </tr>\n",
       "    </tbody>\n",
       "        <tr>\n",
       "            <td>6            </td>\n",
       "        </tr>\n",
       "    </tbody>\n",
       "        <tr>\n",
       "            <td>7            </td>\n",
       "        </tr>\n",
       "    </tbody>\n",
       "        <tr>\n",
       "            <td>8            </td>\n",
       "        </tr>\n",
       "    </tbody>\n",
       "        <tr>\n",
       "            <td>9            </td>\n",
       "        </tr>\n",
       "    </tbody>\n",
       "        <tr>\n",
       "            <td>10           </td>\n",
       "        </tr>\n",
       "    </tbody>\n",
       "</table>\n",
       "<p>... (289 rows omitted)</p"
      ],
      "text/plain": [
       "Serial number\n",
       "1\n",
       "2\n",
       "3\n",
       "4\n",
       "5\n",
       "6\n",
       "7\n",
       "8\n",
       "9\n",
       "10\n",
       "... (289 rows omitted)"
      ]
     },
     "execution_count": 47,
     "metadata": {},
     "output_type": "execute_result"
    }
   ],
   "source": [
    "N = 300\n",
    "serialno = Table().with_column('Serial number', np.arange(1, 300))\n",
    "serialno"
   ]
  },
  {
   "cell_type": "code",
   "execution_count": 48,
   "metadata": {},
   "outputs": [
    {
     "data": {
      "text/html": [
       "<table border=\"1\" class=\"dataframe\">\n",
       "    <thead>\n",
       "        <tr>\n",
       "            <th>Serial number</th>\n",
       "        </tr>\n",
       "    </thead>\n",
       "    <tbody>\n",
       "        <tr>\n",
       "            <td>185          </td>\n",
       "        </tr>\n",
       "    </tbody>\n",
       "        <tr>\n",
       "            <td>142          </td>\n",
       "        </tr>\n",
       "    </tbody>\n",
       "        <tr>\n",
       "            <td>293          </td>\n",
       "        </tr>\n",
       "    </tbody>\n",
       "        <tr>\n",
       "            <td>37           </td>\n",
       "        </tr>\n",
       "    </tbody>\n",
       "        <tr>\n",
       "            <td>186          </td>\n",
       "        </tr>\n",
       "    </tbody>\n",
       "        <tr>\n",
       "            <td>35           </td>\n",
       "        </tr>\n",
       "    </tbody>\n",
       "        <tr>\n",
       "            <td>213          </td>\n",
       "        </tr>\n",
       "    </tbody>\n",
       "        <tr>\n",
       "            <td>150          </td>\n",
       "        </tr>\n",
       "    </tbody>\n",
       "        <tr>\n",
       "            <td>283          </td>\n",
       "        </tr>\n",
       "    </tbody>\n",
       "        <tr>\n",
       "            <td>278          </td>\n",
       "        </tr>\n",
       "    </tbody>\n",
       "</table>\n",
       "<p>... (20 rows omitted)</p"
      ],
      "text/plain": [
       "Serial number\n",
       "185\n",
       "142\n",
       "293\n",
       "37\n",
       "186\n",
       "35\n",
       "213\n",
       "150\n",
       "283\n",
       "278\n",
       "... (20 rows omitted)"
      ]
     },
     "execution_count": 48,
     "metadata": {},
     "output_type": "execute_result"
    }
   ],
   "source": [
    "serialno.sample(30)"
   ]
  },
  {
   "cell_type": "code",
   "execution_count": 49,
   "metadata": {},
   "outputs": [
    {
     "data": {
      "text/plain": [
       "277"
      ]
     },
     "execution_count": 49,
     "metadata": {},
     "output_type": "execute_result"
    }
   ],
   "source": [
    "serialno.sample(30).column(0).max()"
   ]
  },
  {
   "cell_type": "code",
   "execution_count": 50,
   "metadata": {},
   "outputs": [
    {
     "data": {
      "text/plain": [
       "array([ 291.,  293.,  297.,  281.,  279.,  298.,  299.,  257.,  297.,\n",
       "        297.,  296.,  292.,  288.,  296.,  296.,  297.,  292.,  265.,\n",
       "        280.,  291.,  297.,  298.,  292.,  294.,  291.,  295.,  296.,\n",
       "        292.,  289.,  299.,  281.,  288.,  293.,  287.,  299.,  278.,\n",
       "        288.,  290.,  297.,  292.,  296.,  287.,  295.,  292.,  276.,\n",
       "        290.,  296.,  276.,  297.,  282.,  298.,  295.,  288.,  297.,\n",
       "        291.,  282.,  289.,  297.,  287.,  298.,  293.,  299.,  282.,\n",
       "        288.,  298.,  290.,  292.,  296.,  284.,  292.,  291.,  278.,\n",
       "        299.,  298.,  274.,  290.,  296.,  282.,  294.,  299.,  294.,\n",
       "        279.,  295.,  298.,  293.,  290.,  291.,  297.,  299.,  289.,\n",
       "        284.,  294.,  276.,  292.,  293.,  293.,  299.,  291.,  292.,\n",
       "        281.,  298.,  289.,  294.,  285.,  299.,  299.,  287.,  294.,\n",
       "        293.,  291.,  293.,  293.,  273.,  298.,  298.,  299.,  299.,\n",
       "        298.,  296.,  296.,  289.,  293.,  297.,  296.,  284.,  297.,\n",
       "        296.,  291.,  295.,  277.,  285.,  280.,  288.,  271.,  293.,\n",
       "        292.,  294.,  264.,  296.,  295.,  296.,  293.,  294.,  299.,\n",
       "        295.,  280.,  295.,  296.,  288.,  294.,  297.,  292.,  299.,\n",
       "        295.,  296.,  281.,  286.,  273.,  295.,  299.,  286.,  299.,\n",
       "        296.,  298.,  294.,  298.,  268.,  289.,  288.,  278.,  282.,\n",
       "        285.,  294.,  290.,  299.,  290.,  290.,  299.,  297.,  279.,\n",
       "        297.,  287.,  289.,  299.,  286.,  288.,  291.,  299.,  294.,\n",
       "        299.,  290.,  294.,  286.,  294.,  281.,  297.,  299.,  280.,\n",
       "        299.,  299.,  286.,  299.,  295.,  295.,  295.,  281.,  260.,\n",
       "        294.,  297.,  295.,  277.,  293.,  296.,  290.,  289.,  289.,\n",
       "        298.,  295.,  295.,  299.,  296.,  293.,  298.,  292.,  298.,\n",
       "        293.,  268.,  298.,  297.,  288.,  298.,  295.,  297.,  299.,\n",
       "        292.,  299.,  299.,  297.,  295.,  299.,  296.,  296.,  293.,\n",
       "        280.,  288.,  292.,  299.,  298.,  293.,  297.,  294.,  282.,\n",
       "        291.,  287.,  294.,  296.,  299.,  296.,  295.,  298.,  274.,\n",
       "        289.,  284.,  289.,  286.,  292.,  295.,  297.,  296.,  295.,\n",
       "        287.,  274.,  295.,  297.,  284.,  287.,  299.,  296.,  292.,\n",
       "        294.,  292.,  296.,  294.,  290.,  298.,  293.,  299.,  294.,\n",
       "        296.,  291.,  298.,  296.,  298.,  298.,  288.,  299.,  290.,\n",
       "        269.,  296.,  281.,  287.,  296.,  297.,  289.,  299.,  299.,\n",
       "        291.,  295.,  289.,  299.,  288.,  295.,  280.,  295.,  289.,\n",
       "        295.,  281.,  284.,  298.,  295.,  287.,  288.,  287.,  294.,\n",
       "        298.,  295.,  299.,  292.,  299.,  251.,  296.,  299.,  298.,\n",
       "        291.,  296.,  284.,  295.,  278.,  269.,  297.,  297.,  280.,\n",
       "        273.,  290.,  298.,  251.,  270.,  294.,  280.,  288.,  298.,\n",
       "        297.,  298.,  298.,  288.,  271.,  281.,  299.,  293.,  290.,\n",
       "        293.,  294.,  297.,  296.,  275.,  284.,  298.,  294.,  298.,\n",
       "        291.,  296.,  295.,  299.,  291.,  295.,  287.,  286.,  290.,\n",
       "        288.,  295.,  293.,  296.,  295.,  288.,  297.,  288.,  289.,\n",
       "        287.,  285.,  280.,  291.,  296.,  275.,  289.,  294.,  282.,\n",
       "        294.,  283.,  297.,  286.,  291.,  286.,  297.,  295.,  296.,\n",
       "        287.,  298.,  275.,  299.,  293.,  296.,  275.,  285.,  276.,\n",
       "        295.,  265.,  299.,  299.,  297.,  283.,  297.,  281.,  299.,\n",
       "        275.,  293.,  294.,  270.,  283.,  281.,  296.,  287.,  298.,\n",
       "        275.,  297.,  276.,  289.,  297.,  273.,  256.,  296.,  287.,\n",
       "        296.,  296.,  299.,  295.,  297.,  287.,  289.,  276.,  285.,\n",
       "        298.,  297.,  270.,  299.,  296.,  295.,  294.,  268.,  297.,\n",
       "        284.,  299.,  271.,  293.,  291.,  297.,  291.,  285.,  292.,\n",
       "        291.,  296.,  298.,  296.,  293.,  299.,  287.,  296.,  285.,\n",
       "        281.,  295.,  298.,  299.,  295.,  295.,  284.,  285.,  294.,\n",
       "        297.,  299.,  270.,  269.,  292.,  299.,  294.,  283.,  288.,\n",
       "        286.,  276.,  287.,  293.,  277.,  269.,  297.,  280.,  284.,\n",
       "        293.,  293.,  290.,  291.,  298.,  299.,  266.,  289.,  293.,\n",
       "        285.,  279.,  297.,  293.,  293.,  296.,  297.,  298.,  297.,\n",
       "        283.,  270.,  295.,  293.,  279.,  273.,  286.,  293.,  291.,\n",
       "        292.,  295.,  292.,  285.,  297.,  295.,  298.,  293.,  291.,\n",
       "        286.,  294.,  285.,  298.,  281.,  292.,  295.,  298.,  282.,\n",
       "        271.,  299.,  275.,  288.,  290.,  275.,  293.,  299.,  294.,\n",
       "        297.,  287.,  282.,  289.,  270.,  295.,  289.,  299.,  288.,\n",
       "        289.,  292.,  280.,  288.,  294.,  282.,  293.,  299.,  280.,\n",
       "        297.,  283.,  277.,  290.,  252.,  289.,  291.,  294.,  287.,\n",
       "        288.,  286.,  297.,  282.,  280.,  297.,  286.,  291.,  298.,\n",
       "        298.,  295.,  294.,  288.,  298.,  295.,  289.,  291.,  295.,\n",
       "        292.,  297.,  296.,  281.,  264.,  295.,  297.,  296.,  287.,\n",
       "        280.,  297.,  294.,  299.,  277.,  296.,  283.,  271.,  286.,\n",
       "        295.,  274.,  286.,  280.,  297.,  295.,  294.,  291.,  273.,\n",
       "        294.,  298.,  299.,  295.,  277.,  298.,  291.,  287.,  292.,\n",
       "        280.,  290.,  299.,  284.,  295.,  268.,  288.,  299.,  286.,\n",
       "        298.,  280.,  295.,  294.,  257.,  289.,  298.,  281.,  298.,\n",
       "        289.,  295.,  299.,  287.,  299.,  285.,  274.,  275.,  292.,\n",
       "        297.,  282.,  298.,  287.,  293.,  293.,  294.,  294.,  299.,\n",
       "        291.,  288.,  291.,  292.,  298.,  298.,  290.,  298.,  291.,\n",
       "        281.,  298.,  294.,  297.,  299.,  286.,  288.,  294.,  287.,\n",
       "        260.,  291.,  298.,  298.,  297.,  298.,  295.,  294.,  288.,\n",
       "        287.,  289.,  284.,  299.,  289.,  291.,  282.,  298.,  291.,\n",
       "        296.,  267.,  292.,  280.,  280.,  291.,  297.,  285.,  290.,\n",
       "        286.,  296.,  294.,  287.,  283.,  299.,  285.,  278.,  253.,\n",
       "        296.,  277.,  288.,  299.,  298.,  293.,  287.,  279.,  292.,\n",
       "        298.,  298.,  285.,  283.,  297.,  298.,  299.,  294.,  294.,\n",
       "        297.,  298.,  294.,  290.,  294.,  296.,  295.,  299.,  291.,\n",
       "        296.,  298.,  299.,  290.,  299.,  294.,  281.,  297.,  298.,\n",
       "        296.,  275.,  295.,  287.,  288.,  284.,  291.,  289.,  298.,\n",
       "        286.,  283.,  274.,  262.,  295.,  291.,  295.,  293.,  297.,\n",
       "        281.,  295.,  289.,  299.,  296.,  289.,  286.,  297.,  297.,\n",
       "        297.,  290.,  282.,  297.,  299.,  294.,  294.,  299.,  291.,\n",
       "        292.,  294.,  274.,  299.,  273.,  294.,  299.,  295.,  286.,\n",
       "        297.,  295.,  295.,  298.,  289.,  293.,  295.,  296.,  291.,\n",
       "        299.,  278.,  284.,  298.,  292.,  299.,  291.,  299.,  281.,\n",
       "        284.,  294.,  295.,  280.,  296.,  294.,  298.,  288.,  291.,\n",
       "        272.,  295.,  293.,  281.,  298.,  294.,  291.,  288.,  285.,\n",
       "        295.,  299.,  285.,  292.,  286.,  286.,  293.,  288.,  295.,\n",
       "        294.,  289.,  298.,  298.,  299.,  280.,  295.,  299.,  296.,\n",
       "        296.,  286.,  299.,  298.,  296.,  297.,  294.,  258.,  286.,\n",
       "        288.,  289.,  297.,  299.,  296.,  292.,  297.,  298.,  297.,\n",
       "        299.,  256.,  295.,  290.,  281.,  282.,  280.,  299.,  271.,\n",
       "        295.,  284.,  299.,  293.,  299.,  298.,  286.,  287.,  275.,\n",
       "        299.,  276.,  276.,  291.,  297.,  290.,  295.,  299.,  297.,\n",
       "        278.,  289.,  290.,  298.,  298.,  291.,  297.,  296.,  297.,\n",
       "        283.,  287.,  266.,  293.,  286.,  287.,  296.,  279.,  283.,\n",
       "        289.,  293.,  293.,  292.,  296.,  296.,  284.,  299.,  299.,\n",
       "        298.,  290.,  289.,  297.,  276.,  286.,  295.,  293.,  286.,\n",
       "        299.,  289.,  297.,  289.,  268.,  298.,  294.,  286.,  256.,\n",
       "        286.,  291.,  298.,  285.,  282.,  299.,  283.,  296.,  299.,\n",
       "        297.,  299.,  283.,  299.,  295.,  263.,  284.,  297.,  293.,\n",
       "        296.,  289.,  299.,  292.,  294.,  274.,  290.,  298.,  299.,\n",
       "        297.,  297.,  292.,  283.,  296.,  281.,  269.,  299.,  260.,\n",
       "        297.,  295.,  296.,  298.,  293.,  298.,  296.,  296.,  299.,  299.])"
      ]
     },
     "execution_count": 50,
     "metadata": {},
     "output_type": "execute_result"
    }
   ],
   "source": [
    "repetitions = 1000\n",
    "sample_size = 30\n",
    "maxes = make_array()\n",
    "for i in np.arange(repetitions):\n",
    "    m = serialno.sample(sample_size).column(0).max()\n",
    "    maxes = np.append(maxes, m)\n",
    "maxes"
   ]
  },
  {
   "cell_type": "code",
   "execution_count": 51,
   "metadata": {},
   "outputs": [
    {
     "data": {
      "text/html": [
       "<table border=\"1\" class=\"dataframe\">\n",
       "    <thead>\n",
       "        <tr>\n",
       "            <th>estimated_N</th>\n",
       "        </tr>\n",
       "    </thead>\n",
       "    <tbody>\n",
       "        <tr>\n",
       "            <td>291        </td>\n",
       "        </tr>\n",
       "    </tbody>\n",
       "        <tr>\n",
       "            <td>293        </td>\n",
       "        </tr>\n",
       "    </tbody>\n",
       "        <tr>\n",
       "            <td>297        </td>\n",
       "        </tr>\n",
       "    </tbody>\n",
       "        <tr>\n",
       "            <td>281        </td>\n",
       "        </tr>\n",
       "    </tbody>\n",
       "        <tr>\n",
       "            <td>279        </td>\n",
       "        </tr>\n",
       "    </tbody>\n",
       "        <tr>\n",
       "            <td>298        </td>\n",
       "        </tr>\n",
       "    </tbody>\n",
       "        <tr>\n",
       "            <td>299        </td>\n",
       "        </tr>\n",
       "    </tbody>\n",
       "        <tr>\n",
       "            <td>257        </td>\n",
       "        </tr>\n",
       "    </tbody>\n",
       "        <tr>\n",
       "            <td>297        </td>\n",
       "        </tr>\n",
       "    </tbody>\n",
       "        <tr>\n",
       "            <td>297        </td>\n",
       "        </tr>\n",
       "    </tbody>\n",
       "</table>\n",
       "<p>... (990 rows omitted)</p"
      ],
      "text/plain": [
       "estimated_N\n",
       "291\n",
       "293\n",
       "297\n",
       "281\n",
       "279\n",
       "298\n",
       "299\n",
       "257\n",
       "297\n",
       "297\n",
       "... (990 rows omitted)"
      ]
     },
     "execution_count": 51,
     "metadata": {},
     "output_type": "execute_result"
    }
   ],
   "source": [
    "estimates = Table().with_column(\"estimated_N\", maxes)\n",
    "estimates"
   ]
  },
  {
   "cell_type": "code",
   "execution_count": 52,
   "metadata": {},
   "outputs": [
    {
     "data": {
      "image/png": "[encoded data removed]",
      "text/plain": [
       "<matplotlib.figure.Figure at 0x5f36abcd30>"
      ]
     },
     "metadata": {},
     "output_type": "display_data"
    }
   ],
   "source": [
    "estimates.hist(0)"
   ]
  },
  {
   "cell_type": "code",
   "execution_count": 53,
   "metadata": {},
   "outputs": [
    {
     "data": {
      "image/png": "[encoded data removed]",
      "text/plain": [
       "<matplotlib.figure.Figure at 0x5f36bcbe48>"
      ]
     },
     "metadata": {},
     "output_type": "display_data"
    }
   ],
   "source": [
    "estimates.hist(0, bins = np.arange(1, 400, 10))"
   ]
  },
  {
   "cell_type": "code",
   "execution_count": 55,
   "metadata": {},
   "outputs": [
    {
     "data": {
      "text/html": [
       "<table border=\"1\" class=\"dataframe\">\n",
       "    <thead>\n",
       "        <tr>\n",
       "            <th>largest # seen</th> <th>2*average</th>\n",
       "        </tr>\n",
       "    </thead>\n",
       "    <tbody>\n",
       "        <tr>\n",
       "            <td>294           </td> <td>335      </td>\n",
       "        </tr>\n",
       "    </tbody>\n",
       "        <tr>\n",
       "            <td>296           </td> <td>276.4    </td>\n",
       "        </tr>\n",
       "    </tbody>\n",
       "        <tr>\n",
       "            <td>294           </td> <td>302      </td>\n",
       "        </tr>\n",
       "    </tbody>\n",
       "        <tr>\n",
       "            <td>298           </td> <td>353.867  </td>\n",
       "        </tr>\n",
       "    </tbody>\n",
       "        <tr>\n",
       "            <td>293           </td> <td>338.133  </td>\n",
       "        </tr>\n",
       "    </tbody>\n",
       "        <tr>\n",
       "            <td>293           </td> <td>287.333  </td>\n",
       "        </tr>\n",
       "    </tbody>\n",
       "        <tr>\n",
       "            <td>292           </td> <td>253.867  </td>\n",
       "        </tr>\n",
       "    </tbody>\n",
       "        <tr>\n",
       "            <td>269           </td> <td>303.333  </td>\n",
       "        </tr>\n",
       "    </tbody>\n",
       "        <tr>\n",
       "            <td>299           </td> <td>301.133  </td>\n",
       "        </tr>\n",
       "    </tbody>\n",
       "        <tr>\n",
       "            <td>278           </td> <td>303.8    </td>\n",
       "        </tr>\n",
       "    </tbody>\n",
       "</table>\n",
       "<p>... (990 rows omitted)</p"
      ],
      "text/plain": [
       "largest # seen | 2*average\n",
       "294            | 335\n",
       "296            | 276.4\n",
       "294            | 302\n",
       "298            | 353.867\n",
       "293            | 338.133\n",
       "293            | 287.333\n",
       "292            | 253.867\n",
       "269            | 303.333\n",
       "299            | 301.133\n",
       "278            | 303.8\n",
       "... (990 rows omitted)"
      ]
     },
     "execution_count": 55,
     "metadata": {},
     "output_type": "execute_result"
    }
   ],
   "source": [
    "repetitions = 1000\n",
    "sample_size = 30\n",
    "maxes = make_array()\n",
    "doubles = make_array()\n",
    "\n",
    "for i in np.arange(repetitions):\n",
    "    sample = serialno.sample(sample_size).column(0)\n",
    "    maxes = np.append(maxes, sample.max())\n",
    "    doubles = np.append(doubles, np.average(sample)*2)\n",
    "\n",
    "estimates = Table().with_columns(\"largest # seen\", maxes, '2*average', doubles)\n",
    "estimates"
   ]
  },
  {
   "cell_type": "code",
   "execution_count": 56,
   "metadata": {},
   "outputs": [
    {
     "data": {
      "image/png": "[encoded data removed]",
      "text/plain": [
       "<matplotlib.figure.Figure at 0x5f36eb2588>"
      ]
     },
     "metadata": {},
     "output_type": "display_data"
    }
   ],
   "source": [
    "estimates.hist(bins = np.arange(1, 400, 10))"
   ]
  },
  {
   "cell_type": "code",
   "execution_count": null,
   "metadata": {
    "collapsed": true
   },
   "outputs": [],
   "source": []
  }
 ],
 "metadata": {
  "kernelspec": {
   "display_name": "Python 3",
   "language": "python",
   "name": "python3"
  },
  "language_info": {
   "codemirror_mode": {
    "name": "ipython",
    "version": 3
   },
   "file_extension": ".py",
   "mimetype": "text/x-python",
   "name": "python",
   "nbconvert_exporter": "python",
   "pygments_lexer": "ipython3",
   "version": "3.6.1"
  },
  "name": "_merged"
 },
 "nbformat": 4,
 "nbformat_minor": 2
}
