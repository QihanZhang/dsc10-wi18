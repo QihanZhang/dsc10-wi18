{
 "cells": [
  {
   "cell_type": "code",
   "execution_count": 2,
   "metadata": {
    "collapsed": true
   },
   "outputs": [],
   "source": [
    "import numpy as np\n",
    "from datascience import *\n",
    "\n",
    "%matplotlib inline\n",
    "import matplotlib.pyplot as plots\n",
    "plots.style.use('fivethirtyeight')"
   ]
  },
  {
   "cell_type": "markdown",
   "metadata": {},
   "source": [
    "# Week 3\n",
    "\n",
    "Topics to go over:\n",
    "\n",
    "- Histograms (Question 2.1 - 2.5)\n",
    "    - Horizontal and vertical axes \n",
    "    - Counts in bins, Unequal bins\n",
    "    - General principle/ Calculations\n",
    "    - Bar chart vs. Histograms\n",
    "\n",
    "- Functions \n",
    "    - def statements (Question 3.1 , 4.1)\n",
    "    - apply (Question 3.2)\n",
    "    - Functions as values "
   ]
  },
  {
   "cell_type": "markdown",
   "metadata": {},
   "source": [
    "# Social Security Association\n",
    "\n",
    "Every year, the SSA records all of the baby names who have social security numbers. The \"Count\" column describes how many people of each name were born in that year. \n",
    "For example, there were 295 female Marys in California in the year 1910. (The first row in the baby_names table)"
   ]
  },
  {
   "cell_type": "code",
   "execution_count": 3,
   "metadata": {
    "collapsed": false
   },
   "outputs": [
    {
     "data": {
      "text/html": [
       "<table border=\"1\" class=\"dataframe\">\n",
       "    <thead>\n",
       "        <tr>\n",
       "            <th>State</th> <th>Gender</th> <th>Year</th> <th>Name</th> <th>Count</th>\n",
       "        </tr>\n",
       "    </thead>\n",
       "    <tbody>\n",
       "        <tr>\n",
       "            <td>CA   </td> <td>F     </td> <td>1910</td> <td>Mary     </td> <td>295  </td>\n",
       "        </tr>\n",
       "    </tbody>\n",
       "        <tr>\n",
       "            <td>CA   </td> <td>F     </td> <td>1910</td> <td>Helen    </td> <td>239  </td>\n",
       "        </tr>\n",
       "    </tbody>\n",
       "        <tr>\n",
       "            <td>CA   </td> <td>F     </td> <td>1910</td> <td>Dorothy  </td> <td>220  </td>\n",
       "        </tr>\n",
       "    </tbody>\n",
       "        <tr>\n",
       "            <td>CA   </td> <td>F     </td> <td>1910</td> <td>Margaret </td> <td>163  </td>\n",
       "        </tr>\n",
       "    </tbody>\n",
       "        <tr>\n",
       "            <td>CA   </td> <td>F     </td> <td>1910</td> <td>Frances  </td> <td>134  </td>\n",
       "        </tr>\n",
       "    </tbody>\n",
       "        <tr>\n",
       "            <td>CA   </td> <td>F     </td> <td>1910</td> <td>Ruth     </td> <td>128  </td>\n",
       "        </tr>\n",
       "    </tbody>\n",
       "        <tr>\n",
       "            <td>CA   </td> <td>F     </td> <td>1910</td> <td>Evelyn   </td> <td>126  </td>\n",
       "        </tr>\n",
       "    </tbody>\n",
       "        <tr>\n",
       "            <td>CA   </td> <td>F     </td> <td>1910</td> <td>Alice    </td> <td>118  </td>\n",
       "        </tr>\n",
       "    </tbody>\n",
       "        <tr>\n",
       "            <td>CA   </td> <td>F     </td> <td>1910</td> <td>Virginia </td> <td>101  </td>\n",
       "        </tr>\n",
       "    </tbody>\n",
       "        <tr>\n",
       "            <td>CA   </td> <td>F     </td> <td>1910</td> <td>Elizabeth</td> <td>93   </td>\n",
       "        </tr>\n",
       "    </tbody>\n",
       "</table>\n",
       "<p>... (361118 rows omitted)</p"
      ],
      "text/plain": [
       "State | Gender | Year | Name      | Count\n",
       "CA    | F      | 1910 | Mary      | 295\n",
       "CA    | F      | 1910 | Helen     | 239\n",
       "CA    | F      | 1910 | Dorothy   | 220\n",
       "CA    | F      | 1910 | Margaret  | 163\n",
       "CA    | F      | 1910 | Frances   | 134\n",
       "CA    | F      | 1910 | Ruth      | 128\n",
       "CA    | F      | 1910 | Evelyn    | 126\n",
       "CA    | F      | 1910 | Alice     | 118\n",
       "CA    | F      | 1910 | Virginia  | 101\n",
       "CA    | F      | 1910 | Elizabeth | 93\n",
       "... (361118 rows omitted)"
      ]
     },
     "execution_count": 3,
     "metadata": {},
     "output_type": "execute_result"
    }
   ],
   "source": [
    "# Just run!\n",
    "column_labels = make_array('State', 'Gender', 'Year', 'Name', 'Count')\n",
    "baby_names = Table().read_table(\"CA.csv\", names = column_labels)\n",
    "baby_names"
   ]
  },
  {
   "cell_type": "markdown",
   "metadata": {
    "collapsed": true
   },
   "source": [
    "## Question 1: What's the data?\n",
    "How much data do we have?\n",
    "How many years does this span?\n",
    "How many people did they record?"
   ]
  },
  {
   "cell_type": "code",
   "execution_count": 6,
   "metadata": {
    "collapsed": false
   },
   "outputs": [
    {
     "name": "stdout",
     "output_type": "stream",
     "text": [
      "Number of entries: 361128\n",
      "Time period of data: 1910 to 2015\n",
      "People recorded: 29686407\n"
     ]
    }
   ],
   "source": [
    "num_entries = baby_names.num_rows\n",
    "earliest_year = baby_names.sort(\"Year\").row(0).item(2)\n",
    "lastest_year = baby_names.sort(\"Year\", descending=True).row(0).item(2)\n",
    "total_people = sum(baby_names.column(\"Count\"))\n",
    "\n",
    "# Don't change anything below\n",
    "print(\"Number of entries: \" + str(num_entries))\n",
    "print(\"Time period of data: \" + str(earliest_year) + \" to \" + str(lastest_year))\n",
    "print(\"People recorded: \" + str(total_people))"
   ]
  },
  {
   "cell_type": "markdown",
   "metadata": {},
   "source": [
    "## Question 2.1: Histograms\n",
    "First, discuss what each entry (row) of the table represents. What do you think a histogram's bins are?\n",
    "\n",
    "Next, make a histogram using the numerical data in the column, Years. Use the year_bins as the bins for your histogram. What do you think the histogram is saying? Discuss the x and y axis."
   ]
  },
  {
   "cell_type": "code",
   "execution_count": 8,
   "metadata": {
    "collapsed": false
   },
   "outputs": [
    {
     "data": {
      "image/png": "[encoded data removed]",
      "text/plain": [
       "<matplotlib.figure.Figure at 0x1043092b0>"
      ]
     },
     "metadata": {},
     "output_type": "display_data"
    }
   ],
   "source": [
    "year_bins = np.arange(1910, 2020, 10)\n",
    "\n",
    "# Make your histogram here\n",
    "baby_names.hist(\"Year\", bins=year_bins)"
   ]
  },
  {
   "cell_type": "markdown",
   "metadata": {},
   "source": [
    "<h1 style=\"color:Maroon;\"> What do you think the histogram is saying? </h1>\n",
    "<div style=\"border:3px; border-style:solid; border-color:Maroon; padding-left: 20px;\">\n",
    "   The number of names has been increasing as time goes on.\n",
    "   The x axis is the year. The y axis is the percent of names per year,\n",
    "   which means each bin represents the percent of names that were seen in \n",
    "   that range of years.\n",
    "</div>"
   ]
  },
  {
   "cell_type": "markdown",
   "metadata": {},
   "source": [
    "<h1 style=\"color:Maroon;\"> Discuss the x and y axis </h1>\n",
    "<div style=\"border:3px; border-style:solid; border-color:Maroon; padding-left: 20px;\">\n",
    "   The x axis is the year. The y axis is the percent of names per year,\n",
    "   which means each bin represents the percent of names that were seen in \n",
    "   that range of years.\n",
    "</div>"
   ]
  },
  {
   "cell_type": "markdown",
   "metadata": {},
   "source": [
    "## Question 2.2\n"
   ]
  },
  {
   "cell_type": "markdown",
   "metadata": {},
   "source": [
    "<h1 style=\"color:Maroon;\"> Why do you see a steady increase from 1920 to 2010? </h1>\n",
    "<p style=\"border:3px; border-style:solid; border-color:Maroon; padding-left: 20px;\">\n",
    "       People have gotten more creative with naming their children. (Many other possible explanations)\n",
    "</p>"
   ]
  },
  {
   "cell_type": "markdown",
   "metadata": {},
   "source": [
    "## Question 2.3\n",
    "Calculate the area in the 1980-1990 bin to get the proportion of names recorded from 1980-1990, and name it area_80_90. If we multiply area_80_90 by the total number of entries, we should get the number of names in that time period. Name this variable num_names_80_90.\n",
    "\n",
    "Hint: When we mean calculate the area from a histogram, look at and use the actual displayed histogram.\n",
    "\n",
    "Hint: Remember that the y axis is PERCENT per unit, not PROPORTION per unit!\n",
    "Check your answer by comparing with the number of names "
   ]
  },
  {
   "cell_type": "code",
   "execution_count": 9,
   "metadata": {
    "collapsed": false
   },
   "outputs": [
    {
     "data": {
      "text/plain": [
       "54169.2"
      ]
     },
     "execution_count": 9,
     "metadata": {},
     "output_type": "execute_result"
    }
   ],
   "source": [
    "area_80_90 = .015 * 10\n",
    "num_names_80_90 = area_80_90 * baby_names.num_rows\n",
    "num_names_80_90"
   ]
  },
  {
   "cell_type": "markdown",
   "metadata": {},
   "source": [
    "## Questions 2.4\n",
    "\n",
    "Check your answer by comparing num_names_80_90 with the actual number of names recorded from 1980 to 1990. To get the actual number, use the baby_names table.\n",
    "\n",
    "The number should be close to each other (maybe 5000 off) because the area calculation is not super accurate."
   ]
  },
  {
   "cell_type": "code",
   "execution_count": 11,
   "metadata": {
    "collapsed": false
   },
   "outputs": [
    {
     "data": {
      "text/plain": [
       "49234"
      ]
     },
     "execution_count": 11,
     "metadata": {},
     "output_type": "execute_result"
    }
   ],
   "source": [
    "# may take ~10 seconds to load\n",
    "actual = baby_names.where(\"Year\", are.between(1980,1990)).num_rows\n",
    "actual"
   ]
  },
  {
   "cell_type": "markdown",
   "metadata": {},
   "source": [
    "Your calculation shows that the area of a bin is indeed the proportion of entries in that bin! Remember, the area of a histogram is extremely important!"
   ]
  },
  {
   "cell_type": "markdown",
   "metadata": {},
   "source": [
    "## Question 2.5 \n",
    "\n",
    "Create a visualization that shows the frequency of values in the column, Counts. Use bins that range from 0 to 1000, with the width 50 for each bin. What is interesting about the visualization? What noticable trend do you see? "
   ]
  },
  {
   "cell_type": "code",
   "execution_count": 13,
   "metadata": {
    "collapsed": false
   },
   "outputs": [
    {
     "data": {
      "image/png": "[encoded data removed]",
      "text/plain": [
       "<matplotlib.figure.Figure at 0x10ae394e0>"
      ]
     },
     "metadata": {},
     "output_type": "display_data"
    }
   ],
   "source": [
    "# Make your visualization here \n",
    "counts_bins= np.arange(0, 1_000, 50)\n",
    "baby_names.hist(\"Count\", bins=counts_bins)"
   ]
  },
  {
   "cell_type": "markdown",
   "metadata": {},
   "source": [
    "<h1 style=\"color:Maroon;\"> What is interesting about the visualization?  </h1>\n",
    "<p style=\"border:2px; border-style:solid; border-color:Maroon; padding-left: 20px;\">\n",
    "\n",
    "The vast majority of the data is in the first column with a very thin tail.\n",
    "\n",
    "</p>"
   ]
  },
  {
   "cell_type": "markdown",
   "metadata": {},
   "source": [
    "<h1 style=\"color:Maroon;\"> What noticable trend do you see  </h1>\n",
    "<p style=\"border:2px; border-style:solid; border-color:Maroon; padding-left: 20px;\">\n",
    "\n",
    "There are a lot of unique names (where we only see the name less than 50 times).\n",
    "\n",
    "\n",
    "</p>"
   ]
  },
  {
   "cell_type": "markdown",
   "metadata": {},
   "source": [
    "## Question 3.1: Let's define a function\n",
    "\n",
    "Usually, we can guess the gender of a person with his or her name. One simple way you might guess is that the names of females more often start with vowels, instead of consonants. Let's find out if that's really true!\n",
    "\n",
    "Define a function, named first_letter, that takes in a name argument and returns the first letter as a capital letter. For example first_letter(\"blake\") will return \"B\".\n",
    "\n",
    "Hint: str.upper() capitalizes the entire string \n",
    "\n",
    "Hint 2: str[index] will return the letter at a given index (just like tbl.item(index) )"
   ]
  },
  {
   "cell_type": "code",
   "execution_count": 14,
   "metadata": {
    "collapsed": false
   },
   "outputs": [
    {
     "data": {
      "text/plain": [
       "'B'"
      ]
     },
     "execution_count": 14,
     "metadata": {},
     "output_type": "execute_result"
    }
   ],
   "source": [
    "# Write your function here.\n",
    "def first_letter(name):\n",
    "    return name.upper()[0]\n",
    "\n",
    "first_letter(\"blake\") #should return 'B'"
   ]
  },
  {
   "cell_type": "markdown",
   "metadata": {},
   "source": [
    "## Question 3.2\n",
    "Add a column to baby_names, named First Letter, that extracts the first letter from the Name column. Set the new table to baby_names."
   ]
  },
  {
   "cell_type": "code",
   "execution_count": 15,
   "metadata": {
    "collapsed": false
   },
   "outputs": [
    {
     "data": {
      "text/html": [
       "<table border=\"1\" class=\"dataframe\">\n",
       "    <thead>\n",
       "        <tr>\n",
       "            <th>State</th> <th>Gender</th> <th>Year</th> <th>Name</th> <th>Count</th> <th>First Letter</th>\n",
       "        </tr>\n",
       "    </thead>\n",
       "    <tbody>\n",
       "        <tr>\n",
       "            <td>CA   </td> <td>F     </td> <td>1910</td> <td>Mary     </td> <td>295  </td> <td>M           </td>\n",
       "        </tr>\n",
       "    </tbody>\n",
       "        <tr>\n",
       "            <td>CA   </td> <td>F     </td> <td>1910</td> <td>Helen    </td> <td>239  </td> <td>H           </td>\n",
       "        </tr>\n",
       "    </tbody>\n",
       "        <tr>\n",
       "            <td>CA   </td> <td>F     </td> <td>1910</td> <td>Dorothy  </td> <td>220  </td> <td>D           </td>\n",
       "        </tr>\n",
       "    </tbody>\n",
       "        <tr>\n",
       "            <td>CA   </td> <td>F     </td> <td>1910</td> <td>Margaret </td> <td>163  </td> <td>M           </td>\n",
       "        </tr>\n",
       "    </tbody>\n",
       "        <tr>\n",
       "            <td>CA   </td> <td>F     </td> <td>1910</td> <td>Frances  </td> <td>134  </td> <td>F           </td>\n",
       "        </tr>\n",
       "    </tbody>\n",
       "        <tr>\n",
       "            <td>CA   </td> <td>F     </td> <td>1910</td> <td>Ruth     </td> <td>128  </td> <td>R           </td>\n",
       "        </tr>\n",
       "    </tbody>\n",
       "        <tr>\n",
       "            <td>CA   </td> <td>F     </td> <td>1910</td> <td>Evelyn   </td> <td>126  </td> <td>E           </td>\n",
       "        </tr>\n",
       "    </tbody>\n",
       "        <tr>\n",
       "            <td>CA   </td> <td>F     </td> <td>1910</td> <td>Alice    </td> <td>118  </td> <td>A           </td>\n",
       "        </tr>\n",
       "    </tbody>\n",
       "        <tr>\n",
       "            <td>CA   </td> <td>F     </td> <td>1910</td> <td>Virginia </td> <td>101  </td> <td>V           </td>\n",
       "        </tr>\n",
       "    </tbody>\n",
       "        <tr>\n",
       "            <td>CA   </td> <td>F     </td> <td>1910</td> <td>Elizabeth</td> <td>93   </td> <td>E           </td>\n",
       "        </tr>\n",
       "    </tbody>\n",
       "</table>\n",
       "<p>... (361118 rows omitted)</p"
      ],
      "text/plain": [
       "State | Gender | Year | Name      | Count | First Letter\n",
       "CA    | F      | 1910 | Mary      | 295   | M\n",
       "CA    | F      | 1910 | Helen     | 239   | H\n",
       "CA    | F      | 1910 | Dorothy   | 220   | D\n",
       "CA    | F      | 1910 | Margaret  | 163   | M\n",
       "CA    | F      | 1910 | Frances   | 134   | F\n",
       "CA    | F      | 1910 | Ruth      | 128   | R\n",
       "CA    | F      | 1910 | Evelyn    | 126   | E\n",
       "CA    | F      | 1910 | Alice     | 118   | A\n",
       "CA    | F      | 1910 | Virginia  | 101   | V\n",
       "CA    | F      | 1910 | Elizabeth | 93    | E\n",
       "... (361118 rows omitted)"
      ]
     },
     "execution_count": 15,
     "metadata": {},
     "output_type": "execute_result"
    }
   ],
   "source": [
    "baby_names = baby_names.with_column(\"First Letter\", baby_names.apply(first_letter, \"Name\"))\n",
    "baby_names"
   ]
  },
  {
   "cell_type": "markdown",
   "metadata": {},
   "source": [
    "## Question 3.3\n",
    "For each letter, how many people were born with that letter as their first letter of their name?\n",
    "Create a table that has a row for every first letter and the number of people whose names start with that letter. The table should be two columns. (Don't assign the table a name)\n",
    "\n",
    "Sort it in descending order."
   ]
  },
  {
   "cell_type": "code",
   "execution_count": 18,
   "metadata": {
    "collapsed": false
   },
   "outputs": [
    {
     "data": {
      "text/html": [
       "<table border=\"1\" class=\"dataframe\">\n",
       "    <thead>\n",
       "        <tr>\n",
       "            <th>First Letter</th> <th>count</th>\n",
       "        </tr>\n",
       "    </thead>\n",
       "    <tbody>\n",
       "        <tr>\n",
       "            <td>A           </td> <td>37465</td>\n",
       "        </tr>\n",
       "    </tbody>\n",
       "        <tr>\n",
       "            <td>J           </td> <td>31448</td>\n",
       "        </tr>\n",
       "    </tbody>\n",
       "        <tr>\n",
       "            <td>M           </td> <td>31066</td>\n",
       "        </tr>\n",
       "    </tbody>\n",
       "        <tr>\n",
       "            <td>C           </td> <td>25809</td>\n",
       "        </tr>\n",
       "    </tbody>\n",
       "        <tr>\n",
       "            <td>S           </td> <td>25255</td>\n",
       "        </tr>\n",
       "    </tbody>\n",
       "        <tr>\n",
       "            <td>D           </td> <td>23298</td>\n",
       "        </tr>\n",
       "    </tbody>\n",
       "        <tr>\n",
       "            <td>L           </td> <td>22833</td>\n",
       "        </tr>\n",
       "    </tbody>\n",
       "        <tr>\n",
       "            <td>K           </td> <td>22323</td>\n",
       "        </tr>\n",
       "    </tbody>\n",
       "        <tr>\n",
       "            <td>R           </td> <td>21247</td>\n",
       "        </tr>\n",
       "    </tbody>\n",
       "        <tr>\n",
       "            <td>E           </td> <td>18228</td>\n",
       "        </tr>\n",
       "    </tbody>\n",
       "</table>\n",
       "<p>... (16 rows omitted)</p"
      ],
      "text/plain": [
       "First Letter | count\n",
       "A            | 37465\n",
       "J            | 31448\n",
       "M            | 31066\n",
       "C            | 25809\n",
       "S            | 25255\n",
       "D            | 23298\n",
       "L            | 22833\n",
       "K            | 22323\n",
       "R            | 21247\n",
       "E            | 18228\n",
       "... (16 rows omitted)"
      ]
     },
     "execution_count": 18,
     "metadata": {},
     "output_type": "execute_result"
    }
   ],
   "source": [
    "# Make the table here\n",
    "baby_names.group(\"First Letter\").sort(\"count\", descending=True)"
   ]
  },
  {
   "cell_type": "code",
   "execution_count": null,
   "metadata": {
    "collapsed": true
   },
   "outputs": [],
   "source": []
  }
 ],
 "metadata": {
  "kernelspec": {
   "display_name": "Python 3",
   "language": "python",
   "name": "python3"
  },
  "language_info": {
   "codemirror_mode": {
    "name": "ipython",
    "version": 3
   },
   "file_extension": ".py",
   "mimetype": "text/x-python",
   "name": "python",
   "nbconvert_exporter": "python",
   "pygments_lexer": "ipython3",
   "version": "3.6.0"
  }
 },
 "nbformat": 4,
 "nbformat_minor": 2
}
