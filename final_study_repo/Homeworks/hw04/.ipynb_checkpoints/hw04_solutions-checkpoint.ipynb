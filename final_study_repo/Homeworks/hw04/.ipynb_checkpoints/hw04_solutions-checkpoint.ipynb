{
 "cells": [
  {
   "cell_type": "markdown",
   "metadata": {},
   "source": [
    "# Homework 4: Probability and Sampling. Due Sunday, November 5th at 11:59pm\n",
    "Reading: Textbook chapter [8](https://www.inferentialthinking.com/chapters/08/randomness.html).\n",
    "\n",
    "Deadline:\n",
    "\n",
    "This assignment is due Sunday, November 5th at 11:59pm. You are given two slip days thoughout the quarter which can extend the deadline by one day. See the syllabus for more details. With the exception of using slip days, late work will not be accepted. \n",
    "\n",
    "Directly sharing answers is not okay, but discussing problems with the course staff or with other students is encouraged. \n",
    "\n",
    "** Answers with for loops will not recieve credit on this homework assignment. **\n",
    "\n",
    "You should start early so that you have time to get help if you're stuck. A calendar with lab hour times and locations appears on (https://sites.google.com/a/eng.ucsd.edu/dsc10-fall-2017/staff-hours)."
   ]
  },
  {
   "cell_type": "code",
   "execution_count": 2,
   "metadata": {
    "collapsed": false
   },
   "outputs": [
    {
     "name": "stdout",
     "output_type": "stream",
     "text": [
      "=====================================================================\n",
      "Assignment: Homework 4: Probability and Sampling\n",
      "OK, version v1.12.8\n",
      "=====================================================================\n",
      "\n",
      "Successfully logged in as gul002@ucsd.edu\n"
     ]
    }
   ],
   "source": [
    "# Don't change this cell; just run it. \n",
    "\n",
    "import numpy as np\n",
    "from datascience import *\n",
    "\n",
    "%matplotlib inline\n",
    "import matplotlib.pyplot as plots\n",
    "plots.style.use('fivethirtyeight')\n",
    "\n",
    "from client.api.notebook import Notebook\n",
    "ok = Notebook('hw04.ok')\n",
    "_ = ok.auth(inline=True)"
   ]
  },
  {
   "cell_type": "markdown",
   "metadata": {},
   "source": [
    "**Important**: The `ok` tests don't usually tell you that your answer is correct. More often, they help catch careless mistakes. It's up to you to ensure that your answer is correct. If you're not sure, ask someone (not for the answer, but for some guidance about your approach)."
   ]
  },
  {
   "cell_type": "markdown",
   "metadata": {},
   "source": [
    "Once you're finished, select \"Save and Checkpoint\" in the File menu and then execute the `submit` cell below. The result will contain a link that you can use to check that your assignment has been submitted successfully. If you submit more than once before the deadline, we will only grade your final submission."
   ]
  },
  {
   "cell_type": "code",
   "execution_count": 3,
   "metadata": {
    "collapsed": false
   },
   "outputs": [
    {
     "data": {
      "application/javascript": [
       "IPython.notebook.save_checkpoint();"
      ],
      "text/plain": [
       "<IPython.core.display.Javascript object>"
      ]
     },
     "metadata": {},
     "output_type": "display_data"
    },
    {
     "data": {
      "application/javascript": [
       "IPython.notebook.save_notebook();"
      ],
      "text/plain": [
       "<IPython.core.display.Javascript object>"
      ]
     },
     "metadata": {},
     "output_type": "display_data"
    },
    {
     "name": "stdout",
     "output_type": "stream",
     "text": [
      "Saving notebook... Saved 'hw04.ipynb'.\n",
      "Submit... 0.0% complete\n",
      "Could not submit: Late Submission of ucsd/dsc10/fa17/hw04\n",
      "\n"
     ]
    }
   ],
   "source": [
    "_ = ok.submit()"
   ]
  },
  {
   "cell_type": "markdown",
   "metadata": {},
   "source": [
    "## 1. Sampling Basketball Players\n"
   ]
  },
  {
   "cell_type": "markdown",
   "metadata": {},
   "source": [
    "This exercise uses salary data and game statistics for basketball players from the 2014-2015 NBA season. The data were collected from [basketball-reference](http://www.basketball-reference.com) and [spotrac](http://www.spotrac.com).\n",
    "\n",
    "Run the next cell to load the two datasets."
   ]
  },
  {
   "cell_type": "code",
   "execution_count": 4,
   "metadata": {
    "collapsed": false
   },
   "outputs": [
    {
     "data": {
      "text/html": [
       "<table border=\"1\" class=\"dataframe\">\n",
       "    <thead>\n",
       "        <tr>\n",
       "            <th>Name</th> <th>Age</th> <th>Team</th> <th>Games</th> <th>Rebounds</th> <th>Assists</th> <th>Steals</th> <th>Blocks</th> <th>Turnovers</th> <th>Points</th>\n",
       "        </tr>\n",
       "    </thead>\n",
       "    <tbody>\n",
       "        <tr>\n",
       "            <td>James Harden </td> <td>25  </td> <td>HOU </td> <td>81   </td> <td>459     </td> <td>565    </td> <td>154   </td> <td>60    </td> <td>321      </td> <td>2217  </td>\n",
       "        </tr>\n",
       "    </tbody>\n",
       "        <tr>\n",
       "            <td>Chris Paul   </td> <td>29  </td> <td>LAC </td> <td>82   </td> <td>376     </td> <td>838    </td> <td>156   </td> <td>15    </td> <td>190      </td> <td>1564  </td>\n",
       "        </tr>\n",
       "    </tbody>\n",
       "        <tr>\n",
       "            <td>Stephen Curry</td> <td>26  </td> <td>GSW </td> <td>80   </td> <td>341     </td> <td>619    </td> <td>163   </td> <td>16    </td> <td>249      </td> <td>1900  </td>\n",
       "        </tr>\n",
       "    </tbody>\n",
       "</table>\n",
       "<p>... (489 rows omitted)</p"
      ],
      "text/plain": [
       "<IPython.core.display.HTML object>"
      ]
     },
     "metadata": {},
     "output_type": "display_data"
    },
    {
     "data": {
      "text/html": [
       "<table border=\"1\" class=\"dataframe\">\n",
       "    <thead>\n",
       "        <tr>\n",
       "            <th>PlayerName</th> <th>Salary</th>\n",
       "        </tr>\n",
       "    </thead>\n",
       "    <tbody>\n",
       "        <tr>\n",
       "            <td>Kobe Bryant      </td> <td>23500000</td>\n",
       "        </tr>\n",
       "    </tbody>\n",
       "        <tr>\n",
       "            <td>Amar'e Stoudemire</td> <td>23410988</td>\n",
       "        </tr>\n",
       "    </tbody>\n",
       "        <tr>\n",
       "            <td>Joe Johnson      </td> <td>23180790</td>\n",
       "        </tr>\n",
       "    </tbody>\n",
       "</table>\n",
       "<p>... (489 rows omitted)</p"
      ],
      "text/plain": [
       "<IPython.core.display.HTML object>"
      ]
     },
     "metadata": {},
     "output_type": "display_data"
    }
   ],
   "source": [
    "player_data = Table.read_table('player_data.csv')\n",
    "salary_data = Table.read_table('salary_data.csv')\n",
    "player_data.show(3)\n",
    "salary_data.show(3)"
   ]
  },
  {
   "cell_type": "markdown",
   "metadata": {},
   "source": [
    "**Question 1.** We would like to relate players' game statistics to their salaries.  Compute a table called `full_data` that includes one row for each player who is listed in both `player_data` and `salary_data`.  It should include all the columns from `player_data` and `salary_data`, except the `\"PlayerName\"` column."
   ]
  },
  {
   "cell_type": "code",
   "execution_count": 5,
   "metadata": {
    "collapsed": false
   },
   "outputs": [
    {
     "data": {
      "text/html": [
       "<table border=\"1\" class=\"dataframe\">\n",
       "    <thead>\n",
       "        <tr>\n",
       "            <th>Name</th> <th>Age</th> <th>Team</th> <th>Games</th> <th>Rebounds</th> <th>Assists</th> <th>Steals</th> <th>Blocks</th> <th>Turnovers</th> <th>Points</th> <th>Salary</th>\n",
       "        </tr>\n",
       "    </thead>\n",
       "    <tbody>\n",
       "        <tr>\n",
       "            <td>A.J. Price     </td> <td>28  </td> <td>TOT </td> <td>26   </td> <td>32      </td> <td>46     </td> <td>7     </td> <td>0     </td> <td>14       </td> <td>133   </td> <td>62552   </td>\n",
       "        </tr>\n",
       "    </tbody>\n",
       "        <tr>\n",
       "            <td>Aaron Brooks   </td> <td>30  </td> <td>CHI </td> <td>82   </td> <td>166     </td> <td>261    </td> <td>54    </td> <td>15    </td> <td>157      </td> <td>954   </td> <td>1145685 </td>\n",
       "        </tr>\n",
       "    </tbody>\n",
       "        <tr>\n",
       "            <td>Aaron Gordon   </td> <td>19  </td> <td>ORL </td> <td>47   </td> <td>169     </td> <td>33     </td> <td>21    </td> <td>22    </td> <td>38       </td> <td>243   </td> <td>3992040 </td>\n",
       "        </tr>\n",
       "    </tbody>\n",
       "        <tr>\n",
       "            <td>Adreian Payne  </td> <td>23  </td> <td>TOT </td> <td>32   </td> <td>162     </td> <td>30     </td> <td>19    </td> <td>9     </td> <td>44       </td> <td>213   </td> <td>1855320 </td>\n",
       "        </tr>\n",
       "    </tbody>\n",
       "        <tr>\n",
       "            <td>Al Horford     </td> <td>28  </td> <td>ATL </td> <td>76   </td> <td>544     </td> <td>244    </td> <td>68    </td> <td>98    </td> <td>100      </td> <td>1156  </td> <td>12000000</td>\n",
       "        </tr>\n",
       "    </tbody>\n",
       "        <tr>\n",
       "            <td>Al Jefferson   </td> <td>30  </td> <td>CHO </td> <td>65   </td> <td>548     </td> <td>113    </td> <td>47    </td> <td>84    </td> <td>68       </td> <td>1082  </td> <td>13666667</td>\n",
       "        </tr>\n",
       "    </tbody>\n",
       "        <tr>\n",
       "            <td>Al-Farouq Aminu</td> <td>24  </td> <td>DAL </td> <td>74   </td> <td>342     </td> <td>59     </td> <td>70    </td> <td>62    </td> <td>55       </td> <td>412   </td> <td>1100602 </td>\n",
       "        </tr>\n",
       "    </tbody>\n",
       "        <tr>\n",
       "            <td>Alan Anderson  </td> <td>32  </td> <td>BRK </td> <td>74   </td> <td>204     </td> <td>83     </td> <td>56    </td> <td>5     </td> <td>60       </td> <td>545   </td> <td>1276061 </td>\n",
       "        </tr>\n",
       "    </tbody>\n",
       "        <tr>\n",
       "            <td>Alec Burks     </td> <td>23  </td> <td>UTA </td> <td>27   </td> <td>114     </td> <td>82     </td> <td>17    </td> <td>5     </td> <td>52       </td> <td>374   </td> <td>3034356 </td>\n",
       "        </tr>\n",
       "    </tbody>\n",
       "        <tr>\n",
       "            <td>Alex Kirk      </td> <td>23  </td> <td>CLE </td> <td>5    </td> <td>1       </td> <td>1      </td> <td>0     </td> <td>0     </td> <td>0        </td> <td>4     </td> <td>507336  </td>\n",
       "        </tr>\n",
       "    </tbody>\n",
       "</table>\n",
       "<p>... (482 rows omitted)</p"
      ],
      "text/plain": [
       "Name            | Age  | Team | Games | Rebounds | Assists | Steals | Blocks | Turnovers | Points | Salary\n",
       "A.J. Price      | 28   | TOT  | 26    | 32       | 46      | 7      | 0      | 14        | 133    | 62552\n",
       "Aaron Brooks    | 30   | CHI  | 82    | 166      | 261     | 54     | 15     | 157       | 954    | 1145685\n",
       "Aaron Gordon    | 19   | ORL  | 47    | 169      | 33      | 21     | 22     | 38        | 243    | 3992040\n",
       "Adreian Payne   | 23   | TOT  | 32    | 162      | 30      | 19     | 9      | 44        | 213    | 1855320\n",
       "Al Horford      | 28   | ATL  | 76    | 544      | 244     | 68     | 98     | 100       | 1156   | 12000000\n",
       "Al Jefferson    | 30   | CHO  | 65    | 548      | 113     | 47     | 84     | 68        | 1082   | 13666667\n",
       "Al-Farouq Aminu | 24   | DAL  | 74    | 342      | 59      | 70     | 62     | 55        | 412    | 1100602\n",
       "Alan Anderson   | 32   | BRK  | 74    | 204      | 83      | 56     | 5      | 60        | 545    | 1276061\n",
       "Alec Burks      | 23   | UTA  | 27    | 114      | 82      | 17     | 5      | 52        | 374    | 3034356\n",
       "Alex Kirk       | 23   | CLE  | 5     | 1        | 1       | 0      | 0      | 0         | 4      | 507336\n",
       "... (482 rows omitted)"
      ]
     },
     "execution_count": 5,
     "metadata": {},
     "output_type": "execute_result"
    }
   ],
   "source": [
    "full_data = player_data.join('Name', salary_data, 'PlayerName')\n",
    "full_data"
   ]
  },
  {
   "cell_type": "code",
   "execution_count": 6,
   "metadata": {
    "collapsed": false
   },
   "outputs": [
    {
     "name": "stdout",
     "output_type": "stream",
     "text": [
      "~~~~~~~~~~~~~~~~~~~~~~~~~~~~~~~~~~~~~~~~~~~~~~~~~~~~~~~~~~~~~~~~~~~~~\n",
      "Running tests\n",
      "\n",
      "---------------------------------------------------------------------\n",
      "Test summary\n",
      "    Passed: 1\n",
      "    Failed: 0\n",
      "[ooooooooook] 100.0% passed\n",
      "\n"
     ]
    }
   ],
   "source": [
    "_ = ok.grade('q1_1')"
   ]
  },
  {
   "cell_type": "markdown",
   "metadata": {},
   "source": [
    "Basketball team managers would like to hire players who perform well but don't command high salaries.  From this perspective, a very crude measure of a player's *value* to their team is the number of points the player scored in a season for every \\$1000 of salary. For example, Al Horford scored 1156 points and has a salary of 12,000 thousands of dollars, so his value is $\\frac{1156}{12000}$.\n",
    "\n",
    "**Question 2.** Create a table called `full_data_with_value` that's a copy of `full_data`, with an extra column called `\"Value\"` containing each player's value (according to our crude measure).  Then make a histogram of players' values.  **Specify bins that make the histogram informative.**"
   ]
  },
  {
   "cell_type": "code",
   "execution_count": 35,
   "metadata": {
    "collapsed": false,
    "manual_grade": true,
    "manual_problem_id": "sampling_players_2"
   },
   "outputs": [
    {
     "data": {
      "image/png": "[encoded data removed]",
      "text/plain": [
       "<matplotlib.figure.Figure at 0x7fbde4779c50>"
      ]
     },
     "metadata": {},
     "output_type": "display_data"
    }
   ],
   "source": [
    "full_data_with_value = full_data.with_column('Value', full_data.column('Points')/(full_data.column('Salary')/1000))\n",
    "fullHistTable = Table().with_column('Value', full_data_with_value.column('Value'))\n",
    "fullHistTable.hist(bins=np.arange(0,2,0.05))"
   ]
  },
  {
   "cell_type": "markdown",
   "metadata": {},
   "source": [
    "Now suppose we weren't able to find out every player's salary.  (Perhaps it was too costly to interview each player.)  Instead, we have gathered a *simple random sample* of 100 players' salaries.  The cell below loads those data."
   ]
  },
  {
   "cell_type": "code",
   "execution_count": 36,
   "metadata": {
    "collapsed": false,
    "scrolled": true
   },
   "outputs": [
    {
     "data": {
      "text/html": [
       "<table border=\"1\" class=\"dataframe\">\n",
       "    <thead>\n",
       "        <tr>\n",
       "            <th>PlayerName</th> <th>Salary</th>\n",
       "        </tr>\n",
       "    </thead>\n",
       "    <tbody>\n",
       "        <tr>\n",
       "            <td>C.J. Watson     </td> <td>2106720</td>\n",
       "        </tr>\n",
       "    </tbody>\n",
       "        <tr>\n",
       "            <td>Taj Gibson      </td> <td>8000000</td>\n",
       "        </tr>\n",
       "    </tbody>\n",
       "        <tr>\n",
       "            <td>Jerrelle Benimon</td> <td>35000  </td>\n",
       "        </tr>\n",
       "    </tbody>\n",
       "</table>\n",
       "<p>... (97 rows omitted)</p"
      ],
      "text/plain": [
       "<IPython.core.display.HTML object>"
      ]
     },
     "metadata": {},
     "output_type": "display_data"
    }
   ],
   "source": [
    "sample_salary_data = Table.read_table(\"sample_salary_data.csv\")\n",
    "sample_salary_data.show(3)"
   ]
  },
  {
   "cell_type": "markdown",
   "metadata": {},
   "source": [
    "**Question 3.** Make a histogram of the values of the players in `sample_salary_data`, using the same method for measuring value we used in question 2.  **Use the same bins, too.**  *Hint:* This will take several steps."
   ]
  },
  {
   "cell_type": "code",
   "execution_count": 37,
   "metadata": {
    "collapsed": false,
    "deletable": false,
    "for_assignment_type": "student",
    "manual_grade": true,
    "manual_problem_id": "sampling_players_3"
   },
   "outputs": [
    {
     "data": {
      "image/png": "[encoded data removed]",
      "text/plain": [
       "<matplotlib.figure.Figure at 0x7fbde4586ac8>"
      ]
     },
     "metadata": {},
     "output_type": "display_data"
    }
   ],
   "source": [
    "sample_salary_data = sample_salary_data.join('PlayerName', player_data, 'Name')\n",
    "sample_salary_data_value = sample_salary_data.with_column('Value', sample_salary_data.column('Points')/(sample_salary_data.column('Salary')/1000))\n",
    "sampleHistTable = Table().with_column('Value', sample_salary_data_value.column('Value'))\n",
    "sampleHistTable.hist(bins=np.arange(0,2,0.05))"
   ]
  },
  {
   "cell_type": "markdown",
   "metadata": {},
   "source": [
    "Now let us summarize what we have seen.  To guide you, we have written most of the summary already.\n",
    "\n",
    "**Question 4.** Complete the statements below by filling in the [SQUARE BRACKETS]:"
   ]
  },
  {
   "cell_type": "markdown",
   "metadata": {
    "deletable": false,
    "for_assignment_type": "student",
    "manual_grade": true,
    "manual_problem_id": "sampling_players_4"
   },
   "source": [
    "The plot in question 2 displayed a(n) [histogram] of the population of [492] players. The sum of the areas of the bars in the plot was [100%]. The plot in question 3 displayed a(n) [empirical histogram] of the sample of [100] players. The sum of the areas of the bars in the plot was [100%]."
   ]
  },
  {
   "cell_type": "markdown",
   "metadata": {},
   "source": [
    "**Question 5.** Does the plot in question 3 accurately depict the proportion of players *in the population* whose value is between 0 and 0.5?  What about players with value above 0.5?"
   ]
  },
  {
   "cell_type": "markdown",
   "metadata": {
    "deletable": false,
    "manual_grade": true,
    "manual_problem_id": "sampling_players_5"
   },
   "source": [
    "The histogram in question 3 reflects the histogram in question 2 in the range of 0 to 0.5, because most of the area is in this part of the histogram. Because of this, any sample of good size should reflect a similar distribution here.\n",
    " \n",
    "The values above 0.5 do not match due to it being very rare to have a value above 0.5,, as reflected in the bars after 0.5 being smaller. The proportion of players above this level is so small that a sample group is less likely to reflect the distribution of the entire population.\n"
   ]
  },
  {
   "cell_type": "markdown",
   "metadata": {},
   "source": [
    "## 2. How Many Devices?\n"
   ]
  },
  {
   "cell_type": "markdown",
   "metadata": {},
   "source": [
    "When a company produces medical devices, it must be sure that its devices will not fail.  Sampling is used ubiquitously in the medical device industry to test how well devices work.\n",
    "\n",
    "Suppose you work at a company that produces syringes, and you are responsible for ensuring the syringes work well.  After studying the manufacturing process for the syringes, you have a hunch that they have a 1% failure rate.  That is, you suspect that 1% of the syringes won't work when a doctor uses them to inject a patient with medicine.\n",
    "\n",
    "To test your hunch, you would like to find at least one faulty syringe.  You hire an expert consultant who can test a syringe to check whether it is faulty.  But the expert's time is expensive, so you need to avoid checking more syringes than you need to.\n",
    "\n",
    "**Important note:** This exercise asks you to compute numbers that are related to probabilities.  For all questions, you can calculate your answer using algebra, **or** you can write and run a simulation to compute an approximately-correct answer.  (For practice, we suggest trying both.)  An answer based on an appropriate simulation will receive full credit.  If you simulate, use at least **5,000** trials.\n",
    "\n",
    "**Question 1.** Suppose there is indeed a 1% failure rate among all syringes.  If you check 20 syringes chosen at random from among all syringes, what is the chance that you find at least 1 faulty syringe?  (You may assume that syringes are chosen with replacement from a population in which 1% of syringes are faulty.)  Name your answer `chance_to_find_syringe`."
   ]
  },
  {
   "cell_type": "code",
   "execution_count": 40,
   "metadata": {
    "collapsed": false,
    "for_assignment_type": "student"
   },
   "outputs": [
    {
     "data": {
      "text/plain": [
       "0.1868"
      ]
     },
     "execution_count": 40,
     "metadata": {},
     "output_type": "execute_result"
    }
   ],
   "source": [
    "# For your convenience, we have created a list containing\n",
    "# 99 copies of the number 0 (to represent good syringes)\n",
    "# and 1 copy of the number 1 (to represent a bad syringe).\n",
    "# This may be useful if you run a simulation.  Feel free\n",
    "# to delete it.\n",
    "faultiness = np.append(0*np.arange(99), 1)\n",
    "\n",
    "#code: \n",
    "\n",
    "luck = 0\n",
    "for i in np.arange(5000):\n",
    "    random_20 = np.random.choice(faultiness, 20)\n",
    "    n = np.count_nonzero(random_20 == 1)\n",
    "    if n>0:\n",
    "        luck = luck + 1\n",
    "        \n",
    "\n",
    "chance_to_find_syringe = luck/5000\n",
    "chance_to_find_syringe\n",
    "\n",
    "\n",
    "\n",
    "\n",
    "#math: \n",
    "#chance_to_find_syringe = 1-(0.99)**20\n",
    "#chance_to_find_syringe"
   ]
  },
  {
   "cell_type": "code",
   "execution_count": 41,
   "metadata": {
    "collapsed": false
   },
   "outputs": [
    {
     "name": "stdout",
     "output_type": "stream",
     "text": [
      "~~~~~~~~~~~~~~~~~~~~~~~~~~~~~~~~~~~~~~~~~~~~~~~~~~~~~~~~~~~~~~~~~~~~~\n",
      "Running tests\n",
      "\n",
      "---------------------------------------------------------------------\n",
      "Test summary\n",
      "    Passed: 1\n",
      "    Failed: 0\n",
      "[ooooooooook] 100.0% passed\n",
      "\n"
     ]
    }
   ],
   "source": [
    "_ = ok.grade('q2_1')"
   ]
  },
  {
   "cell_type": "markdown",
   "metadata": {},
   "source": [
    "**Question 2.** Continue to assume that there really is a 1% failure rate.  Find the smallest number of syringes you can check so that you have at least a 50% chance of finding a faulty syringe.  (Your answer should be an integer.)  Name that number `num_required_for_50_percent`.  **It's okay if your answer is off by as many as 11 for full credit.**"
   ]
  },
  {
   "cell_type": "code",
   "execution_count": 43,
   "metadata": {
    "collapsed": false,
    "for_assignment_type": "student"
   },
   "outputs": [
    {
     "data": {
      "text/plain": [
       "68"
      ]
     },
     "execution_count": 43,
     "metadata": {},
     "output_type": "execute_result"
    }
   ],
   "source": [
    "chances = make_array()\n",
    "luck = 0\n",
    "for j in np.arange(20, 101):\n",
    "    for i in np.arange(5000):\n",
    "        \n",
    "        random_20 = np.random.choice(faultiness, j)\n",
    "        n = np.count_nonzero(random_20 == 1)\n",
    "        if n>0:\n",
    "            luck = luck + 1\n",
    "            \n",
    "    chance_to_find_syringe = luck/5000\n",
    "    chances = np.append(chances, chance_to_find_syringe)\n",
    "    luck = 0\n",
    "\n",
    "    \n",
    "  \n",
    "t = Table().with_columns(\"range\", np.arange(20, 101), \"Chance\", chances)\n",
    "num_required_for_50_percent = t.where(\"Chance\", are.above_or_equal_to(0.5)).column(0).item(0)\n",
    "num_required_for_50_percent\n",
    "\n",
    "\n",
    "# need to know break to solve it\n",
    "# need to run it at least 5000 times. \n",
    "#for i in range(1,100):\n",
    "#    if ((1 - 0.99**i) > 0.5):\n",
    "#        num_required_for_50_percent = i\n",
    "#        break;\n",
    "#num_required_for_50_percent\n",
    "\n",
    "\n",
    "# Math:\n",
    "# 50 = 1-(0.99)**x\n",
    "# solve for x;"
   ]
  },
  {
   "cell_type": "code",
   "execution_count": 44,
   "metadata": {
    "collapsed": false
   },
   "outputs": [
    {
     "name": "stdout",
     "output_type": "stream",
     "text": [
      "~~~~~~~~~~~~~~~~~~~~~~~~~~~~~~~~~~~~~~~~~~~~~~~~~~~~~~~~~~~~~~~~~~~~~\n",
      "Running tests\n",
      "\n",
      "---------------------------------------------------------------------\n",
      "Test summary\n",
      "    Passed: 1\n",
      "    Failed: 0\n",
      "[ooooooooook] 100.0% passed\n",
      "\n"
     ]
    }
   ],
   "source": [
    "_ = ok.grade('q2_2')"
   ]
  },
  {
   "cell_type": "markdown",
   "metadata": {},
   "source": [
    "**Question 3.** A doctor purchased 5 syringes and found 4 of them to be faulty. Assuming that there is indeed a 1% failure rate, what was the probability of **exactly 4** out of 5 syringes being faulty? "
   ]
  },
  {
   "cell_type": "code",
   "execution_count": 45,
   "metadata": {
    "collapsed": false
   },
   "outputs": [
    {
     "data": {
      "text/plain": [
       "4.95e-08"
      ]
     },
     "execution_count": 45,
     "metadata": {},
     "output_type": "execute_result"
    }
   ],
   "source": [
    "import math\n",
    "fac = math.factorial\n",
    "probability_of_four_faulty = 5*(0.01**4)*0.99\n",
    "probability_of_four_faulty "
   ]
  },
  {
   "cell_type": "code",
   "execution_count": 46,
   "metadata": {
    "collapsed": false
   },
   "outputs": [
    {
     "name": "stdout",
     "output_type": "stream",
     "text": [
      "~~~~~~~~~~~~~~~~~~~~~~~~~~~~~~~~~~~~~~~~~~~~~~~~~~~~~~~~~~~~~~~~~~~~~\n",
      "Running tests\n",
      "\n",
      "---------------------------------------------------------------------\n",
      "Test summary\n",
      "    Passed: 1\n",
      "    Failed: 0\n",
      "[ooooooooook] 100.0% passed\n",
      "\n"
     ]
    }
   ],
   "source": [
    "_ = ok.grade('q2_3')"
   ]
  },
  {
   "cell_type": "markdown",
   "metadata": {},
   "source": [
    "**Question 4.** Assuming that there is indeed a 1% failure rate, assign `order` to a list of the numbers 1 through 7, ordered by the size of the quantities described below from smallest to largest. For example, `order` will start with 2 because list item 2 (\"Zero\") is the smallest quantity.\n",
    "\n",
    "1. One half\n",
    "1. Zero\n",
    "1. The chance that **zero** out of 5 syringes are faulty.\n",
    "1. The chance that **at least 1** out of 5 syringes is faulty.\n",
    "1. The chance that **exactly 4** out of 5 syringes are faulty.\n",
    "1. The chance that **at least 4** out of 5 syringes are faulty.\n",
    "1. The chance that **all 5** out of 5 syringes are faulty."
   ]
  },
  {
   "cell_type": "code",
   "execution_count": 47,
   "metadata": {
    "collapsed": false
   },
   "outputs": [
    {
     "name": "stdout",
     "output_type": "stream",
     "text": [
      "[0.5, 0, 0.9509900498999999, 0.04900995010000009, 9.9e-09, 9.999999999999999e-09, 1.0000000000000002e-10]\n",
      "[0, 1.0000000000000002e-10, 9.9e-09, 9.999999999999999e-09, 0.04900995010000009, 0.5, 0.9509900498999999]\n",
      "True\n"
     ]
    }
   ],
   "source": [
    "p1 = 0.5\n",
    "p2 = 0\n",
    "p3 = 0.99**5\n",
    "p4 = 1 - 0.99**5\n",
    "p5 = 0.01**4 * 0.99\n",
    "p7 = 0.01**5\n",
    "p6 = p5+p7\n",
    "\n",
    "order =[p1, p2, p3, p4, p5, p6, p7]\n",
    "orderA = [x for x in order]\n",
    "print (orderA)\n",
    "orderA.sort()\n",
    "print(orderA)\n",
    "\n",
    "order = ['2','7','5','6','4','1','3']\n",
    "print(isinstance(order, list))"
   ]
  },
  {
   "cell_type": "code",
   "execution_count": 20,
   "metadata": {
    "collapsed": false
   },
   "outputs": [
    {
     "name": "stdout",
     "output_type": "stream",
     "text": [
      "~~~~~~~~~~~~~~~~~~~~~~~~~~~~~~~~~~~~~~~~~~~~~~~~~~~~~~~~~~~~~~~~~~~~~\n",
      "Running tests\n",
      "\n",
      "---------------------------------------------------------------------\n",
      "Test summary\n",
      "    Passed: 1\n",
      "    Failed: 0\n",
      "[ooooooooook] 100.0% passed\n",
      "\n"
     ]
    }
   ],
   "source": [
    "_ = ok.grade('q2_4')"
   ]
  },
  {
   "cell_type": "markdown",
   "metadata": {},
   "source": [
    "## 3. Predicting Temperatures\n"
   ]
  },
  {
   "cell_type": "markdown",
   "metadata": {},
   "source": [
    "In this exercise, we will try to predict the weather in California using the prediction method  discussed in [section 7.1 of the textbook](https://www.inferentialthinking.com/chapters/07/1/applying-a-function-to-a-column.html).  Much of the code is provided for you; you will be asked to understand and run the code and interpret the results.\n",
    "\n",
    "The US National Oceanic and Atmospheric Administration (NOAA) operates thousands of climate observation stations (mostly in the US) that collect information about local climate.  Among other things, each station records the highest and lowest observed temperature each day.  These data, called \"Quality Controlled Local Climatological Data,\" are publicly available [here](http://www.ncdc.noaa.gov/orders/qclcd/) and described [here](https://www.ncdc.noaa.gov/data-access/land-based-station-data/land-based-datasets/quality-controlled-local-climatological-data-qclcd).\n",
    "\n",
    "`temperatures.csv` contains an excerpt of that dataset.  Each row represents a temperature reading in Fahrenheit from one station on one day.  (The temperature is actually the highest temperature observed at that station on that day.)  All the readings are from 2015 and from California stations."
   ]
  },
  {
   "cell_type": "code",
   "execution_count": 21,
   "metadata": {
    "collapsed": false
   },
   "outputs": [
    {
     "data": {
      "text/html": [
       "<table border=\"1\" class=\"dataframe\">\n",
       "    <thead>\n",
       "        <tr>\n",
       "            <th>Temperature</th> <th>Date</th> <th>Latitude</th> <th>Longitude</th> <th>Station name</th>\n",
       "        </tr>\n",
       "    </thead>\n",
       "    <tbody>\n",
       "        <tr>\n",
       "            <td>67         </td> <td>1013</td> <td>40.9781 </td> <td>-124.109 </td> <td>Arcata/Eureka</td>\n",
       "        </tr>\n",
       "    </tbody>\n",
       "        <tr>\n",
       "            <td>63         </td> <td>811 </td> <td>38.3208 </td> <td>-123.075 </td> <td>Bodega       </td>\n",
       "        </tr>\n",
       "    </tbody>\n",
       "        <tr>\n",
       "            <td>94         </td> <td>706 </td> <td>39.1019 </td> <td>-121.568 </td> <td>Marysville   </td>\n",
       "        </tr>\n",
       "    </tbody>\n",
       "        <tr>\n",
       "            <td>59         </td> <td>1211</td> <td>36.9358 </td> <td>-121.789 </td> <td>Watsonville  </td>\n",
       "        </tr>\n",
       "    </tbody>\n",
       "        <tr>\n",
       "            <td>111        </td> <td>620 </td> <td>32.8342 </td> <td>-115.579 </td> <td>Imperial     </td>\n",
       "        </tr>\n",
       "    </tbody>\n",
       "        <tr>\n",
       "            <td>88         </td> <td>821 </td> <td>33.9    </td> <td>-117.25  </td> <td>Riverside    </td>\n",
       "        </tr>\n",
       "    </tbody>\n",
       "        <tr>\n",
       "            <td>68         </td> <td>606 </td> <td>33.938  </td> <td>-118.389 </td> <td>Los Angeles  </td>\n",
       "        </tr>\n",
       "    </tbody>\n",
       "        <tr>\n",
       "            <td>66         </td> <td>205 </td> <td>37.2847 </td> <td>-120.513 </td> <td>Merced       </td>\n",
       "        </tr>\n",
       "    </tbody>\n",
       "        <tr>\n",
       "            <td>89         </td> <td>902 </td> <td>39.49   </td> <td>-121.618 </td> <td>Oroville     </td>\n",
       "        </tr>\n",
       "    </tbody>\n",
       "        <tr>\n",
       "            <td>105        </td> <td>728 </td> <td>34.8536 </td> <td>-116.786 </td> <td>Daggett      </td>\n",
       "        </tr>\n",
       "    </tbody>\n",
       "</table>\n",
       "<p>... (990 rows omitted)</p"
      ],
      "text/plain": [
       "Temperature | Date | Latitude | Longitude | Station name\n",
       "67          | 1013 | 40.9781  | -124.109  | Arcata/Eureka\n",
       "63          | 811  | 38.3208  | -123.075  | Bodega\n",
       "94          | 706  | 39.1019  | -121.568  | Marysville\n",
       "59          | 1211 | 36.9358  | -121.789  | Watsonville\n",
       "111         | 620  | 32.8342  | -115.579  | Imperial\n",
       "88          | 821  | 33.9     | -117.25   | Riverside\n",
       "68          | 606  | 33.938   | -118.389  | Los Angeles\n",
       "66          | 205  | 37.2847  | -120.513  | Merced\n",
       "89          | 902  | 39.49    | -121.618  | Oroville\n",
       "105         | 728  | 34.8536  | -116.786  | Daggett\n",
       "... (990 rows omitted)"
      ]
     },
     "execution_count": 21,
     "metadata": {},
     "output_type": "execute_result"
    }
   ],
   "source": [
    "temperatures = Table.read_table(\"temperatures.csv\")\n",
    "temperatures"
   ]
  },
  {
   "cell_type": "markdown",
   "metadata": {},
   "source": [
    "Here is a scatter plot:"
   ]
  },
  {
   "cell_type": "code",
   "execution_count": 22,
   "metadata": {
    "collapsed": false
   },
   "outputs": [
    {
     "data": {
      "image/png": "[encoded data removed]",
      "text/plain": [
       "<matplotlib.figure.Figure at 0x7fbde8cc9588>"
      ]
     },
     "metadata": {},
     "output_type": "display_data"
    }
   ],
   "source": [
    "temperatures.scatter(\"Date\", \"Temperature\")\n",
    "_ = plots.xticks(np.arange(0, max(temperatures.column('Date')), 100), rotation=65)"
   ]
  },
  {
   "cell_type": "markdown",
   "metadata": {},
   "source": [
    "Each entry in the column \"Date\" is a number in MMDD format, meaning that the last two digits denote the day of the month, and the first 1 or 2 digits denote the month.\n",
    "\n",
    "**Question 1.** Why do the data form vertical bands with gaps?"
   ]
  },
  {
   "cell_type": "markdown",
   "metadata": {
    "deletable": false,
    "manual_grade": true,
    "manual_problem_id": "predicting_temperatures_1"
   },
   "source": [
    "The \"Date\" column is in MMDD format, meaning that the values of the \"DD\" part cannot be above 31 at the maximum. So, this means that the values go from 101 to 131, and then jump to 201. So, the data for the dates of value 132-200 had no rows attributed to them. This pattern repeats for each of the months, and thus it is the cause of the large gaps in the scatter plot."
   ]
  },
  {
   "cell_type": "markdown",
   "metadata": {},
   "source": [
    "Let us solve that problem.  We will convert each date to the number of days since the start of the year.<br>\n"
   ]
  },
  {
   "cell_type": "markdown",
   "metadata": {},
   "source": [
    "**Question 2.** Implement the `get_day_in_month` function. The result should be an integer.<br>\n",
    "_Hint:_ Use the [remainder operator](https://www.inferentialthinking.com/chapters/03/1/expressions.html)."
   ]
  },
  {
   "cell_type": "code",
   "execution_count": 23,
   "metadata": {
    "collapsed": true
   },
   "outputs": [],
   "source": [
    "def get_month(date):\n",
    "    \n",
    "    \"\"\"The month in the year for a given date.\n",
    "    \n",
    "    >>> get_month(315)\n",
    "    3\n",
    "    \"\"\"\n",
    "    return int(date / 100) # Divide by 100 and round down to the nearest integer\n",
    "\n",
    "def get_day_in_month(date):\n",
    "    \n",
    "   \n",
    "    \"\"\"The day in the month for a given date.\n",
    "    \n",
    "    >>> get_day_in_month(315)\n",
    "    15\n",
    "    \"\"\"\n",
    "    return date-get_month(date)*100"
   ]
  },
  {
   "cell_type": "code",
   "execution_count": 24,
   "metadata": {
    "collapsed": false
   },
   "outputs": [
    {
     "name": "stdout",
     "output_type": "stream",
     "text": [
      "~~~~~~~~~~~~~~~~~~~~~~~~~~~~~~~~~~~~~~~~~~~~~~~~~~~~~~~~~~~~~~~~~~~~~\n",
      "Running tests\n",
      "\n",
      "---------------------------------------------------------------------\n",
      "Test summary\n",
      "    Passed: 1\n",
      "    Failed: 0\n",
      "[ooooooooook] 100.0% passed\n",
      "\n"
     ]
    }
   ],
   "source": [
    "_ = ok.grade('q3_2')"
   ]
  },
  {
   "cell_type": "markdown",
   "metadata": {},
   "source": [
    "Next, we'll compute the *day of the year* for each temperature reading, which is the number of days from January 1 until the date of the reading."
   ]
  },
  {
   "cell_type": "code",
   "execution_count": 27,
   "metadata": {
    "collapsed": false
   },
   "outputs": [
    {
     "data": {
      "text/html": [
       "<table border=\"1\" class=\"dataframe\">\n",
       "    <thead>\n",
       "        <tr>\n",
       "            <th>Temperature</th> <th>Date</th> <th>Latitude</th> <th>Longitude</th> <th>Station name</th> <th>Day of year</th>\n",
       "        </tr>\n",
       "    </thead>\n",
       "    <tbody>\n",
       "        <tr>\n",
       "            <td>71         </td> <td>127 </td> <td>32.7    </td> <td>-117.2   </td> <td>San Diego      </td> <td>27         </td>\n",
       "        </tr>\n",
       "    </tbody>\n",
       "        <tr>\n",
       "            <td>61         </td> <td>102 </td> <td>34.1167 </td> <td>-119.117 </td> <td>Point Mugu     </td> <td>2          </td>\n",
       "        </tr>\n",
       "    </tbody>\n",
       "        <tr>\n",
       "            <td>56         </td> <td>126 </td> <td>40.9781 </td> <td>-124.109 </td> <td>Arcata/Eureka  </td> <td>26         </td>\n",
       "        </tr>\n",
       "    </tbody>\n",
       "        <tr>\n",
       "            <td>55         </td> <td>111 </td> <td>37.3591 </td> <td>-121.924 </td> <td>San Jose       </td> <td>11         </td>\n",
       "        </tr>\n",
       "    </tbody>\n",
       "        <tr>\n",
       "            <td>67         </td> <td>127 </td> <td>36.3189 </td> <td>-119.629 </td> <td>Hanford        </td> <td>27         </td>\n",
       "        </tr>\n",
       "    </tbody>\n",
       "        <tr>\n",
       "            <td>69         </td> <td>130 </td> <td>33.6267 </td> <td>-116.159 </td> <td>Palm Springs   </td> <td>30         </td>\n",
       "        </tr>\n",
       "    </tbody>\n",
       "        <tr>\n",
       "            <td>67         </td> <td>117 </td> <td>32.7    </td> <td>-117.2   </td> <td>San Diego      </td> <td>17         </td>\n",
       "        </tr>\n",
       "    </tbody>\n",
       "        <tr>\n",
       "            <td>79         </td> <td>124 </td> <td>33.8222 </td> <td>-116.504 </td> <td>Palm Springs   </td> <td>24         </td>\n",
       "        </tr>\n",
       "    </tbody>\n",
       "        <tr>\n",
       "            <td>73         </td> <td>116 </td> <td>35.2372 </td> <td>-120.641 </td> <td>San Luis Obispo</td> <td>16         </td>\n",
       "        </tr>\n",
       "    </tbody>\n",
       "        <tr>\n",
       "            <td>70         </td> <td>128 </td> <td>39.1019 </td> <td>-121.568 </td> <td>Marysville     </td> <td>28         </td>\n",
       "        </tr>\n",
       "    </tbody>\n",
       "</table>\n",
       "<p>... (990 rows omitted)</p"
      ],
      "text/plain": [
       "Temperature | Date | Latitude | Longitude | Station name    | Day of year\n",
       "71          | 127  | 32.7     | -117.2    | San Diego       | 27\n",
       "61          | 102  | 34.1167  | -119.117  | Point Mugu      | 2\n",
       "56          | 126  | 40.9781  | -124.109  | Arcata/Eureka   | 26\n",
       "55          | 111  | 37.3591  | -121.924  | San Jose        | 11\n",
       "67          | 127  | 36.3189  | -119.629  | Hanford         | 27\n",
       "69          | 130  | 33.6267  | -116.159  | Palm Springs    | 30\n",
       "67          | 117  | 32.7     | -117.2    | San Diego       | 17\n",
       "79          | 124  | 33.8222  | -116.504  | Palm Springs    | 24\n",
       "73          | 116  | 35.2372  | -120.641  | San Luis Obispo | 16\n",
       "70          | 128  | 39.1019  | -121.568  | Marysville      | 28\n",
       "... (990 rows omitted)"
      ]
     },
     "execution_count": 27,
     "metadata": {},
     "output_type": "execute_result"
    }
   ],
   "source": [
    "# You don't need to change this cell, but you are strongly encouraged\n",
    "# to read all of the code and understand it.\n",
    "\n",
    "days_in_month = make_array(31, 28, 31, 30, 31, 30, 31, 31, 30, 31, 30, 31)\n",
    "\n",
    "# A table with one row for each month.  For each month, we have\n",
    "# the number of the month (e.g. 3 for March), the number of\n",
    "# days in that month in 2015 (e.g. 31 for March), and the\n",
    "# number of days in the year before the first day of that month\n",
    "# (e.g. 0 for January or 59 for March).\n",
    "days_into_year =  Table().with_columns(\n",
    "    \"Month\", np.arange(12)+1,\n",
    "    \"Days until start of month\", np.cumsum(days_in_month) - days_in_month)\n",
    "\n",
    "# First, compute the month and day-of-month for each temperature.\n",
    "months = temperatures.apply(get_month, \"Date\")\n",
    "day_of_month = temperatures.apply(get_day_in_month, \"Date\")\n",
    "with_month_and_day = temperatures.with_columns(\n",
    "    \"Month\", months,\n",
    "    \"Day of month\", day_of_month\n",
    ")\n",
    "\n",
    "# Then, compute how many days have passed since \n",
    "# the start of the year to reach each date.\n",
    "t = with_month_and_day.join('Month', days_into_year)\n",
    "day_of_year = t.column('Days until start of month') + t.column('Day of month')\n",
    "with_dates_fixed = t.drop(0, 6, 7).with_column(\"Day of year\", day_of_year)\n",
    "with_dates_fixed"
   ]
  },
  {
   "cell_type": "markdown",
   "metadata": {},
   "source": [
    "**Question 3**. Set `missing` to an array of all the days of the year (integers from 1 through 365) that do not have any temperature readings.<br>\n",
    "*Hint:* One strategy is to start with a table of all days in the year, then use either the predicate `are.not_contained_in` ([docs](http://data8.org/datascience/predicates.html)) or the method `exclude` ([docs](http://data8.org/datascience/_autosummary/datascience.tables.Table.exclude.html#datascience.tables.Table.exclude))  to eliminate all of the days of the year that do have a temperature reading. "
   ]
  },
  {
   "cell_type": "code",
   "execution_count": 28,
   "metadata": {
    "collapsed": false
   },
   "outputs": [
    {
     "data": {
      "text/plain": [
       "array([ 14,  33,  35,  57,  60,  76,  80,  81,  85,  96, 102, 103, 130,\n",
       "       143, 178, 181, 186, 210, 215, 227, 247, 258, 264, 270, 272, 294,\n",
       "       319, 344, 354, 358])"
      ]
     },
     "execution_count": 28,
     "metadata": {},
     "output_type": "execute_result"
    }
   ],
   "source": [
    "missing = Table().with_column('Days', np.arange(1,366))\n",
    "missing = missing.exclude(with_dates_fixed.column('Day of year') - 1)\n",
    "missing = missing.column('Days')\n",
    "missing"
   ]
  },
  {
   "cell_type": "code",
   "execution_count": 29,
   "metadata": {
    "collapsed": false
   },
   "outputs": [
    {
     "name": "stdout",
     "output_type": "stream",
     "text": [
      "~~~~~~~~~~~~~~~~~~~~~~~~~~~~~~~~~~~~~~~~~~~~~~~~~~~~~~~~~~~~~~~~~~~~~\n",
      "Running tests\n",
      "\n",
      "---------------------------------------------------------------------\n",
      "Test summary\n",
      "    Passed: 1\n",
      "    Failed: 0\n",
      "[ooooooooook] 100.0% passed\n",
      "\n"
     ]
    }
   ],
   "source": [
    "_ = ok.grade('q3_3')"
   ]
  },
  {
   "cell_type": "markdown",
   "metadata": {},
   "source": [
    "Using `with_dates_fixed`, we can make a better scatter plot."
   ]
  },
  {
   "cell_type": "code",
   "execution_count": 30,
   "metadata": {
    "collapsed": false
   },
   "outputs": [
    {
     "data": {
      "image/png": "[encoded data removed]",
      "text/plain": [
       "<matplotlib.figure.Figure at 0x7fbde473c4a8>"
      ]
     },
     "metadata": {},
     "output_type": "display_data"
    }
   ],
   "source": [
    "with_dates_fixed.scatter(\"Day of year\", \"Temperature\")"
   ]
  },
  {
   "cell_type": "markdown",
   "metadata": {},
   "source": [
    "Let's do some prediction.  For any reading on any day, we will predict its value using all the readings from the week before and after that day.  A reasonable prediction is that the reading will be the average of all those readings.  We will package our code in a function."
   ]
  },
  {
   "cell_type": "code",
   "execution_count": 31,
   "metadata": {
    "collapsed": true
   },
   "outputs": [],
   "source": [
    "def predict_temperature(day):\n",
    "    \"\"\"A prediction of the temperature (in Fahrenheit) on a given day at some station.\n",
    "    \"\"\"\n",
    "    nearby_readings = with_dates_fixed.where(\"Day of year\", are.between_or_equal_to(day - 7, day + 7))\n",
    "    return np.average(nearby_readings.column(\"Temperature\"))"
   ]
  },
  {
   "cell_type": "markdown",
   "metadata": {},
   "source": [
    "**Question 4.** Suppose you're planning a trip to Yosemite for Thanksgiving break this year, and you'd like to predict the temperature on November 26. Use `predict_temperature` to compute a prediction for a temperature reading on that day."
   ]
  },
  {
   "cell_type": "code",
   "execution_count": 32,
   "metadata": {
    "collapsed": false
   },
   "outputs": [
    {
     "data": {
      "text/plain": [
       "64.319148936170208"
      ]
     },
     "execution_count": 32,
     "metadata": {},
     "output_type": "execute_result"
    }
   ],
   "source": [
    "thanksgiving_prediction = predict_temperature(330)\n",
    "thanksgiving_prediction"
   ]
  },
  {
   "cell_type": "code",
   "execution_count": 33,
   "metadata": {
    "collapsed": false
   },
   "outputs": [
    {
     "name": "stdout",
     "output_type": "stream",
     "text": [
      "~~~~~~~~~~~~~~~~~~~~~~~~~~~~~~~~~~~~~~~~~~~~~~~~~~~~~~~~~~~~~~~~~~~~~\n",
      "Running tests\n",
      "\n",
      "---------------------------------------------------------------------\n",
      "Test summary\n",
      "    Passed: 1\n",
      "    Failed: 0\n",
      "[ooooooooook] 100.0% passed\n",
      "\n"
     ]
    }
   ],
   "source": [
    "_ = ok.grade('q3_4')"
   ]
  },
  {
   "cell_type": "markdown",
   "metadata": {},
   "source": [
    "Below we have computed a predicted temperature for each reading in the table and plotted both.  (It may take a **minute or two** to run the cell.)"
   ]
  },
  {
   "cell_type": "code",
   "execution_count": 34,
   "metadata": {
    "collapsed": false
   },
   "outputs": [
    {
     "data": {
      "image/png": "[encoded data removed]",
      "text/plain": [
       "<matplotlib.figure.Figure at 0x7fbde461dc50>"
      ]
     },
     "metadata": {},
     "output_type": "display_data"
    }
   ],
   "source": [
    "with_predictions = with_dates_fixed.with_column(\n",
    "    \"Predicted temperature\",\n",
    "    with_dates_fixed.apply(predict_temperature, \"Day of year\"))\n",
    "with_predictions.select(\"Day of year\", \"Temperature\", \"Predicted temperature\")\\\n",
    "                .scatter(\"Day of year\")"
   ]
  },
  {
   "cell_type": "markdown",
   "metadata": {},
   "source": [
    "**Question 5.** The scatter plot is called a *graph of averages*.  In the [example in the textbook](https://www.inferentialthinking.com/chapters/07/1/applying-a-function-to-a-column.html#Example:-Prediction), the graph of averages roughly followed a straight line.  Is that true for this one?  Using your knowledge about the weather, explain why or why not."
   ]
  },
  {
   "cell_type": "markdown",
   "metadata": {
    "deletable": false,
    "manual_grade": true,
    "manual_problem_id": "predicting_temperatures_5"
   },
   "source": [
    "The graph does not follow a straight line. This is explained by the scatter plot measuring temperature patterns, because temperature tends to follow a nonlinear pattern, specifically in the changing of the seasons. We expect the temperature to be cold on Jan 1, hot during the summer, and then cold again by Dec 30."
   ]
  },
  {
   "cell_type": "markdown",
   "metadata": {},
   "source": [
    "**Question 6.** According to the [Wikipedia article](https://en.wikipedia.org/wiki/Climate_of_California) on California's climate, \"[t]he climate of California varies widely, from hot desert to subarctic.\"  Suppose we limited our data to weather stations in a smaller area whose climate varied less from place to place (for example, the state of Vermont, or the San Francisco Bay Area).  If we made the same graph for that dataset, in what ways would you expect it to look different?"
   ]
  },
  {
   "cell_type": "markdown",
   "metadata": {
    "deletable": false,
    "manual_grade": true,
    "manual_problem_id": "predicting_temperatures_6"
   },
   "source": [
    "The blue dots, which represent the raw data, will be closer together in terms of their y-value due to the smaller deviation. The graph of averages will become a smoother curve (less noise)."
   ]
  },
  {
   "cell_type": "code",
   "execution_count": null,
   "metadata": {
    "collapsed": true
   },
   "outputs": [],
   "source": []
  },
  {
   "cell_type": "code",
   "execution_count": null,
   "metadata": {
    "collapsed": true
   },
   "outputs": [],
   "source": []
  }
 ],
 "metadata": {
  "kernelspec": {
   "display_name": "Python 3",
   "language": "python",
   "name": "python3"
  },
  "language_info": {
   "codemirror_mode": {
    "name": "ipython",
    "version": 3
   },
   "file_extension": ".py",
   "mimetype": "text/x-python",
   "name": "python",
   "nbconvert_exporter": "python",
   "pygments_lexer": "ipython3",
   "version": "3.6.0"
  }
 },
 "nbformat": 4,
 "nbformat_minor": 1
}
