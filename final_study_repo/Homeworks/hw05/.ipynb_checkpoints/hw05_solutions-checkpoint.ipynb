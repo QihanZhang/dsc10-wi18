{
 "cells": [
  {
   "cell_type": "markdown",
   "metadata": {},
   "source": [
    "# Homework 5: While Loops, Sampling and Probability\n",
    "\n",
    "Please complete this notebook by filling in the cells provided. Before you begin, execute the following cell to load the provided tests. Each time you start your server, you will need to execute this cell again to load the tests.\n",
    "\n",
    "Reading: Chapters [8](https://www.inferentialthinking.com/chapters/08/randomness.html), [9](https://www.inferentialthinking.com/chapters/09/empirical-distributions.html) and see part 1 for readings on while loops.\n",
    "\n",
    "This assignment is due Sunday, November 12th at 11:59pm. You are given two slip days thoughout the quarter which can extend the deadline by one day. See the syllabus for more details. With the exception of using slip days, late work will not be accepted. \n",
    "\n",
    "Directly sharing answers is not okay, but discussing problems with the course staff or with other students is encouraged. \n",
    "\n",
    "You should start early so that you have time to get help if you're stuck. A calendar with lab hour times and locations appears on (https://sites.google.com/a/eng.ucsd.edu/dsc10-fall-2017/staff-hours)."
   ]
  },
  {
   "cell_type": "markdown",
   "metadata": {},
   "source": [
    "Run the cell below to prepare the notebook and the tests. **Passing the automatic tests does not guarantee full credit on any question.** The tests are provided to help catch some common errors, but it is *your* responsibility to answer the questions correctly. If you're not sure, ask someone (not for the answer, but for some guidance about your approach)."
   ]
  },
  {
   "cell_type": "code",
   "execution_count": null,
   "metadata": {
    "collapsed": false
   },
   "outputs": [],
   "source": [
    "# Don't change this cell; just run it. \n",
    "\n",
    "import numpy as np\n",
    "from datascience import *\n",
    "\n",
    "%matplotlib inline\n",
    "import matplotlib.pyplot as plots\n",
    "plots.style.use('fivethirtyeight')\n",
    "\n",
    "from client.api.notebook import Notebook\n",
    "ok = Notebook('hw05.ok')\n",
    "_ = ok.auth(inline=True)"
   ]
  },
  {
   "cell_type": "markdown",
   "metadata": {},
   "source": [
    "Once you're finished, select \"Save and Checkpoint\" in the File menu and then execute the `submit` cell below. The result will contain a link that you can use to check that your assignment has been submitted successfully. If you submit more than once before the deadline, we will only grade your final submission."
   ]
  },
  {
   "cell_type": "code",
   "execution_count": null,
   "metadata": {
    "collapsed": false
   },
   "outputs": [],
   "source": [
    "_ = ok.submit()"
   ]
  },
  {
   "cell_type": "markdown",
   "metadata": {},
   "source": [
    "# 0. Probability"
   ]
  },
  {
   "cell_type": "markdown",
   "metadata": {},
   "source": [
    "Suppose you are playing a *friendly* game of Mario Kart with three of your younger cousins (four players total). Mario Kart is a racing game in which the winner is the person who finishes the race before everyone else.\n",
    "\n",
    "Note: Give an exact answer using probability, not an estimate from simulation."
   ]
  },
  {
   "cell_type": "markdown",
   "metadata": {},
   "source": [
    "**Question 1.** Assuming that all players are equally skilled, what is the probability that you win? Assign your answer to a variable called `prob_win`."
   ]
  },
  {
   "cell_type": "code",
   "execution_count": 3,
   "metadata": {
    "collapsed": true
   },
   "outputs": [],
   "source": [
    "prob_win = 0.25"
   ]
  },
  {
   "cell_type": "code",
   "execution_count": 4,
   "metadata": {
    "collapsed": false
   },
   "outputs": [
    {
     "name": "stdout",
     "output_type": "stream",
     "text": [
      "~~~~~~~~~~~~~~~~~~~~~~~~~~~~~~~~~~~~~~~~~~~~~~~~~~~~~~~~~~~~~~~~~~~~~\n",
      "Running tests\n",
      "\n",
      "---------------------------------------------------------------------\n",
      "Test summary\n",
      "    Passed: 1\n",
      "    Failed: 0\n",
      "[ooooooooook] 100.0% passed\n",
      "\n"
     ]
    }
   ],
   "source": [
    "_ = ok.grade('q0_1')"
   ]
  },
  {
   "cell_type": "markdown",
   "metadata": {},
   "source": [
    "**Question 2.** What is the probability that you and your favorite cousin finish first and second? Here, whoever finishes first or second does not matter as long as it is either you or your favorite cousin. Assign your answer to a variable called `first_and_second`."
   ]
  },
  {
   "cell_type": "code",
   "execution_count": 5,
   "metadata": {
    "collapsed": true
   },
   "outputs": [],
   "source": [
    "first_and_second = 2 * 2 * 1.0 / (4 * 3 * 2 * 1)"
   ]
  },
  {
   "cell_type": "code",
   "execution_count": 6,
   "metadata": {
    "collapsed": false
   },
   "outputs": [
    {
     "name": "stdout",
     "output_type": "stream",
     "text": [
      "~~~~~~~~~~~~~~~~~~~~~~~~~~~~~~~~~~~~~~~~~~~~~~~~~~~~~~~~~~~~~~~~~~~~~\n",
      "Running tests\n",
      "\n",
      "---------------------------------------------------------------------\n",
      "Test summary\n",
      "    Passed: 1\n",
      "    Failed: 0\n",
      "[ooooooooook] 100.0% passed\n",
      "\n"
     ]
    }
   ],
   "source": [
    "_ = ok.grade('q0_2')"
   ]
  },
  {
   "cell_type": "markdown",
   "metadata": {},
   "source": [
    "Now let's make this more realistic. Since your cousins are much younger and not nearly as skilled as you, say that the probability that you win a game is 0.97 and the chance that each of your younger cousins wins is 0.01."
   ]
  },
  {
   "cell_type": "markdown",
   "metadata": {},
   "source": [
    "**Question 3.** How many games do you have to play before the probability of you winning all of them is below 75%?  Assign your answer to a variable called `win_all`. Note that your answer should be a whole number."
   ]
  },
  {
   "cell_type": "code",
   "execution_count": 7,
   "metadata": {
    "collapsed": true
   },
   "outputs": [],
   "source": [
    "win_all = 29"
   ]
  },
  {
   "cell_type": "code",
   "execution_count": 8,
   "metadata": {
    "collapsed": false
   },
   "outputs": [
    {
     "name": "stdout",
     "output_type": "stream",
     "text": [
      "~~~~~~~~~~~~~~~~~~~~~~~~~~~~~~~~~~~~~~~~~~~~~~~~~~~~~~~~~~~~~~~~~~~~~\n",
      "Running tests\n",
      "\n",
      "---------------------------------------------------------------------\n",
      "Test summary\n",
      "    Passed: 1\n",
      "    Failed: 0\n",
      "[ooooooooook] 100.0% passed\n",
      "\n"
     ]
    }
   ],
   "source": [
    "_ = ok.grade('q0_3')"
   ]
  },
  {
   "cell_type": "markdown",
   "metadata": {},
   "source": [
    "**Question 4. ** If one of your younger cousins miraculously wins the first three games, what is the probability that this same cousin will win the 4th game? Assign your answer to a variable called `prob_cousin_wins`."
   ]
  },
  {
   "cell_type": "code",
   "execution_count": 9,
   "metadata": {
    "collapsed": true
   },
   "outputs": [],
   "source": [
    "prob_cousin_wins = 0.01/3"
   ]
  },
  {
   "cell_type": "code",
   "execution_count": 10,
   "metadata": {
    "collapsed": false
   },
   "outputs": [
    {
     "name": "stdout",
     "output_type": "stream",
     "text": [
      "~~~~~~~~~~~~~~~~~~~~~~~~~~~~~~~~~~~~~~~~~~~~~~~~~~~~~~~~~~~~~~~~~~~~~\n",
      "Running tests\n",
      "\n",
      "---------------------------------------------------------------------\n",
      "Test summary\n",
      "    Passed: 1\n",
      "    Failed: 0\n",
      "[ooooooooook] 100.0% passed\n",
      "\n"
     ]
    }
   ],
   "source": [
    "_ = ok.grade('q0_4')"
   ]
  },
  {
   "cell_type": "markdown",
   "metadata": {},
   "source": [
    "## 1.  While Loops and Sampling"
   ]
  },
  {
   "cell_type": "markdown",
   "metadata": {},
   "source": [
    "In this section, we will introduce while loops. Here are some online resources providing the syntax and semantics of while loops [1](https://www.cs.utah.edu/~germain/PPS/Topics/while_loops.html) [2](https://www.programiz.com/python-programming/while-loop). While loops are useful when you want to traverse through some data until a condition is met. In this section (and only this section: part 1), you will only be allowed to use while loops when iterating through data. **No for loops allowed**."
   ]
  },
  {
   "cell_type": "markdown",
   "metadata": {},
   "source": [
    "Run this cell to display a probability distribution. In this distribution, there is a variable that takes on values from 1 to 6, with associated probabilites shown in the table. You can ignore the code used to generate this table."
   ]
  },
  {
   "cell_type": "code",
   "execution_count": 11,
   "metadata": {
    "collapsed": false
   },
   "outputs": [
    {
     "data": {
      "text/html": [
       "<table border=\"1\" class=\"dataframe\">\n",
       "    <thead>\n",
       "        <tr>\n",
       "            <th>value</th> <th>probability of value</th>\n",
       "        </tr>\n",
       "    </thead>\n",
       "    <tbody>\n",
       "        <tr>\n",
       "            <td>1    </td> <td>0.0666662           </td>\n",
       "        </tr>\n",
       "    </tbody>\n",
       "        <tr>\n",
       "            <td>2    </td> <td>0.133332            </td>\n",
       "        </tr>\n",
       "    </tbody>\n",
       "        <tr>\n",
       "            <td>3    </td> <td>0.199999            </td>\n",
       "        </tr>\n",
       "    </tbody>\n",
       "        <tr>\n",
       "            <td>4    </td> <td>0.266665            </td>\n",
       "        </tr>\n",
       "    </tbody>\n",
       "        <tr>\n",
       "            <td>5    </td> <td>0.333331            </td>\n",
       "        </tr>\n",
       "    </tbody>\n",
       "        <tr>\n",
       "            <td>6    </td> <td>6.66662e-06         </td>\n",
       "        </tr>\n",
       "    </tbody>\n",
       "</table>"
      ],
      "text/plain": [
       "value | probability of value\n",
       "1     | 0.0666662\n",
       "2     | 0.133332\n",
       "3     | 0.199999\n",
       "4     | 0.266665\n",
       "5     | 0.333331\n",
       "6     | 6.66662e-06"
      ]
     },
     "execution_count": 11,
     "metadata": {},
     "output_type": "execute_result"
    }
   ],
   "source": [
    "values = make_array(1,2,3,4,5,6)\n",
    "prob_of_value = make_array(0.1,0.2,0.3,0.4,0.5,0.00001)\n",
    "normalizer = 1.0/sum(prob_of_value)\n",
    "prob_of_value = normalizer * prob_of_value # ensure probabilities sum to 1\n",
    "distribution_table = Table().with_columns('value', values,'probability of value', prob_of_value)\n",
    "distribution_table"
   ]
  },
  {
   "cell_type": "markdown",
   "metadata": {},
   "source": [
    "**Question 1.** Generate a random sample of size 1000 from this probability distribution. That is, create an array of length 1000, where each entry is a random number from 1 through 6, chosen according to the probability distribution shown in the table above. For example, the chance that each entry is a 5 is pretty high (about 1 in 3), but the chance that each entry is a 6 is very small. Assign this array to a variable called `sample_1000`.\n",
    "\n",
    "*Hint: use the parameters available in [np.random.choice](https://docs.scipy.org/doc/numpy-1.13.0/reference/generated/numpy.random.choice.html).*"
   ]
  },
  {
   "cell_type": "code",
   "execution_count": 12,
   "metadata": {
    "collapsed": true
   },
   "outputs": [],
   "source": [
    "# generate your random sample here\n",
    "sample_1000 = np.random.choice(6,1000,p=prob_of_value) + 1"
   ]
  },
  {
   "cell_type": "code",
   "execution_count": 13,
   "metadata": {
    "collapsed": false
   },
   "outputs": [
    {
     "name": "stdout",
     "output_type": "stream",
     "text": [
      "~~~~~~~~~~~~~~~~~~~~~~~~~~~~~~~~~~~~~~~~~~~~~~~~~~~~~~~~~~~~~~~~~~~~~\n",
      "Running tests\n",
      "\n",
      "---------------------------------------------------------------------\n",
      "Test summary\n",
      "    Passed: 1\n",
      "    Failed: 0\n",
      "[ooooooooook] 100.0% passed\n",
      "\n"
     ]
    }
   ],
   "source": [
    "_ = ok.grade('q1_1')"
   ]
  },
  {
   "cell_type": "markdown",
   "metadata": {},
   "source": [
    "Now to become familiar with while loops, we will create a few functions that will help us better understand our sample."
   ]
  },
  {
   "cell_type": "markdown",
   "metadata": {},
   "source": [
    "** Question 2.** The probability of 6 being selected is very small. Let's write a function that can check whether a certain element (such as 6) is included in the sample. Your function should take in a `sample` in the form of an array and an element `x`, and return `True` or `False`. It **must** use a while loop. Then use your function to determine if 6 was in the sample of size 1000. Assign this result to a variable called `is_six_in1`.\n",
    "\n",
    "*Hint: Go through each entry in the array until you find a 6.*"
   ]
  },
  {
   "cell_type": "code",
   "execution_count": 14,
   "metadata": {
    "collapsed": false
   },
   "outputs": [
    {
     "data": {
      "text/plain": [
       "False"
      ]
     },
     "execution_count": 14,
     "metadata": {},
     "output_type": "execute_result"
    }
   ],
   "source": [
    "def inSampleV1(sample, x):\n",
    "    index = 0\n",
    "    while (index < len(sample)):\n",
    "        if x == sample[index]:\n",
    "            return True\n",
    "        index += 1\n",
    "    return False\n",
    "\n",
    "is_six_in1 = inSampleV1(sample_1000, 6)\n",
    "is_six_in1"
   ]
  },
  {
   "cell_type": "code",
   "execution_count": 15,
   "metadata": {
    "collapsed": false
   },
   "outputs": [
    {
     "name": "stdout",
     "output_type": "stream",
     "text": [
      "~~~~~~~~~~~~~~~~~~~~~~~~~~~~~~~~~~~~~~~~~~~~~~~~~~~~~~~~~~~~~~~~~~~~~\n",
      "Running tests\n",
      "\n",
      "---------------------------------------------------------------------\n",
      "Test summary\n",
      "    Passed: 1\n",
      "    Failed: 0\n",
      "[ooooooooook] 100.0% passed\n",
      "\n"
     ]
    }
   ],
   "source": [
    "_ = ok.grade('q1_2')"
   ]
  },
  {
   "cell_type": "markdown",
   "metadata": {},
   "source": [
    "** Question 3.** Now write a function to do the same thing, but this time use only **one line** of Python code in the body of the function. Then use your function to determine if 6 was in the sample of size 1000. Assign this result to a variable called `is_six_in2`.\n",
    "\n",
    "*Hint: Python has an [`in` keyword](http://kracekumar.com/post/22512660850/python-in-operator-use-cases) for testing membership.*"
   ]
  },
  {
   "cell_type": "code",
   "execution_count": 16,
   "metadata": {
    "collapsed": false
   },
   "outputs": [
    {
     "data": {
      "text/plain": [
       "False"
      ]
     },
     "execution_count": 16,
     "metadata": {},
     "output_type": "execute_result"
    }
   ],
   "source": [
    "def inSampleV2(sample, x):\n",
    "    return x in sample\n",
    "\n",
    "is_six_in2 = inSampleV2(sample_1000, 6)\n",
    "is_six_in2"
   ]
  },
  {
   "cell_type": "code",
   "execution_count": 17,
   "metadata": {
    "collapsed": false
   },
   "outputs": [
    {
     "name": "stdout",
     "output_type": "stream",
     "text": [
      "~~~~~~~~~~~~~~~~~~~~~~~~~~~~~~~~~~~~~~~~~~~~~~~~~~~~~~~~~~~~~~~~~~~~~\n",
      "Running tests\n",
      "\n",
      "---------------------------------------------------------------------\n",
      "Test summary\n",
      "    Passed: 1\n",
      "    Failed: 0\n",
      "[ooooooooook] 100.0% passed\n",
      "\n"
     ]
    }
   ],
   "source": [
    "_ = ok.grade('q1_3')"
   ]
  },
  {
   "cell_type": "markdown",
   "metadata": {},
   "source": [
    "**Question 4.** Odds are, your sample of size 1000 did not contain the value 6. Continue generating larger and larger samples until you have one with exactly one 6 in it. Your solution **must** use a while loop. Assign the resulting sample size to a variable called `final_sample_size`.\n",
    "\n",
    "*Hint 1: We have written a function that checks if 6 is in an array; can we use it?*\n",
    "\n",
    "*Hint 2: You don't need to try every possible sample size (1000, 1001, 1002, ...) inside your while loop. Doing so will take too long!*"
   ]
  },
  {
   "cell_type": "code",
   "execution_count": 18,
   "metadata": {
    "collapsed": true
   },
   "outputs": [],
   "source": [
    "curr_sample_size = 1000\n",
    "next_sample = sample_1000\n",
    "while (not(inSampleV2(next_sample, 6))):\n",
    "    curr_sample_size *= 10\n",
    "    next_sample = np.random.choice(6,curr_sample_size,p=prob_of_value) + 1\n",
    "final_sample_size = len(next_sample)"
   ]
  },
  {
   "cell_type": "code",
   "execution_count": 19,
   "metadata": {
    "collapsed": false
   },
   "outputs": [
    {
     "name": "stdout",
     "output_type": "stream",
     "text": [
      "~~~~~~~~~~~~~~~~~~~~~~~~~~~~~~~~~~~~~~~~~~~~~~~~~~~~~~~~~~~~~~~~~~~~~\n",
      "Running tests\n",
      "\n",
      "---------------------------------------------------------------------\n",
      "Test summary\n",
      "    Passed: 1\n",
      "    Failed: 0\n",
      "[ooooooooook] 100.0% passed\n",
      "\n"
     ]
    }
   ],
   "source": [
    "_ = ok.grade('q1_4')"
   ]
  },
  {
   "cell_type": "markdown",
   "metadata": {},
   "source": [
    "# 2. Beer Reviews"
   ]
  },
  {
   "cell_type": "markdown",
   "metadata": {},
   "source": [
    "Suppose we have collected data from 50,000 people around the world regarding their opinions of various beers. The data we have for each review is the type of beer reviewed, and a taste rating, on a scale of 1 to 5, in increments of 0.5\n",
    "\n",
    "Run the cell below to display the data."
   ]
  },
  {
   "cell_type": "code",
   "execution_count": 20,
   "metadata": {
    "collapsed": false
   },
   "outputs": [
    {
     "data": {
      "text/html": [
       "<table border=\"1\" class=\"dataframe\">\n",
       "    <thead>\n",
       "        <tr>\n",
       "            <th>Beer Style</th> <th>Taste Review</th>\n",
       "        </tr>\n",
       "    </thead>\n",
       "    <tbody>\n",
       "        <tr>\n",
       "            <td>Hefeweizen                    </td> <td>1.5         </td>\n",
       "        </tr>\n",
       "    </tbody>\n",
       "        <tr>\n",
       "            <td>English Strong Ale            </td> <td>3           </td>\n",
       "        </tr>\n",
       "    </tbody>\n",
       "        <tr>\n",
       "            <td>Foreign / Export Stout        </td> <td>3           </td>\n",
       "        </tr>\n",
       "    </tbody>\n",
       "        <tr>\n",
       "            <td>German Pilsener               </td> <td>3           </td>\n",
       "        </tr>\n",
       "    </tbody>\n",
       "        <tr>\n",
       "            <td>American Double / Imperial IPA</td> <td>4.5         </td>\n",
       "        </tr>\n",
       "    </tbody>\n",
       "        <tr>\n",
       "            <td>Herbed / Spiced Beer          </td> <td>3.5         </td>\n",
       "        </tr>\n",
       "    </tbody>\n",
       "        <tr>\n",
       "            <td>Herbed / Spiced Beer          </td> <td>4           </td>\n",
       "        </tr>\n",
       "    </tbody>\n",
       "        <tr>\n",
       "            <td>Herbed / Spiced Beer          </td> <td>3.5         </td>\n",
       "        </tr>\n",
       "    </tbody>\n",
       "        <tr>\n",
       "            <td>Herbed / Spiced Beer          </td> <td>4           </td>\n",
       "        </tr>\n",
       "    </tbody>\n",
       "        <tr>\n",
       "            <td>Herbed / Spiced Beer          </td> <td>4           </td>\n",
       "        </tr>\n",
       "    </tbody>\n",
       "</table>\n",
       "<p>... (49990 rows omitted)</p"
      ],
      "text/plain": [
       "Beer Style                     | Taste Review\n",
       "Hefeweizen                     | 1.5\n",
       "English Strong Ale             | 3\n",
       "Foreign / Export Stout         | 3\n",
       "German Pilsener                | 3\n",
       "American Double / Imperial IPA | 4.5\n",
       "Herbed / Spiced Beer           | 3.5\n",
       "Herbed / Spiced Beer           | 4\n",
       "Herbed / Spiced Beer           | 3.5\n",
       "Herbed / Spiced Beer           | 4\n",
       "Herbed / Spiced Beer           | 4\n",
       "... (49990 rows omitted)"
      ]
     },
     "execution_count": 20,
     "metadata": {},
     "output_type": "execute_result"
    }
   ],
   "source": [
    "beer_review_table = Table().read_table('beer_data.csv')\n",
    "beer_review_table"
   ]
  },
  {
   "cell_type": "markdown",
   "metadata": {},
   "source": [
    "Run the cell below to create a histogram of these taste reviews, disregarding the type of each beer. We will consider this our *population* of reviews, and we will consider sampling from this population."
   ]
  },
  {
   "cell_type": "code",
   "execution_count": 21,
   "metadata": {
    "collapsed": false
   },
   "outputs": [
    {
     "data": {
      "image/png": "[encoded data removed]",
      "text/plain": [
       "<matplotlib.figure.Figure at 0x7f2af190c3c8>"
      ]
     },
     "metadata": {},
     "output_type": "display_data"
    }
   ],
   "source": [
    "beer_review_table.hist('Taste Review', bins=np.arange(1, 6, 0.5))"
   ]
  },
  {
   "cell_type": "markdown",
   "metadata": {},
   "source": [
    "**Question 1.** Suppose we are at a German bar and we can only obtain reviews for some popular German beers available at this bar. Extract this convenience sample from the entire population and plot a histogram showing the distribution of taste reviews for these German beers. Use the **in** keyword to check inclusion in the given list of popular German beers. Assign the table that produces this histogram to a variable called `available_beer_table`.\n",
    "\n",
    "*Hint: Starting by defining a function to determine whether a given type of beer is available at this German bar. Then add a column to `beer_review_table` that says whether each review is part of our convenience sample.*"
   ]
  },
  {
   "cell_type": "code",
   "execution_count": 22,
   "metadata": {
    "collapsed": false
   },
   "outputs": [
    {
     "name": "stdout",
     "output_type": "stream",
     "text": [
      "845\n"
     ]
    },
    {
     "data": {
      "image/png": "[encoded data removed]",
      "text/plain": [
       "<matplotlib.figure.Figure at 0x7f2af18c8be0>"
      ]
     },
     "metadata": {},
     "output_type": "display_data"
    }
   ],
   "source": [
    "# some popular German beers\n",
    "available_beers = ['Hefeweizen', 'Bock', 'Dopplebock', 'Eisbock', 'Berliner Weissbier', 'Dunkelweizen']\n",
    "\n",
    "def is_available(x):\n",
    "    return x in available_beers\n",
    "\n",
    "available_beer_table = beer_review_table.with_column(\"Included\", beer_review_table.apply(is_available, \"Beer Style\")).where(\"Included\", True)\n",
    "available_beer_table.hist('Taste Review', bins=np.arange(1, 6, 0.5))\n",
    "print(available_beer_table.num_rows)"
   ]
  },
  {
   "cell_type": "code",
   "execution_count": 23,
   "metadata": {
    "collapsed": false
   },
   "outputs": [
    {
     "name": "stdout",
     "output_type": "stream",
     "text": [
      "~~~~~~~~~~~~~~~~~~~~~~~~~~~~~~~~~~~~~~~~~~~~~~~~~~~~~~~~~~~~~~~~~~~~~\n",
      "Running tests\n",
      "\n",
      "---------------------------------------------------------------------\n",
      "Test summary\n",
      "    Passed: 1\n",
      "    Failed: 0\n",
      "[ooooooooook] 100.0% passed\n",
      "\n"
     ]
    }
   ],
   "source": [
    "_ = ok.grade('q2_1')"
   ]
  },
  {
   "cell_type": "markdown",
   "metadata": {},
   "source": [
    "**Question 2.** Now generate a random sample *without replacement* from the original data set that has the same number of data points as your convenience sample. Plot a histogram of the taste reviews from this random sample. Assign the table that produces this histogram to a variable called `random_beer_table`."
   ]
  },
  {
   "cell_type": "code",
   "execution_count": 24,
   "metadata": {
    "collapsed": false
   },
   "outputs": [
    {
     "data": {
      "image/png": "[encoded data removed]",
      "text/plain": [
       "<matplotlib.figure.Figure at 0x7f2af18ad2e8>"
      ]
     },
     "metadata": {},
     "output_type": "display_data"
    }
   ],
   "source": [
    "random_indices = np.random.choice(np.arange(50000), available_beer_table.num_rows, replace=False)\n",
    "random_beer_table = beer_review_table.take(random_indices)\n",
    "random_beer_table.hist('Taste Review', bins=np.arange(1, 6, 0.5))"
   ]
  },
  {
   "cell_type": "code",
   "execution_count": 25,
   "metadata": {
    "collapsed": false
   },
   "outputs": [
    {
     "name": "stdout",
     "output_type": "stream",
     "text": [
      "~~~~~~~~~~~~~~~~~~~~~~~~~~~~~~~~~~~~~~~~~~~~~~~~~~~~~~~~~~~~~~~~~~~~~\n",
      "Running tests\n",
      "\n",
      "---------------------------------------------------------------------\n",
      "Test summary\n",
      "    Passed: 1\n",
      "    Failed: 0\n",
      "[ooooooooook] 100.0% passed\n",
      "\n"
     ]
    }
   ],
   "source": [
    "_ = ok.grade('q2_2')"
   ]
  },
  {
   "cell_type": "markdown",
   "metadata": {},
   "source": [
    "**Question 3.** In what ways does the random sample reflect the population better than the convenience sample? What could explain this?"
   ]
  },
  {
   "cell_type": "markdown",
   "metadata": {},
   "source": [
    "The histogram for German beers looks less like the population histogram than the histogram of random beers. In particular, German beers get fewer very high ratings. Perhaps German beers are just not as good as other beers. Sampling at random gives a more fair way of sampling from the population thus, the random sample reflect the population better. "
   ]
  },
  {
   "cell_type": "markdown",
   "metadata": {},
   "source": [
    "## 3. Catching Cheaters in the Casino"
   ]
  },
  {
   "cell_type": "markdown",
   "metadata": {},
   "source": [
    "Suppose you are a casino owner, and your casino runs a very simple game of chance.  The dealer flips a coin.  The customer wins \\$9 from the casino if it comes up heads and loses \\$10 if it comes up tails."
   ]
  },
  {
   "cell_type": "markdown",
   "metadata": {},
   "source": [
    "**Question 1.** Assuming no one is cheating and the coin is fair, if a customer plays twice, what is the chance they make money? Making money means that their total winnings exceed their total expenses."
   ]
  },
  {
   "cell_type": "code",
   "execution_count": 26,
   "metadata": {
    "collapsed": true
   },
   "outputs": [],
   "source": [
    "p_winning_after_two_flips = 0.25"
   ]
  },
  {
   "cell_type": "code",
   "execution_count": 27,
   "metadata": {
    "collapsed": false
   },
   "outputs": [
    {
     "name": "stdout",
     "output_type": "stream",
     "text": [
      "~~~~~~~~~~~~~~~~~~~~~~~~~~~~~~~~~~~~~~~~~~~~~~~~~~~~~~~~~~~~~~~~~~~~~\n",
      "Running tests\n",
      "\n",
      "---------------------------------------------------------------------\n",
      "Test summary\n",
      "    Passed: 1\n",
      "    Failed: 0\n",
      "[ooooooooook] 100.0% passed\n",
      "\n"
     ]
    }
   ],
   "source": [
    "_ = ok.grade('q3_1')"
   ]
  },
  {
   "cell_type": "markdown",
   "metadata": {},
   "source": [
    "A certain customer plays the game 20 times and wins 13 of the bets.  You suspect that the customer is cheating!  That is, you think that their chance of winning is higher than the normal chance of winning.\n",
    "\n",
    "You decide to test your hunch using the outcomes of the 20 games you observed."
   ]
  },
  {
   "cell_type": "markdown",
   "metadata": {},
   "source": [
    "**Question 2.** Given the outcome of 20 games, list the pros and cons of using each of the following statistics as a measure of cheating. \n",
    "\n",
    "(a) Whether there is at least one win.  \n",
    "(b) The number of wins.  \n",
    "(c) The total variation distance between the probability distribution of a fair coin and the observed distribution of heads and tails."
   ]
  },
  {
   "cell_type": "markdown",
   "metadata": {
    "collapsed": true
   },
   "source": [
    "Each method gets progressively more difficult to calculate but provides more information."
   ]
  },
  {
   "cell_type": "markdown",
   "metadata": {},
   "source": [
    "**Question 3.** For this customer who plays 20 games and wins 13 times, compute the total variation distance as described in the third statistic and assign the result to the variable `TVD`."
   ]
  },
  {
   "cell_type": "code",
   "execution_count": 28,
   "metadata": {
    "collapsed": true
   },
   "outputs": [],
   "source": [
    "observed = np.array([0.65,0.35])\n",
    "fair = np.array([0.5,0.5])\n",
    "TVD = 0.5*(np.sum(np.abs(observed - fair)))"
   ]
  },
  {
   "cell_type": "code",
   "execution_count": 29,
   "metadata": {
    "collapsed": false
   },
   "outputs": [
    {
     "name": "stdout",
     "output_type": "stream",
     "text": [
      "~~~~~~~~~~~~~~~~~~~~~~~~~~~~~~~~~~~~~~~~~~~~~~~~~~~~~~~~~~~~~~~~~~~~~\n",
      "Running tests\n",
      "\n",
      "---------------------------------------------------------------------\n",
      "Test summary\n",
      "    Passed: 1\n",
      "    Failed: 0\n",
      "[ooooooooook] 100.0% passed\n",
      "\n"
     ]
    }
   ],
   "source": [
    "_ = ok.grade('q3_3')"
   ]
  },
  {
   "cell_type": "markdown",
   "metadata": {},
   "source": [
    "**Question 4.** Write a function called `simulate` to simulate the process of flipping 20 coins.  It should take no arguments.  It should return the number of wins in 20 games simulated under the assumption that the result of each game is sampled from a fair coin."
   ]
  },
  {
   "cell_type": "code",
   "execution_count": 30,
   "metadata": {
    "collapsed": true
   },
   "outputs": [],
   "source": [
    "def simulate():\n",
    "    coin_flips = 20\n",
    "    binary_options = make_array(0,1)\n",
    "    heads = (np.random.choice(binary_options, coin_flips))\n",
    "    return sum(heads)\n",
    "\n",
    "sampling_list = [simulate() for i in range(0, 10000)]\n",
    "sampling_table = Table().with_columns('num heads', sampling_list)"
   ]
  },
  {
   "cell_type": "code",
   "execution_count": 31,
   "metadata": {
    "collapsed": false
   },
   "outputs": [
    {
     "name": "stdout",
     "output_type": "stream",
     "text": [
      "~~~~~~~~~~~~~~~~~~~~~~~~~~~~~~~~~~~~~~~~~~~~~~~~~~~~~~~~~~~~~~~~~~~~~\n",
      "Running tests\n",
      "\n",
      "---------------------------------------------------------------------\n",
      "Test summary\n",
      "    Passed: 1\n",
      "    Failed: 0\n",
      "[ooooooooook] 100.0% passed\n",
      "\n"
     ]
    }
   ],
   "source": [
    "_ = ok.grade('q3_4')"
   ]
  },
  {
   "cell_type": "markdown",
   "metadata": {},
   "source": [
    "**Question 5.** Using 10,000 trials, generate a histogram of the empirical distribution of the number of wins in 20 games. Use the results of your 10,000 trials to estimate the probability that a player wins 13 times in 20 games, and store the result in a variable `prob_13`."
   ]
  },
  {
   "cell_type": "code",
   "execution_count": 32,
   "metadata": {
    "collapsed": false,
    "for_assignment_type": "student",
    "manual_problem_id": "catching_cheaters_5"
   },
   "outputs": [
    {
     "data": {
      "image/png": "[encoded data removed]",
      "text/plain": [
       "<matplotlib.figure.Figure at 0x7f2af18aa668>"
      ]
     },
     "metadata": {},
     "output_type": "display_data"
    }
   ],
   "source": [
    "#draw your histogram here\n",
    "sampling_table.hist('num heads', bins=np.arange(0, 21, 1))\n",
    "prob_13 = 0.10 # need to correct this value"
   ]
  },
  {
   "cell_type": "code",
   "execution_count": 33,
   "metadata": {
    "collapsed": false
   },
   "outputs": [
    {
     "name": "stdout",
     "output_type": "stream",
     "text": [
      "~~~~~~~~~~~~~~~~~~~~~~~~~~~~~~~~~~~~~~~~~~~~~~~~~~~~~~~~~~~~~~~~~~~~~\n",
      "Running tests\n",
      "\n",
      "---------------------------------------------------------------------\n",
      "Test summary\n",
      "    Passed: 1\n",
      "    Failed: 0\n",
      "[ooooooooook] 100.0% passed\n",
      "\n"
     ]
    }
   ],
   "source": [
    "_ = ok.grade('q3_5')"
   ]
  },
  {
   "cell_type": "markdown",
   "metadata": {},
   "source": [
    "Say we have a high roller, Brian Hang, who wants to win a lot of money. Instead of flipping 1 coin each game, he flips 100 coins during each game. Since he is flipping so many coins, the casino decides to give him a better payout: if a coin lands on heads, Brian recieves \\$9.99, if it lands on tail, Brian loses \\$10.00. Now suppose that Brian, a very *sneaky* high roller, replaces the coins so that all the coins being flipped are biased to have a 50.1% chance of landing on heads. The people in the casino probably will not be able to notice that this coin is biased. To make matters worse, all the casino employees just finished reviewing some beers, so their judgment skills are in peril anyway. "
   ]
  },
  {
   "cell_type": "markdown",
   "metadata": {},
   "source": [
    "** Question 6.** Brian plays 1000 games, flipping 100 biased coins each time. Create a list named `flips` to collect the results of each game. `flips` should be a list of 1000 arrays, each of length 100. Each element of the list will be an array that is a binary representation of the flips (H=1, T=0). \n",
    "\n",
    "For example, if we only flipped five coins per game, one entry of the list `flips` might be the array (0, 1, 1, 1, 0), meaning that the coins came up T, H, H, H, T in that game.\n",
    "\n",
    "*Hint: look at the documentation on how to [append](https://www.programiz.com/python-programming/methods/list/append) an element to a list*"
   ]
  },
  {
   "cell_type": "code",
   "execution_count": 34,
   "metadata": {
    "collapsed": true
   },
   "outputs": [],
   "source": [
    "flips = list()\n",
    "coin_flips = 100\n",
    "num_experiments = 10000\n",
    "binary_options = make_array(0,1)\n",
    "\n",
    "for i in range(0, num_experiments):\n",
    "    flips.append(np.random.choice(binary_options, coin_flips, p=[0.499,0.501]))"
   ]
  },
  {
   "cell_type": "code",
   "execution_count": 35,
   "metadata": {
    "collapsed": false
   },
   "outputs": [
    {
     "name": "stdout",
     "output_type": "stream",
     "text": [
      "~~~~~~~~~~~~~~~~~~~~~~~~~~~~~~~~~~~~~~~~~~~~~~~~~~~~~~~~~~~~~~~~~~~~~\n",
      "Running tests\n",
      "\n",
      "---------------------------------------------------------------------\n",
      "Test summary\n",
      "    Passed: 1\n",
      "    Failed: 0\n",
      "[ooooooooook] 100.0% passed\n",
      "\n"
     ]
    }
   ],
   "source": [
    "_ = ok.grade('q3_6')"
   ]
  },
  {
   "cell_type": "markdown",
   "metadata": {},
   "source": [
    "**Question 7.** Store the results in a table called `results`, with three columns, \"Game Number\", \"Flips\", and \"Wins\". Each row in the table should have a \"Game Number\" corresponding to which of the 1000 games the row represents (the first game is game 0). The \"Flips\" column should be the same as generated in question 6, and the \"Wins\" column should record the number of heads that came up in each game (0 to 100).\n",
    "\n",
    "*Hint: Create one table with just the first two columns, then use the [apply](https://www.inferentialthinking.com/chapters/07/1/applying-a-function-to-a-column.html) function to obtain the \"Wins\" column.*"
   ]
  },
  {
   "cell_type": "code",
   "execution_count": 36,
   "metadata": {
    "collapsed": false
   },
   "outputs": [
    {
     "data": {
      "text/html": [
       "<table border=\"1\" class=\"dataframe\">\n",
       "    <thead>\n",
       "        <tr>\n",
       "            <th>Match Number</th> <th>Flips</th> <th>Wins</th>\n",
       "        </tr>\n",
       "    </thead>\n",
       "    <tbody>\n",
       "        <tr>\n",
       "            <td>0           </td> <td>[1 1 0 0 0 0 0 0 0 1 0 0 0 0 0 1 0 0 1 0 1 0 0 1 0 1 1 1 ...</td> <td>50  </td>\n",
       "        </tr>\n",
       "    </tbody>\n",
       "        <tr>\n",
       "            <td>1           </td> <td>[1 1 1 0 0 0 0 0 0 1 0 0 1 0 0 1 0 1 0 0 0 1 1 1 1 0 0 0 ...</td> <td>50  </td>\n",
       "        </tr>\n",
       "    </tbody>\n",
       "        <tr>\n",
       "            <td>2           </td> <td>[1 1 1 0 1 1 1 1 0 0 0 1 1 0 1 1 0 1 0 1 0 1 0 0 0 1 1 0 ...</td> <td>52  </td>\n",
       "        </tr>\n",
       "    </tbody>\n",
       "        <tr>\n",
       "            <td>3           </td> <td>[0 0 0 0 1 0 1 0 1 1 0 1 0 1 0 0 1 1 0 0 0 1 0 0 1 1 0 1 ...</td> <td>47  </td>\n",
       "        </tr>\n",
       "    </tbody>\n",
       "        <tr>\n",
       "            <td>4           </td> <td>[0 0 1 0 0 1 0 0 1 0 1 1 1 0 1 1 0 1 0 0 1 0 0 0 1 1 0 0 ...</td> <td>48  </td>\n",
       "        </tr>\n",
       "    </tbody>\n",
       "        <tr>\n",
       "            <td>5           </td> <td>[1 1 1 0 0 0 1 0 0 0 1 1 0 1 1 1 1 1 1 0 0 0 1 1 0 1 1 1 ...</td> <td>51  </td>\n",
       "        </tr>\n",
       "    </tbody>\n",
       "        <tr>\n",
       "            <td>6           </td> <td>[1 1 1 0 1 0 0 0 0 0 0 1 1 0 1 1 1 1 1 1 1 1 0 0 0 1 0 0 ...</td> <td>53  </td>\n",
       "        </tr>\n",
       "    </tbody>\n",
       "        <tr>\n",
       "            <td>7           </td> <td>[0 0 1 0 1 1 0 0 1 0 0 1 0 1 1 1 0 0 1 0 0 0 0 1 1 0 1 0 ...</td> <td>48  </td>\n",
       "        </tr>\n",
       "    </tbody>\n",
       "        <tr>\n",
       "            <td>8           </td> <td>[1 0 1 1 0 1 0 0 1 0 1 1 0 1 1 0 1 0 1 1 1 1 0 1 0 0 0 1 ...</td> <td>54  </td>\n",
       "        </tr>\n",
       "    </tbody>\n",
       "        <tr>\n",
       "            <td>9           </td> <td>[1 0 1 0 1 0 1 1 1 1 1 1 1 0 0 1 1 0 0 0 1 1 0 1 1 0 1 0 ...</td> <td>51  </td>\n",
       "        </tr>\n",
       "    </tbody>\n",
       "</table>\n",
       "<p>... (9990 rows omitted)</p"
      ],
      "text/plain": [
       "Match Number | Flips                                                        | Wins\n",
       "0            | [1 1 0 0 0 0 0 0 0 1 0 0 0 0 0 1 0 0 1 0 1 0 0 1 0 1 1 1 ... | 50\n",
       "1            | [1 1 1 0 0 0 0 0 0 1 0 0 1 0 0 1 0 1 0 0 0 1 1 1 1 0 0 0 ... | 50\n",
       "2            | [1 1 1 0 1 1 1 1 0 0 0 1 1 0 1 1 0 1 0 1 0 1 0 0 0 1 1 0 ... | 52\n",
       "3            | [0 0 0 0 1 0 1 0 1 1 0 1 0 1 0 0 1 1 0 0 0 1 0 0 1 1 0 1 ... | 47\n",
       "4            | [0 0 1 0 0 1 0 0 1 0 1 1 1 0 1 1 0 1 0 0 1 0 0 0 1 1 0 0 ... | 48\n",
       "5            | [1 1 1 0 0 0 1 0 0 0 1 1 0 1 1 1 1 1 1 0 0 0 1 1 0 1 1 1 ... | 51\n",
       "6            | [1 1 1 0 1 0 0 0 0 0 0 1 1 0 1 1 1 1 1 1 1 1 0 0 0 1 0 0 ... | 53\n",
       "7            | [0 0 1 0 1 1 0 0 1 0 0 1 0 1 1 1 0 0 1 0 0 0 0 1 1 0 1 0 ... | 48\n",
       "8            | [1 0 1 1 0 1 0 0 1 0 1 1 0 1 1 0 1 0 1 1 1 1 0 1 0 0 0 1 ... | 54\n",
       "9            | [1 0 1 0 1 0 1 1 1 1 1 1 1 0 0 1 1 0 0 0 1 1 0 1 1 0 1 0 ... | 51\n",
       "... (9990 rows omitted)"
      ]
     },
     "execution_count": 36,
     "metadata": {},
     "output_type": "execute_result"
    }
   ],
   "source": [
    "temp_results = Table().with_columns('Match Number', np.arange(num_experiments), \n",
    "                               'Flips', flips)\n",
    "num_wins = temp_results.apply(sum, 'Flips')\n",
    "results = temp_results.with_column('Wins', num_wins)\n",
    "results"
   ]
  },
  {
   "cell_type": "code",
   "execution_count": 37,
   "metadata": {
    "collapsed": false
   },
   "outputs": [
    {
     "name": "stdout",
     "output_type": "stream",
     "text": [
      "~~~~~~~~~~~~~~~~~~~~~~~~~~~~~~~~~~~~~~~~~~~~~~~~~~~~~~~~~~~~~~~~~~~~~\n",
      "Running tests\n",
      "\n",
      "---------------------------------------------------------------------\n",
      "Test summary\n",
      "    Passed: 1\n",
      "    Failed: 0\n",
      "[ooooooooook] 100.0% passed\n",
      "\n"
     ]
    }
   ],
   "source": [
    "_ = ok.grade('q3_7')"
   ]
  },
  {
   "cell_type": "markdown",
   "metadata": {},
   "source": [
    "**Question 8.** Using the results from the 1000 games you have simulated, determine whether Brian will make money, lose money or break even on these 1000 games played with a biased coin. Recall that as a high roller, Brian will win \\$9.99 for each head and lose \\$10.00 for each tail. Assign the result to a variable called *winnings*, where postivie values denote earning money, and negative values denote losing money."
   ]
  },
  {
   "cell_type": "code",
   "execution_count": 38,
   "metadata": {
    "collapsed": false
   },
   "outputs": [
    {
     "data": {
      "text/plain": [
       "11331.830000000075"
      ]
     },
     "execution_count": 38,
     "metadata": {},
     "output_type": "execute_result"
    }
   ],
   "source": [
    "total_flips = num_experiments * coin_flips\n",
    "wins = sum(num_wins)\n",
    "winnings = wins * 9.99 + ((total_flips - wins) * (-10.0))\n",
    "winnings"
   ]
  },
  {
   "cell_type": "code",
   "execution_count": 39,
   "metadata": {
    "collapsed": false
   },
   "outputs": [
    {
     "name": "stdout",
     "output_type": "stream",
     "text": [
      "~~~~~~~~~~~~~~~~~~~~~~~~~~~~~~~~~~~~~~~~~~~~~~~~~~~~~~~~~~~~~~~~~~~~~\n",
      "Running tests\n",
      "\n",
      "---------------------------------------------------------------------\n",
      "Test summary\n",
      "    Passed: 1\n",
      "    Failed: 0\n",
      "[ooooooooook] 100.0% passed\n",
      "\n"
     ]
    }
   ],
   "source": [
    "_ = ok.grade('q3_8')"
   ]
  },
  {
   "cell_type": "markdown",
   "metadata": {},
   "source": [
    "You're done! Don't forget to save your work and submit. If you submit more than once before the deadline, we will only grade your final submission."
   ]
  },
  {
   "cell_type": "code",
   "execution_count": null,
   "metadata": {
    "collapsed": false
   },
   "outputs": [],
   "source": [
    "_ = ok.submit()"
   ]
  }
 ],
 "metadata": {
  "kernelspec": {
   "display_name": "Python 3",
   "language": "python",
   "name": "python3"
  },
  "language_info": {
   "codemirror_mode": {
    "name": "ipython",
    "version": 3
   },
   "file_extension": ".py",
   "mimetype": "text/x-python",
   "name": "python",
   "nbconvert_exporter": "python",
   "pygments_lexer": "ipython3",
   "version": "3.6.0"
  }
 },
 "nbformat": 4,
 "nbformat_minor": 1
}
