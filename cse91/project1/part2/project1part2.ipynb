{
 "cells": [
  {
   "cell_type": "markdown",
   "metadata": {},
   "source": [
    "## Part 2 - Data Cleaning\n",
    "\n",
    "## Due Oct 19, 11:59pm\n"
   ]
  },
  {
   "cell_type": "code",
   "execution_count": null,
   "metadata": {
    "collapsed": true
   },
   "outputs": [],
   "source": [
    "# Imports\n",
    "#  Note: these are all the imports you need! Do not import any other functions / packages\n",
    "%matplotlib inline\n",
    "\n",
    "from datascience import *\n",
    "\n",
    "import numpy as np\n",
    "import matplotlib.pyplot as plt\n",
    "plt.style.use('fivethirtyeight')"
   ]
  },
  {
   "cell_type": "code",
   "execution_count": null,
   "metadata": {
    "collapsed": true
   },
   "outputs": [],
   "source": [
    "# Don't change this cell; just run it. \n",
    "# The result will give you directions about how to log in to the submission system, called OK.\n",
    "# Once you're logged in, you can run this cell again, but it won't ask you who you are because\n",
    "# it remembers you. However, you will need to log in once per assignment.\n",
    "from client.api.notebook import Notebook\n",
    "ok = Notebook('project1part1.ok')\n",
    "_ = ok.auth(inline=True)"
   ]
  },
  {
   "cell_type": "code",
   "execution_count": null,
   "metadata": {
    "collapsed": true
   },
   "outputs": [],
   "source": [
    "_ = ok.submit()"
   ]
  },
  {
   "cell_type": "code",
   "execution_count": null,
   "metadata": {
    "collapsed": true
   },
   "outputs": [],
   "source": [
    "# Don't change this cell; just run it. \n",
    "# The result will give you directions about how to log in to the submission system, called OK.\n",
    "# Once you're logged in, you can run this cell again, but it won't ask you who you are because\n",
    "# it remembers you. However, you will need to log in once per assignment.\n",
    "from client.api.notebook import Notebook\n",
    "ok = Notebook('project1part1.ok')\n",
    "_ = ok.auth(inline=True)# Read in the table created by part 1 of this project.\n",
    "data_table = Table.read_table('project1part1result.csv')\n",
    "data_table"
   ]
  },
  {
   "cell_type": "code",
   "execution_count": null,
   "metadata": {
    "collapsed": true
   },
   "outputs": [],
   "source": [
    "# 2a) First check how many non-numerical values (missing data) there are in the income data. \n",
    "#  If you are stuck, first figure out how missing values are stored, then search for that.\n",
    "#  Save the number of non-numerical values into a variable called 'nan_count'\n",
    "\n"
   ]
  },
  {
   "cell_type": "code",
   "execution_count": null,
   "metadata": {
    "collapsed": true
   },
   "outputs": [],
   "source": [
    "# 2b) Remove all rows that have missing income data \n",
    "\n"
   ]
  },
  {
   "cell_type": "code",
   "execution_count": null,
   "metadata": {
    "collapsed": true
   },
   "outputs": [],
   "source": [
    "# Now, all the entries in the 'income' column are numerical values, but the entries in the 'income' column are still strings.\n",
    "# This code will change the table so that the 'income' column contains floating point values that we can work with numerically.\n",
    "\n",
    "float_income = data_table.column('income').astype(np.float)\n",
    "data_table = data_table.drop('income').with_columns('income', float_income)\n",
    "data_table"
   ]
  },
  {
   "cell_type": "code",
   "execution_count": null,
   "metadata": {
    "collapsed": true
   },
   "outputs": [],
   "source": [
    "#Plot counts of the 'age' variable\n",
    "\n",
    "data_table.hist('age', unit='years', bins = np.arange(0, 86, 5), normed=False)"
   ]
  },
  {
   "cell_type": "code",
   "execution_count": null,
   "metadata": {
    "collapsed": true
   },
   "outputs": [],
   "source": [
    "#Plot counts of the 'steps' variable\n",
    "\n",
    "data_table.hist('steps', normed=False)"
   ]
  },
  {
   "cell_type": "code",
   "execution_count": null,
   "metadata": {
    "collapsed": true
   },
   "outputs": [],
   "source": [
    "# 2c) The histogram for 'steps' shows a large number of very low values, which actually represent missing values.\n",
    "#  Find out how many missing values there are in the steps data. \n",
    "#  If you are stuck, first figure out how missing values are stored, then search for that.\n",
    "#  Save the number of missing values into a variable called 'missing_count'\n",
    "\n"
   ]
  },
  {
   "cell_type": "code",
   "execution_count": null,
   "metadata": {
    "collapsed": true
   },
   "outputs": [],
   "source": [
    "# 2d) Remove all rows with a missing 'steps' value\n",
    "\n"
   ]
  },
  {
   "cell_type": "code",
   "execution_count": null,
   "metadata": {
    "collapsed": true
   },
   "outputs": [],
   "source": [
    "#Plot counts of the 'income' variable\n",
    "\n",
    "data_table.hist('income', unit='dollars',  bins = np.arange(0, 500001, 10000), normed=False)"
   ]
  },
  {
   "cell_type": "code",
   "execution_count": null,
   "metadata": {
    "collapsed": true
   },
   "outputs": [],
   "source": [
    "# 2e) Make another table called 'rich' containing only those people whose income is over $150,000.\n",
    "# Save the number of people whose income is over $150,000 in a variable called 'rich_count'.\n",
    "# We will consider these rich people outliers. Remove them from 'data_table'.\n",
    "\n"
   ]
  },
  {
   "cell_type": "code",
   "execution_count": null,
   "metadata": {
    "collapsed": true,
    "scrolled": true
   },
   "outputs": [],
   "source": [
    "# 2f) The data for the 'smoker' column has been recorded in many different ways.\n",
    "# Fix the 'smoker' column so that each individual has one of two values: 'Yes' or 'No'.\n",
    "# One way to do this is to create separate tables based on the value of the 'smoker' column,  \n",
    "# replace the 'smoker' column in each table with an appropriately formatted column, then combine tables.\n",
    "# The following methods may be useful: 'np.char.lower', 'np.char.upper', the array method 'repeat',\n",
    "# and the table methods 'append', 'drop', and 'with_columns'.\n",
    "\n"
   ]
  },
  {
   "cell_type": "code",
   "execution_count": null,
   "metadata": {
    "collapsed": true
   },
   "outputs": [],
   "source": [
    "#2g) Make sure the column labels from left to right are 'id', 'smoker' 'age', 'steps', 'income'\n",
    "# Make sure that the table is sorted in increasing order of ID number\n",
    "# Save the resulting final table as 'clean_data'\n",
    "\n"
   ]
  },
  {
   "cell_type": "code",
   "execution_count": null,
   "metadata": {
    "collapsed": true
   },
   "outputs": [],
   "source": [
    "# Run this cell to submit your code. You can always resubmit before the deadline.\n",
    "_ = ok.submit()"
   ]
  }
 ],
 "metadata": {
  "kernelspec": {
   "display_name": "Python 3",
   "language": "python",
   "name": "python3"
  },
  "language_info": {
   "codemirror_mode": {
    "name": "ipython",
    "version": 3
   },
   "file_extension": ".py",
   "mimetype": "text/x-python",
   "name": "python",
   "nbconvert_exporter": "python",
   "pygments_lexer": "ipython3",
   "version": "3.6.1"
  }
 },
 "nbformat": 4,
 "nbformat_minor": 2
}
