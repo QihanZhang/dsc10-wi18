{
 "cells": [
  {
   "cell_type": "markdown",
   "metadata": {},
   "source": [
    "## Part 1 - Data Wrangling\n",
    "## Due Oct 12, 11:59pm\n",
    "\n",
    "Before you start, make sure you have read the instructions, available as a PDF file in this directory.\n",
    "You are provided with two data files:\n",
    "- age_steps_smoker.csv\n",
    "- name_income_id.json"
   ]
  },
  {
   "cell_type": "code",
   "execution_count": null,
   "metadata": {},
   "outputs": [],
   "source": [
    "# Don't change this cell; just run it. \n",
    "# The result will give you directions about how to log in to the submission system, called OK.\n",
    "# Once you're logged in, you can run this cell again, but it won't ask you who you are because\n",
    "# it remembers you. However, you will need to log in once per assignment.\n",
    "from client.api.notebook import Notebook\n",
    "ok = Notebook('project1part1.ok')\n",
    "_ = ok.auth(inline=True)"
   ]
  },
  {
   "cell_type": "code",
   "execution_count": null,
   "metadata": {},
   "outputs": [],
   "source": [
    "_ = ok.submit()"
   ]
  },
  {
   "cell_type": "code",
   "execution_count": null,
   "metadata": {
    "collapsed": true
   },
   "outputs": [],
   "source": [
    "# Imports\n",
    "#  Note: these are all the imports you need! Do not import any other functions / packages\n",
    "\n",
    "from datascience import *\n",
    "\n",
    "import numpy as np\n",
    "import matplotlib.pyplot as plt\n",
    "plt.style.use('fivethirtyeight')"
   ]
  },
  {
   "cell_type": "code",
   "execution_count": null,
   "metadata": {
    "collapsed": true
   },
   "outputs": [],
   "source": [
    "# 1a) Load the csv file as a table called 'steps'\n"
   ]
  },
  {
   "cell_type": "code",
   "execution_count": null,
   "metadata": {
    "collapsed": true
   },
   "outputs": [],
   "source": [
    "# 1b) Load the json file as a table called 'inc'\n"
   ]
  },
  {
   "cell_type": "code",
   "execution_count": null,
   "metadata": {
    "collapsed": true
   },
   "outputs": [],
   "source": [
    "#1c) Calculate the number of columns in the table 'inc' and store your answer as 'num_cols'\n"
   ]
  },
  {
   "cell_type": "code",
   "execution_count": null,
   "metadata": {
    "collapsed": true
   },
   "outputs": [],
   "source": [
    "#The data type of each row in the table 'inc' is a string. For example, the first row \n",
    "type(inc.column(0).item(0))"
   ]
  },
  {
   "cell_type": "code",
   "execution_count": null,
   "metadata": {
    "collapsed": true
   },
   "outputs": [],
   "source": [
    "#The string contains all the relevant information for one person. For example, the first row string is\n",
    "person = inc.column(0).item(0)\n",
    "person"
   ]
  },
  {
   "cell_type": "code",
   "execution_count": null,
   "metadata": {
    "collapsed": true
   },
   "outputs": [],
   "source": [
    "#1d) Use the string method called 'split' to separate the string 'person' into a list of four strings called 'attribute_list'.\n",
    "# You should look up the 'split' method to see how it is used.\n"
   ]
  },
  {
   "cell_type": "code",
   "execution_count": null,
   "metadata": {
    "collapsed": true
   },
   "outputs": [],
   "source": [
    "#1e) Make a variable called 'id_string' that contains the first element of 'attribute_list'. \n"
   ]
  },
  {
   "cell_type": "code",
   "execution_count": null,
   "metadata": {
    "collapsed": true
   },
   "outputs": [],
   "source": [
    "#1f) Use the string method called 'lstrip' to replace the variable 'id_string' with the actual identification number, '49241'.\n",
    "# You should look up the 'lstrip' method to see how it is used.\n"
   ]
  },
  {
   "cell_type": "code",
   "execution_count": null,
   "metadata": {
    "collapsed": true
   },
   "outputs": [],
   "source": [
    "#1g) Use a similar strategy to make variables called 'last_name_string', 'first_name_string', and 'income_string'.\n",
    "# You should use the 'lstrip' and 'rstrip' methods.\n",
    "# Check that at the end, 'last_name_string' is set to 'Adams', \n",
    "# 'first_name_string' is set to 'Paula' and 'income_string' is set to '61877.51'. \n"
   ]
  },
  {
   "cell_type": "code",
   "execution_count": null,
   "metadata": {
    "collapsed": true
   },
   "outputs": [],
   "source": [
    "#1h) Make an empty table called 'inc_expanded' with columns 'ID', 'LAST', 'FIRST', 'INCOME'\n"
   ]
  },
  {
   "cell_type": "code",
   "execution_count": null,
   "metadata": {
    "collapsed": true
   },
   "outputs": [],
   "source": [
    "#1i) Add a row to the table 'inc_expanded' containing the information for Paula Adams.\n",
    "# Use the variables 'id_string', 'last_name_string', first_name_string',  and 'income_string'.\n",
    "# The first column 'ID' should have an integer value. The other three columns should have string values (for now).\n"
   ]
  },
  {
   "cell_type": "code",
   "execution_count": null,
   "metadata": {
    "collapsed": true
   },
   "outputs": [],
   "source": [
    "#1j) You have added the first person, Paula Adams, to the table 'inc_expanded'.\n",
    "# You will now add each other person to the table 'inc_expanded' in exactly the same way. \n",
    "# Copy your code from the previous parts to fill in this cell.\n",
    "# Keep the indentation as it is - this is important for the code to function properly.\n",
    "\n",
    "for p in range(1, inc.column(0).size):\n",
    "    person = inc.column(0).item(p)\n",
    "    #put your code from 1d here\n",
    "    #put your code from 1e and 1f here\n",
    "    #put your code from 1g here\n",
    "    #put your code from 1i here\n",
    "inc_expanded    "
   ]
  },
  {
   "cell_type": "code",
   "execution_count": null,
   "metadata": {
    "collapsed": true
   },
   "outputs": [],
   "source": [
    "# Notice that the column label (the header) in the table 'inc' actually represents an individual:\n",
    "# [{\"id\":22453,\"last_name\":\"Adams\",\"first_name\":\"Jason\",\"income\":13024.21}\n",
    "# Manually add this individual to the table 'inc_expanded'\n",
    "\n",
    "inc_expanded = inc_expanded.with_row([22453, 'Adams', 'Jason', '13024.21']) "
   ]
  },
  {
   "cell_type": "code",
   "execution_count": null,
   "metadata": {
    "collapsed": true
   },
   "outputs": [],
   "source": [
    "#1k) Drop the 'FIRST' and 'LAST' columns from the table 'inc_expanded'.\n"
   ]
  },
  {
   "cell_type": "code",
   "execution_count": null,
   "metadata": {
    "collapsed": true
   },
   "outputs": [],
   "source": [
    "#1l) Combine the two tables 'steps' and 'inc_expanded' into a table called 'combo' using the 'join' table method.\n",
    "# If you are having trouble, make sure that the id numbers of both tables are stored as ints.\n"
   ]
  },
  {
   "cell_type": "code",
   "execution_count": null,
   "metadata": {
    "collapsed": true
   },
   "outputs": [],
   "source": [
    "#1m) Reorder and rename the columns so that the labels from left to right are 'id', 'smoker' 'age', 'steps', 'income'\n",
    "# Save the resulting final table as 'data_table'\n"
   ]
  },
  {
   "cell_type": "code",
   "execution_count": null,
   "metadata": {
    "collapsed": true
   },
   "outputs": [],
   "source": [
    "# Run this cell to submit your code. You can always resubmit before the deadline.\n",
    "_ = ok.submit()"
   ]
  }
 ],
 "metadata": {
  "kernelspec": {
   "display_name": "Python 3",
   "language": "python",
   "name": "python3"
  },
  "language_info": {
   "codemirror_mode": {
    "name": "ipython",
    "version": 3
   },
   "file_extension": ".py",
   "mimetype": "text/x-python",
   "name": "python",
   "nbconvert_exporter": "python",
   "pygments_lexer": "ipython3",
   "version": "3.6.1"
  }
 },
 "nbformat": 4,
 "nbformat_minor": 2
}
