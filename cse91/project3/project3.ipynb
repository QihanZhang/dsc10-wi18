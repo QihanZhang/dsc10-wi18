{
 "cells": [
  {
   "cell_type": "markdown",
   "metadata": {},
   "source": [
    "## Project 3, Perceptron as a Classifier in 2 Dimensions\n",
    "\n",
    "### Deadline: Thursday, November 16 at 11:59pm"
   ]
  },
  {
   "cell_type": "markdown",
   "metadata": {},
   "source": [
    "We covered the perceptron learning algorithm in class. In short, you are given a table of training data, with samples and their corresponding labels. Each row represents one training sample. The perceptron learning algorithm starts with arbitrary weights and bias, and uses the training data to incrementally modify these weights and bias until the perceptron can correctly classify the training data.\n",
    "\n",
    "In this project, you will write a program to implement the perceptron learning algorithm on a 2-dimensional example. You are given 2-dimensional data, which you can think of as points in a plane, and each point has a label, which you can think of as a color. The data is linearly separable, which means there exists some line in the plane that separates the two colors. Your program will update the weights and the bias in such a way that makes the perceptron correctly classify the given training data. This corresponds to drawing the correct line between the different-colored points. \n",
    "\n",
    "First, you will design a series of functions that perform different steps of the algorithm.  \n",
    "Second, you will combine these functions in one loop and run it until you find satisfactory weights and bias.   \n",
    "Then, you will draw the classifier (the line separating the two labels) on a 2D plane with the colored training points.  \n",
    "Finally, you will apply your algorithm to the data set of movies to see how it compares to the k-nearest neighbor algorithm. "
   ]
  },
  {
   "cell_type": "code",
   "execution_count": null,
   "metadata": {},
   "outputs": [],
   "source": [
    "...# Don't change this cell; just run it. \n",
    "from client.api.notebook import Notebook\n",
    "ok = Notebook('project3.ok')\n",
    "_ = ok.auth(inline=True)"
   ]
  },
  {
   "cell_type": "code",
   "execution_count": null,
   "metadata": {},
   "outputs": [],
   "source": [
    "# Run this cell to submit your code. You can always resubmit before the deadline.\n",
    "_ = ok.submit()"
   ]
  },
  {
   "cell_type": "code",
   "execution_count": null,
   "metadata": {},
   "outputs": [],
   "source": [
    "import numpy as np\n",
    "import math\n",
    "from datascience import *\n",
    "\n",
    "# These lines set up the plotting functionality and formatting.\n",
    "import matplotlib\n",
    "matplotlib.use('Agg', warn=False)\n",
    "%matplotlib inline\n",
    "import matplotlib.pyplot as plots\n",
    "plots.style.use('fivethirtyeight')\n"
   ]
  },
  {
   "cell_type": "markdown",
   "metadata": {},
   "source": [
    "## Part 0: Setting Up"
   ]
  },
  {
   "cell_type": "markdown",
   "metadata": {},
   "source": [
    "Run this cell to create the data table."
   ]
  },
  {
   "cell_type": "code",
   "execution_count": null,
   "metadata": {},
   "outputs": [],
   "source": [
    "input_data = Table().with_columns(\"x1\", [0, 0, 1, 1], \"x2\", [0, 1, 0, 1], \"AND\", [0, 0, 0, 1])\n",
    "input_data"
   ]
  },
  {
   "cell_type": "markdown",
   "metadata": {},
   "source": [
    "**Question 0.0** Plot the data so that X1 is on the x-axis, X2 is on the y-axis, each row of the table above is a point, and the points are color-coded by their label in the column \"AND\"."
   ]
  },
  {
   "cell_type": "code",
   "execution_count": null,
   "metadata": {},
   "outputs": [],
   "source": [
    "..."
   ]
  },
  {
   "cell_type": "markdown",
   "metadata": {},
   "source": [
    "Since there are two inputs, x1 and x2, there will be two weights, w1 and w2. We will store them in an array for convenience. Initially, we set the weights and bias to 0."
   ]
  },
  {
   "cell_type": "code",
   "execution_count": null,
   "metadata": {},
   "outputs": [],
   "source": [
    "weights = make_array(0, 0)\n",
    "b = 0"
   ]
  },
  {
   "cell_type": "markdown",
   "metadata": {},
   "source": [
    "## Part 1: Defining Useful Functions"
   ]
  },
  {
   "cell_type": "markdown",
   "metadata": {},
   "source": [
    "In this part, we will define some functions that will help us implement the perceptron learning algorithm. "
   ]
  },
  {
   "cell_type": "markdown",
   "metadata": {},
   "source": [
    "**Question 1.0** Define a function, `generate_sample(data, index)`, that returns the coordinates of a sample in the table `data` at index `index`. The function should return an array, where the first element of the array is the value of x1 for the sample at the given index, and the second element of the array is the value of x2 for the sample at the given index. \n",
    "\n",
    "For example: `generate_sample(input_data, 2)` should return the array `(1, 0)` because the sample at index 2 in the `input_data` table has  x1 = 1 and x2 = 0."
   ]
  },
  {
   "cell_type": "code",
   "execution_count": null,
   "metadata": {},
   "outputs": [],
   "source": [
    "def generate_sample(data, index):\n",
    "    ...\n",
    "    return ...\n"
   ]
  },
  {
   "cell_type": "code",
   "execution_count": null,
   "metadata": {},
   "outputs": [],
   "source": [
    "# test your function\n",
    "\n",
    "generate_sample(input_data, 2)"
   ]
  },
  {
   "cell_type": "markdown",
   "metadata": {},
   "source": [
    "**Question 1.1** Define a function, `activation(sample, weights_array, bias)`, that returns the prediction of the classifier (0 or 1). The parameter `sample` has the same form as the output of the function `generate_sample`, an array with the values of x1 and x2. The parameter `weights_array` is an array (w1, w2), and the parameter `bias` is a single number. \n",
    "\n",
    "For example, `activation(make_array(1, 1), make_array(2, 1), -2)` should return 1."
   ]
  },
  {
   "cell_type": "code",
   "execution_count": null,
   "metadata": {},
   "outputs": [],
   "source": [
    "def activation(sample, weights_array, bias):\n",
    "    ...\n",
    "    return ..."
   ]
  },
  {
   "cell_type": "code",
   "execution_count": null,
   "metadata": {},
   "outputs": [],
   "source": [
    "# test your function\n",
    "\n",
    "activation(make_array(1, 1), make_array(2, 1), -2)"
   ]
  },
  {
   "cell_type": "markdown",
   "metadata": {},
   "source": [
    "**Question 1.2** Define a function, `error(predicted, data, index)`, that takes in the predicted label for the sample at the given index of the table `data`, and returns the difference between the actual and predicted values (actual minus predicted).\n",
    "\n",
    "For example, `error(0, input_data, 3)` should return 1 because the sample at index 3 of the table `input_data` has a label of 1, but the prediction was 0."
   ]
  },
  {
   "cell_type": "code",
   "execution_count": null,
   "metadata": {},
   "outputs": [],
   "source": [
    "def error (predicted, data, index):\n",
    "    ...\n",
    "    return ..."
   ]
  },
  {
   "cell_type": "code",
   "execution_count": null,
   "metadata": {},
   "outputs": [],
   "source": [
    "# test your function\n",
    "\n",
    "error(0, input_data, 3)"
   ]
  },
  {
   "cell_type": "markdown",
   "metadata": {},
   "source": [
    "**Question 1.3** Define a function, `update_weights(old_weights, sample, error)`, that calculates updated weights based on `old_weights`, a given `sample`, which is an array with the values of x1 and x2, and the `error` of the old weights on that sample. \n",
    "\n",
    "For example, `update_weights(make_array(1,2), make_array(0,1), -1)` should return the array (1, 1)."
   ]
  },
  {
   "cell_type": "code",
   "execution_count": null,
   "metadata": {},
   "outputs": [],
   "source": [
    "def update_weights(old_weights, sample, error):\n",
    "    ...\n",
    "    return ..."
   ]
  },
  {
   "cell_type": "code",
   "execution_count": null,
   "metadata": {},
   "outputs": [],
   "source": [
    "# test your function\n",
    "\n",
    "update_weights(make_array(1,2), make_array(0,1), -1)"
   ]
  },
  {
   "cell_type": "markdown",
   "metadata": {},
   "source": [
    "**Question 1.4** Define a function, `update_bias(old_bias, error)`, that calculates updated bias based on `old_bias` and the `error` of the old bias on the most recent sample. \n",
    "\n",
    "For example, `update_bias(0, -1)` should return -1."
   ]
  },
  {
   "cell_type": "code",
   "execution_count": null,
   "metadata": {},
   "outputs": [],
   "source": [
    "def update_bias(old_bias, error):\n",
    "    ...\n",
    "    return ...\n"
   ]
  },
  {
   "cell_type": "code",
   "execution_count": null,
   "metadata": {},
   "outputs": [],
   "source": [
    "# test your function\n",
    "\n",
    "update_bias(0,-1)"
   ]
  },
  {
   "cell_type": "markdown",
   "metadata": {},
   "source": [
    "**Question 1.5** Define a function, `done_updating(old_bias, new_bias, old_weights, new_weights)`, that determines whether there is any change from the old weights and bias to the new weights and bias. If everything is the same, the function should return `True`, otherwise it should return `False`.\n",
    "\n",
    "For example, `done_updating(-2, -2, make_array(1,0), make_array(1, 0))` should return `True`."
   ]
  },
  {
   "cell_type": "code",
   "execution_count": null,
   "metadata": {},
   "outputs": [],
   "source": [
    "def done_updating(old_bias, new_bias, old_weights, new_weights):\n",
    "    ...\n",
    "    return ..."
   ]
  },
  {
   "cell_type": "code",
   "execution_count": null,
   "metadata": {},
   "outputs": [],
   "source": [
    "# test your function\n",
    "\n",
    "done_updating(-2, -2, make_array(1,0), make_array(1, 0))"
   ]
  },
  {
   "cell_type": "markdown",
   "metadata": {},
   "source": [
    "## Part 2: Putting it Together"
   ]
  },
  {
   "cell_type": "markdown",
   "metadata": {},
   "source": [
    "**Question 2.0** Use a for loop to go through each training sample in `input_data` once, and update the weights and bias for each each sample. Print the weights and bias after each training sample, to display the updates."
   ]
  },
  {
   "cell_type": "code",
   "execution_count": null,
   "metadata": {
    "scrolled": true
   },
   "outputs": [],
   "source": [
    "weights = make_array(0, 0)\n",
    "b = 0\n",
    "print(weights, b)\n",
    "\n",
    "..."
   ]
  },
  {
   "cell_type": "markdown",
   "metadata": {},
   "source": [
    "**Question 2.1** The perceptron learning algorithm may not be finished updating weights after one time (one *pass*) through the training data. Use another loop to check whether the algorithm has finished, and do another pass through the training data if the weights were updated during that pass. Keep doing more passes through the training data, as many as necessary, until the weights are no longer being updated. Print the weights and bias after each pass through the training data, to display the updates."
   ]
  },
  {
   "cell_type": "code",
   "execution_count": null,
   "metadata": {},
   "outputs": [],
   "source": [
    "weights = make_array(0, 0)\n",
    "b = 0\n",
    "print(weights, b)\n",
    "\n",
    "..."
   ]
  },
  {
   "cell_type": "markdown",
   "metadata": {},
   "source": [
    "## Part 3: Visualizing the Results"
   ]
  },
  {
   "cell_type": "markdown",
   "metadata": {},
   "source": [
    "**Question 3.0** You are given a function `plot_classifier` to draw a line through the data points in the table `data`, but you need to figure out how to call it. Using your weights and bias determined by the perceptron learning algorithm, determine the correct parameters for the `plot_classifier` function. Call the function with these parameters in order to draw the line determined by the perceptron. This line should correctly separate the training samples into two classes."
   ]
  },
  {
   "cell_type": "code",
   "execution_count": null,
   "metadata": {
    "scrolled": true
   },
   "outputs": [],
   "source": [
    "def plot_classifier(slope, intercept, data):\n",
    "    \"\"\"Plot a line from slope and intercept\"\"\"\n",
    "    color = make_array('black', 'red')\n",
    "    for i in np.arange(data.num_rows):\n",
    "        plots.plot(data.row(i).item(0), data.row(i).item(1), 'o', color = color.item(data.row(i).item(2)))\n",
    "    axes = plots.gca()\n",
    "    x_vals = np.array(axes.get_xlim())\n",
    "    y_vals = intercept + slope * x_vals\n",
    "    plots.plot(x_vals, y_vals, '--')"
   ]
  },
  {
   "cell_type": "code",
   "execution_count": null,
   "metadata": {},
   "outputs": [],
   "source": [
    "slope = ...\n",
    "intercept = ...\n",
    "..."
   ]
  },
  {
   "cell_type": "markdown",
   "metadata": {},
   "source": [
    "**Question 3.1** Now, try out your algorithm on the data from the file \"linearly_separable_data.csv\" and display the training points and resulting line so that you can see if the perceptron successfully classified the training points. Again, print out the weights and bias after each pass through the training data so you can see the updates."
   ]
  },
  {
   "cell_type": "code",
   "execution_count": null,
   "metadata": {},
   "outputs": [],
   "source": [
    "more_data = Table.read_table(\"linearly_separable_data.csv\")\n",
    "..."
   ]
  },
  {
   "cell_type": "markdown",
   "metadata": {},
   "source": [
    "## Part 4: Comparing to k-Nearest Neighbor Algorithm "
   ]
  },
  {
   "cell_type": "markdown",
   "metadata": {},
   "source": [
    "Recall the following data set of movies, categorized as \"Action\" (0) or \"Romance\" (1). We have already used the k-nearest neighbor algorithm on this training data to develop a classifier for movies based on the number of kicks and number of kisses in the movie. Now, we will use the perceptron learning algorithm to develop a classifier, and see how the classifiers determined by these different algorithms compare on unlabeled test data."
   ]
  },
  {
   "cell_type": "code",
   "execution_count": null,
   "metadata": {},
   "outputs": [],
   "source": [
    "movies = Table().read_table(\"kicks_kisses_labeled.csv\")\n",
    "movies.show()"
   ]
  },
  {
   "cell_type": "markdown",
   "metadata": {},
   "source": [
    "**Question 4.1** Plot the data so that 'number of kicks' is on the x-axis, 'number of kisses' is on the y-axis, each row of the table above is a point, and the points are color-coded by their binary label. Use this plot to determine whether the data is linearly separable."
   ]
  },
  {
   "cell_type": "code",
   "execution_count": null,
   "metadata": {},
   "outputs": [],
   "source": [
    "..."
   ]
  },
  {
   "cell_type": "markdown",
   "metadata": {},
   "source": [
    "**Question 4.2** Remove as few rows as possible from the `movies` table so that you are left with linearly separable data. The column `index` is included to help you, but you do not need to use it. Be careful after the first removal, as the values in this column will change. Plot the remaining data again to make sure it looks linearly separable."
   ]
  },
  {
   "cell_type": "code",
   "execution_count": null,
   "metadata": {},
   "outputs": [],
   "source": [
    "..."
   ]
  },
  {
   "cell_type": "markdown",
   "metadata": {},
   "source": [
    "**Question 4.3** Now, try out your algorithm on the modified `movies` table and display the training points and resulting line so that you can see if the perceptron successfully classified the training points. Again, print out the weights and bias after each pass through the training data so you can see the updates."
   ]
  },
  {
   "cell_type": "code",
   "execution_count": null,
   "metadata": {},
   "outputs": [],
   "source": [
    "..."
   ]
  },
  {
   "cell_type": "markdown",
   "metadata": {},
   "source": [
    "**Question 4.4** The table `test` has unlabeled test data, along with each movie's previously determined classification according to the k-nearest neighbor algorithm, for k=1, 3, and 5. Use the classifier determined by the perceptron learning algorithm to classify each movie in `test` and append a \"Perceptron\" column to the table, containing the classification for each movie."
   ]
  },
  {
   "cell_type": "code",
   "execution_count": null,
   "metadata": {},
   "outputs": [],
   "source": [
    "test = Table().read_table(\"kicks_kisses_unlabeled.csv\")\n",
    "test"
   ]
  },
  {
   "cell_type": "code",
   "execution_count": null,
   "metadata": {},
   "outputs": [],
   "source": [
    "..."
   ]
  },
  {
   "cell_type": "markdown",
   "metadata": {},
   "source": [
    "**Question 4.5** Compare the results of the perceptron learning algorithm to those of the k-nearest neighbor algorithm. Which algorithm do you think is better, and why?"
   ]
  },
  {
   "cell_type": "markdown",
   "metadata": {},
   "source": [
    "*Replace this text with your answer.*"
   ]
  },
  {
   "cell_type": "markdown",
   "metadata": {},
   "source": [
    "## You're Done!"
   ]
  },
  {
   "cell_type": "code",
   "execution_count": null,
   "metadata": {},
   "outputs": [],
   "source": [
    "# Run this cell to submit your code. You can always resubmit before the deadline.\n",
    "_ = ok.submit()"
   ]
  }
 ],
 "metadata": {
  "kernelspec": {
   "display_name": "Python 3",
   "language": "python",
   "name": "python3"
  },
  "language_info": {
   "codemirror_mode": {
    "name": "ipython",
    "version": 3
   },
   "file_extension": ".py",
   "mimetype": "text/x-python",
   "name": "python",
   "nbconvert_exporter": "python",
   "pygments_lexer": "ipython3",
   "version": "3.5.3"
  }
 },
 "nbformat": 4,
 "nbformat_minor": 2
}
