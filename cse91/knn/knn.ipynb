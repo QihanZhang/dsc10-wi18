{
 "cells": [
  {
   "cell_type": "markdown",
   "metadata": {},
   "source": [
    "## k-Nearest Neighbor In-Class Project\n",
    "\n",
    "You may work alone or with one partner using pair programming. When you are finished, make sure to check in with an instructor to get credit for doing this project. If you don't finish during today's class, you can come on Thursday to finish up.\n",
    "\n"
   ]
  },
  {
   "cell_type": "code",
   "execution_count": null,
   "metadata": {
    "collapsed": true
   },
   "outputs": [],
   "source": [
    "# Imports\n",
    "#  Note: these are all the imports you need! Do not import any other functions / packages\n",
    "%matplotlib inline\n",
    "\n",
    "from datascience import *\n",
    "\n",
    "import numpy as np\n",
    "import matplotlib.pyplot as plt\n",
    "plt.style.use('fivethirtyeight')"
   ]
  },
  {
   "cell_type": "code",
   "execution_count": null,
   "metadata": {},
   "outputs": [],
   "source": [
    "# Read in the table of labeled training data.\n",
    "# Unfortunately, this data is not real data. Consider how you might collect such data.\n",
    "movies = Table.read_table('kicks_kisses_labeled.csv')\n",
    "movies.show()"
   ]
  },
  {
   "cell_type": "code",
   "execution_count": null,
   "metadata": {},
   "outputs": [],
   "source": [
    "#  1) Notice that action movies tend to have more kicks than kisses. \n",
    "#  Romance movies tend to have more kisses than kicks.\n",
    "#  Plot the data so that number of kicks is on the x-axis, number of kisses is on the y-axis,\n",
    "#  each movie is a point, and the points are color-coded by genre.\n",
    "\n"
   ]
  },
  {
   "cell_type": "code",
   "execution_count": null,
   "metadata": {
    "collapsed": true
   },
   "outputs": [],
   "source": [
    "# Our goal will be to classify a new movie as Action or Romance, based on the number of kicks and the numbers of kisses.\n",
    "# Suppose that for a new movie, its number of kicks and kisses are defined by:\n",
    "\n",
    "new_kicks = 34\n",
    "new_kisses = 103\n",
    "\n",
    "#We will use the k-nearest neighbor algorithm, and for now we set\n",
    "\n",
    "k=1"
   ]
  },
  {
   "cell_type": "code",
   "execution_count": null,
   "metadata": {
    "collapsed": true
   },
   "outputs": [],
   "source": [
    "# 2) Create a new table called 'distances' that looks like the table 'movies', but with an extra column called 'Distance'.\n",
    "# The distance column should contain the distances from each training point to the new movie. \n",
    "# Use the variables 'new_kicks' and 'new_kisses' rather than the values 78 and 103, \n",
    "# so that we can easily change the new movie we want to classify."
   ]
  },
  {
   "cell_type": "code",
   "execution_count": null,
   "metadata": {
    "collapsed": true
   },
   "outputs": [],
   "source": [
    "# 3) Modify your 'distances' table to contain only the k movies that have the smallest distance to the new movie.\n",
    "# Use the variable 'k' rather than the value 1, so that we can easily change its value later on.\n",
    "\n"
   ]
  },
  {
   "cell_type": "code",
   "execution_count": null,
   "metadata": {
    "collapsed": true
   },
   "outputs": [],
   "source": [
    "# Print out the hypothesized genre of the new movie\n",
    "\n"
   ]
  },
  {
   "cell_type": "code",
   "execution_count": null,
   "metadata": {},
   "outputs": [],
   "source": [
    "# 4) Now we will do the same thing for many unlabeled movies.\n",
    "# Read in the table of unlabeled movies that you will now make predictions for.\n",
    "\n",
    "predictions = Table.read_table('kicks_kisses_unlabeled.csv')\n",
    "predictions.show()\n",
    "\n"
   ]
  },
  {
   "cell_type": "code",
   "execution_count": null,
   "metadata": {
    "collapsed": true
   },
   "outputs": [],
   "source": [
    "#5) Add a column called 'Prediction k=1' that has the word \"Unknown\" in each row.\n",
    "\n"
   ]
  },
  {
   "cell_type": "code",
   "execution_count": null,
   "metadata": {
    "collapsed": true
   },
   "outputs": [],
   "source": [
    "# 6) Classify each movie.\n",
    "\n",
    "k=1\n",
    "for p in np.arange(0, predictions.column(0).size):\n",
    "    new_kicks = predictions.column(1).item(p)\n",
    "    new_kisses = predictions.column(2).item(p)\n",
    "    # Classify this movie and change the word \"Unknown\" to either \"Action\" or \"Romance\"\n",
    "predictions "
   ]
  },
  {
   "cell_type": "code",
   "execution_count": null,
   "metadata": {
    "collapsed": true
   },
   "outputs": [],
   "source": [
    "# 7) Create two more columns, one called 'Prediction k=3' and the other called 'Prediction k=5'.\n",
    "# Classify each movie using the k-nearest neighbor algorithm with k=3, and then with k=5.\n",
    "\n"
   ]
  },
  {
   "cell_type": "code",
   "execution_count": null,
   "metadata": {
    "collapsed": true,
    "scrolled": true
   },
   "outputs": [],
   "source": [
    "# 8) Check in with your instructor when you are done. If you don't finish today, come on Thursday.\n",
    "\n"
   ]
  },
  {
   "cell_type": "code",
   "execution_count": null,
   "metadata": {
    "collapsed": true
   },
   "outputs": [],
   "source": [
    "\n"
   ]
  },
  {
   "cell_type": "code",
   "execution_count": null,
   "metadata": {
    "collapsed": true
   },
   "outputs": [],
   "source": []
  }
 ],
 "metadata": {
  "kernelspec": {
   "display_name": "Python 3",
   "language": "python",
   "name": "python3"
  },
  "language_info": {
   "codemirror_mode": {
    "name": "ipython",
    "version": 3
   },
   "file_extension": ".py",
   "mimetype": "text/x-python",
   "name": "python",
   "nbconvert_exporter": "python",
   "pygments_lexer": "ipython3",
   "version": "3.6.1"
  }
 },
 "nbformat": 4,
 "nbformat_minor": 2
}
