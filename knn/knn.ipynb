{
 "cells": [
  {
   "cell_type": "markdown",
   "metadata": {},
   "source": [
    "## k-Nearest Neighbor In-Class Project\n",
    "\n",
    "You may work alone or with one partner using pair programming. When you are finished, make sure to check in with an instructor to get credit for doing this project. If you don't finish during today's class, you can come on Thursday to finish up.\n",
    "\n"
   ]
  },
  {
   "cell_type": "code",
   "execution_count": 1,
   "metadata": {
    "collapsed": true
   },
   "outputs": [],
   "source": [
    "# Imports\n",
    "#  Note: these are all the imports you need! Do not import any other functions / packages\n",
    "%matplotlib inline\n",
    "\n",
    "from datascience import *\n",
    "\n",
    "import numpy as np\n",
    "import matplotlib.pyplot as plt\n",
    "plt.style.use('fivethirtyeight')"
   ]
  },
  {
   "cell_type": "code",
   "execution_count": 2,
   "metadata": {},
   "outputs": [
    {
     "data": {
      "text/html": [
       "<table border=\"1\" class=\"dataframe\">\n",
       "    <thead>\n",
       "        <tr>\n",
       "            <th>Title</th> <th>Number of kicks</th> <th>Number of kisses</th> <th>Type of Movie</th>\n",
       "        </tr>\n",
       "    </thead>\n",
       "    <tbody>\n",
       "        <tr>\n",
       "            <td>Beautiful Woman           </td> <td>1              </td> <td>88              </td> <td>Romance      </td>\n",
       "        </tr>\n",
       "    </tbody>\n",
       "        <tr>\n",
       "            <td>Titanic                   </td> <td>42             </td> <td>67              </td> <td>Romance      </td>\n",
       "        </tr>\n",
       "    </tbody>\n",
       "        <tr>\n",
       "            <td>California Man            </td> <td>3              </td> <td>104             </td> <td>Romance      </td>\n",
       "        </tr>\n",
       "    </tbody>\n",
       "        <tr>\n",
       "            <td>He's Not Really Into Dudes</td> <td>2              </td> <td>100             </td> <td>Romance      </td>\n",
       "        </tr>\n",
       "    </tbody>\n",
       "        <tr>\n",
       "            <td>The Age of Adaline        </td> <td>4              </td> <td>68              </td> <td>Romance      </td>\n",
       "        </tr>\n",
       "    </tbody>\n",
       "        <tr>\n",
       "            <td>Breakfast at Tiffany's    </td> <td>3              </td> <td>80              </td> <td>Romance      </td>\n",
       "        </tr>\n",
       "    </tbody>\n",
       "        <tr>\n",
       "            <td>Dirty Dancing             </td> <td>150            </td> <td>50              </td> <td>Romance      </td>\n",
       "        </tr>\n",
       "    </tbody>\n",
       "        <tr>\n",
       "            <td>The Fault in our Stars    </td> <td>5              </td> <td>11              </td> <td>Romance      </td>\n",
       "        </tr>\n",
       "    </tbody>\n",
       "        <tr>\n",
       "            <td>The Lake House            </td> <td>2              </td> <td>87              </td> <td>Romance      </td>\n",
       "        </tr>\n",
       "    </tbody>\n",
       "        <tr>\n",
       "            <td>The Illusionist           </td> <td>30             </td> <td>47              </td> <td>Romance      </td>\n",
       "        </tr>\n",
       "    </tbody>\n",
       "        <tr>\n",
       "            <td>Doctor Zhivago            </td> <td>22             </td> <td>20              </td> <td>Romance      </td>\n",
       "        </tr>\n",
       "    </tbody>\n",
       "        <tr>\n",
       "            <td>Dear John                 </td> <td>46             </td> <td>56              </td> <td>Romance      </td>\n",
       "        </tr>\n",
       "    </tbody>\n",
       "        <tr>\n",
       "            <td>The English Patient       </td> <td>1              </td> <td>9               </td> <td>Romance      </td>\n",
       "        </tr>\n",
       "    </tbody>\n",
       "        <tr>\n",
       "            <td>Pearl Harbor              </td> <td>80             </td> <td>80              </td> <td>Romance      </td>\n",
       "        </tr>\n",
       "    </tbody>\n",
       "        <tr>\n",
       "            <td>Inception                 </td> <td>76             </td> <td>7               </td> <td>Action       </td>\n",
       "        </tr>\n",
       "    </tbody>\n",
       "        <tr>\n",
       "            <td>Date Night                </td> <td>87             </td> <td>95              </td> <td>Action       </td>\n",
       "        </tr>\n",
       "    </tbody>\n",
       "        <tr>\n",
       "            <td>Robo Slayer               </td> <td>98             </td> <td>5               </td> <td>Action       </td>\n",
       "        </tr>\n",
       "    </tbody>\n",
       "        <tr>\n",
       "            <td>Robocop                   </td> <td>73             </td> <td>2               </td> <td>Action       </td>\n",
       "        </tr>\n",
       "    </tbody>\n",
       "        <tr>\n",
       "            <td>Kevin Longblade           </td> <td>101            </td> <td>10              </td> <td>Action       </td>\n",
       "        </tr>\n",
       "    </tbody>\n",
       "        <tr>\n",
       "            <td>Amped II                  </td> <td>98             </td> <td>12              </td> <td>Action       </td>\n",
       "        </tr>\n",
       "    </tbody>\n",
       "        <tr>\n",
       "            <td>Salt                      </td> <td>43             </td> <td>27              </td> <td>Action       </td>\n",
       "        </tr>\n",
       "    </tbody>\n",
       "        <tr>\n",
       "            <td>The Guardian              </td> <td>128            </td> <td>4               </td> <td>Action       </td>\n",
       "        </tr>\n",
       "    </tbody>\n",
       "        <tr>\n",
       "            <td>Man on Fire               </td> <td>107            </td> <td>37              </td> <td>Action       </td>\n",
       "        </tr>\n",
       "    </tbody>\n",
       "        <tr>\n",
       "            <td>Spider-Man                </td> <td>111            </td> <td>53              </td> <td>Action       </td>\n",
       "        </tr>\n",
       "    </tbody>\n",
       "</table>"
      ],
      "text/plain": [
       "<IPython.core.display.HTML object>"
      ]
     },
     "metadata": {},
     "output_type": "display_data"
    }
   ],
   "source": [
    "# Read in the table of labeled training data.\n",
    "# Unfortunately, this data is not real data. Consider how you might collect such data.\n",
    "movies = Table.read_table('kicks_kisses_labeled.csv')\n",
    "movies.show()"
   ]
  },
  {
   "cell_type": "code",
   "execution_count": 5,
   "metadata": {},
   "outputs": [
    {
     "data": {
      "image/png": "[encoded data removed]",
      "text/plain": [
       "<matplotlib.figure.Figure at 0x828e61b0b8>"
      ]
     },
     "metadata": {},
     "output_type": "display_data"
    }
   ],
   "source": [
    "#  1) Notice that action movies tend to have more kicks than kisses. \n",
    "#  Romance movies tend to have more kisses than kicks.\n",
    "#  Plot the data so that number of kicks is on the x-axis, number of kisses is on the y-axis,\n",
    "#  each movie is a point, and the points are color-coded by genre.\n",
    "\n"
   ]
  },
  {
   "cell_type": "code",
   "execution_count": null,
   "metadata": {
    "collapsed": true
   },
   "outputs": [],
   "source": [
    "# Our goal will be to classify a new movie as Action or Romance, based on the number of kicks and the numbers of kisses.\n",
    "# Suppose that for a new movie, its number of kicks and kisses are defined by:\n",
    "\n",
    "new_kicks = 34\n",
    "new_kisses = 103\n",
    "\n",
    "#We will use the k-nearest neighbor algorithm, and for now we set\n",
    "\n",
    "k=1"
   ]
  },
  {
   "cell_type": "code",
   "execution_count": null,
   "metadata": {
    "collapsed": true
   },
   "outputs": [],
   "source": [
    "# 2) Create a new table called 'distances' that looks like the table 'movies', but with an extra column called 'Distance'.\n",
    "# The distance column should contain the distances from each training point to the new movie. \n",
    "# Use the variables 'new_kicks' and 'new_kisses' rather than the values 78 and 103, \n",
    "# so that we can easily change the new movie we want to classify."
   ]
  },
  {
   "cell_type": "code",
   "execution_count": null,
   "metadata": {
    "collapsed": true
   },
   "outputs": [],
   "source": [
    "# 3) Modify your 'distances' table to contain only the k movies that have the smallest distance to the new movie.\n",
    "# Use the variable 'k' rather than the value 1, so that we can easily change its value later on.\n",
    "\n"
   ]
  },
  {
   "cell_type": "code",
   "execution_count": null,
   "metadata": {
    "collapsed": true
   },
   "outputs": [],
   "source": [
    "# Print out the hypothesized genre of the new movie\n",
    "\n"
   ]
  },
  {
   "cell_type": "code",
   "execution_count": 7,
   "metadata": {},
   "outputs": [
    {
     "data": {
      "text/html": [
       "<table border=\"1\" class=\"dataframe\">\n",
       "    <thead>\n",
       "        <tr>\n",
       "            <th>Title</th> <th>Number of Kicks</th> <th>Number of Kisses</th>\n",
       "        </tr>\n",
       "    </thead>\n",
       "    <tbody>\n",
       "        <tr>\n",
       "            <td>Die Hard            </td> <td>141            </td> <td>8               </td>\n",
       "        </tr>\n",
       "    </tbody>\n",
       "        <tr>\n",
       "            <td>Grease              </td> <td>13             </td> <td>45              </td>\n",
       "        </tr>\n",
       "    </tbody>\n",
       "        <tr>\n",
       "            <td>Sleepy Hollow       </td> <td>80             </td> <td>48              </td>\n",
       "        </tr>\n",
       "    </tbody>\n",
       "        <tr>\n",
       "            <td>Mr. and Mrs. Smith  </td> <td>84             </td> <td>82              </td>\n",
       "        </tr>\n",
       "    </tbody>\n",
       "        <tr>\n",
       "            <td>Passengers          </td> <td>103            </td> <td>82              </td>\n",
       "        </tr>\n",
       "    </tbody>\n",
       "        <tr>\n",
       "            <td>Jurrasic World      </td> <td>76             </td> <td>70              </td>\n",
       "        </tr>\n",
       "    </tbody>\n",
       "        <tr>\n",
       "            <td>The Foreigner       </td> <td>96             </td> <td>37              </td>\n",
       "        </tr>\n",
       "    </tbody>\n",
       "        <tr>\n",
       "            <td>Fair Game           </td> <td>43             </td> <td>72              </td>\n",
       "        </tr>\n",
       "    </tbody>\n",
       "        <tr>\n",
       "            <td>Sleepless in Seattle</td> <td>2              </td> <td>91              </td>\n",
       "        </tr>\n",
       "    </tbody>\n",
       "        <tr>\n",
       "            <td>Happy Feet          </td> <td>20             </td> <td>0               </td>\n",
       "        </tr>\n",
       "    </tbody>\n",
       "</table>"
      ],
      "text/plain": [
       "<IPython.core.display.HTML object>"
      ]
     },
     "metadata": {},
     "output_type": "display_data"
    }
   ],
   "source": [
    "# 4) Now we will do the same thing for many unlabeled movies.\n",
    "# Read in the table of unlabeled movies that you will now make predictions for.\n",
    "\n",
    "predictions = Table.read_table('kicks_kisses_unlabeled.csv')\n",
    "predictions.show()\n",
    "\n"
   ]
  },
  {
   "cell_type": "code",
   "execution_count": null,
   "metadata": {
    "collapsed": true
   },
   "outputs": [],
   "source": [
    "#5) Add a column called 'Prediction k=1' that has the word \"Unknown\" in each row.\n",
    "\n"
   ]
  },
  {
   "cell_type": "code",
   "execution_count": null,
   "metadata": {
    "collapsed": true
   },
   "outputs": [],
   "source": [
    "# 6) Classify each movie.\n",
    "\n",
    "k=1\n",
    "for p in np.arange(0, predictions.column(0).size):\n",
    "    new_kicks = predictions.column(1).item(p)\n",
    "    new_kisses = predictions.column(2).item(p)\n",
    "    # Classify this movie and change the word \"Unknown\" to either \"Action\" or \"Romance\"\n",
    "predictions "
   ]
  },
  {
   "cell_type": "code",
   "execution_count": null,
   "metadata": {
    "collapsed": true
   },
   "outputs": [],
   "source": [
    "# 7) Create two more columns, one called 'Prediction k=3' and the other called 'Prediction k=5'.\n",
    "# Classify each movie using the k-nearest neighbor algorithm with k=3, and then with k=5.\n",
    "\n"
   ]
  },
  {
   "cell_type": "code",
   "execution_count": null,
   "metadata": {
    "collapsed": true,
    "scrolled": true
   },
   "outputs": [],
   "source": [
    "# 8) Check in with your instructor when you are done. If you don't finish today, come on Thursday.\n",
    "\n"
   ]
  },
  {
   "cell_type": "code",
   "execution_count": null,
   "metadata": {
    "collapsed": true
   },
   "outputs": [],
   "source": [
    "\n"
   ]
  },
  {
   "cell_type": "code",
   "execution_count": null,
   "metadata": {
    "collapsed": true
   },
   "outputs": [],
   "source": []
  }
 ],
 "metadata": {
  "kernelspec": {
   "display_name": "Python 3",
   "language": "python",
   "name": "python3"
  },
  "language_info": {
   "codemirror_mode": {
    "name": "ipython",
    "version": 3
   },
   "file_extension": ".py",
   "mimetype": "text/x-python",
   "name": "python",
   "nbconvert_exporter": "python",
   "pygments_lexer": "ipython3",
   "version": "3.6.1"
  }
 },
 "nbformat": 4,
 "nbformat_minor": 2
}
