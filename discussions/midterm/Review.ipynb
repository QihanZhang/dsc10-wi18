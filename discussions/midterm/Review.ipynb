{
 "cells": [
  {
   "cell_type": "code",
   "execution_count": 2,
   "metadata": {
    "collapsed": true
   },
   "outputs": [],
   "source": [
    "import numpy as np\n",
    "from datascience import *\n",
    "\n",
    "%matplotlib inline\n",
    "import matplotlib.pyplot as plots\n",
    "plots.style.use('fivethirtyeight')"
   ]
  },
  {
   "cell_type": "markdown",
   "metadata": {},
   "source": [
    "# Sampling"
   ]
  },
  {
   "cell_type": "code",
   "execution_count": 4,
   "metadata": {
    "collapsed": true
   },
   "outputs": [],
   "source": [
    "#The table colors is created as follows:\n",
    "colors = Table().with_column(\n",
    "'Color', make_array('blue', 'green', 'red', 'purple')\n",
    ")"
   ]
  },
  {
   "cell_type": "markdown",
   "metadata": {},
   "source": [
    "Find a numerical expression for the chance that all the entries of colors.sample(3).column(0) are the\n",
    "same. Don’t simplify the arithmetic."
   ]
  },
  {
   "cell_type": "code",
   "execution_count": 8,
   "metadata": {
    "collapsed": false
   },
   "outputs": [
    {
     "data": {
      "text/plain": [
       "array(['red', 'blue', 'red'],\n",
       "      dtype='<U4')"
      ]
     },
     "execution_count": 8,
     "metadata": {},
     "output_type": "execute_result"
    }
   ],
   "source": [
    "colors.sample(3).column(0)"
   ]
  },
  {
   "cell_type": "markdown",
   "metadata": {},
   "source": [
    "# Binning"
   ]
  },
  {
   "cell_type": "markdown",
   "metadata": {},
   "source": [
    "The table nba has a column labeled SALARY containing the 2015-2016 salaries of NBA players. Here\n",
    "is the output of nba.select(‘SALARY’).hist(bins = make array(0, 2, 4, 12, 18, 26)) along with\n",
    "the heights of the bars."
   ]
  },
  {
   "cell_type": "code",
   "execution_count": 34,
   "metadata": {
    "collapsed": true
   },
   "outputs": [],
   "source": [
    "nba = Table.read_table(\"nba_salaries.csv\")\n",
    "nba = nba.relabeled(\"'15-'16 SALARY\",\"SALARY\")"
   ]
  },
  {
   "cell_type": "code",
   "execution_count": 17,
   "metadata": {
    "collapsed": false
   },
   "outputs": [
    {
     "data": {
      "image/png": "[encoded data removed]",
      "text/plain": [
       "<matplotlib.figure.Figure at 0x7f5029715eb8>"
      ]
     },
     "metadata": {},
     "output_type": "display_data"
    }
   ],
   "source": [
    "nba.select('SALARY').hist(bins = make_array(0, 2, 4, 12, 18, 26))"
   ]
  },
  {
   "cell_type": "code",
   "execution_count": 33,
   "metadata": {
    "collapsed": false
   },
   "outputs": [
    {
     "data": {
      "text/html": [
       "<table border=\"1\" class=\"dataframe\">\n",
       "    <thead>\n",
       "        <tr>\n",
       "            <th>bin</th> <th>SALARY density</th>\n",
       "        </tr>\n",
       "    </thead>\n",
       "    <tbody>\n",
       "        <tr>\n",
       "            <td>0   </td> <td>0.176259      </td>\n",
       "        </tr>\n",
       "    </tbody>\n",
       "        <tr>\n",
       "            <td>2   </td> <td>0.113909      </td>\n",
       "        </tr>\n",
       "    </tbody>\n",
       "        <tr>\n",
       "            <td>4   </td> <td>0.0359712     </td>\n",
       "        </tr>\n",
       "    </tbody>\n",
       "        <tr>\n",
       "            <td>12  </td> <td>0.0159872     </td>\n",
       "        </tr>\n",
       "    </tbody>\n",
       "        <tr>\n",
       "            <td>18  </td> <td>0.0044964     </td>\n",
       "        </tr>\n",
       "    </tbody>\n",
       "        <tr>\n",
       "            <td>26  </td> <td>0             </td>\n",
       "        </tr>\n",
       "    </tbody>\n",
       "</table>"
      ],
      "text/plain": [
       "bin  | SALARY density\n",
       "0    | 0.176259\n",
       "2    | 0.113909\n",
       "4    | 0.0359712\n",
       "12   | 0.0159872\n",
       "18   | 0.0044964\n",
       "26   | 0"
      ]
     },
     "execution_count": 33,
     "metadata": {},
     "output_type": "execute_result"
    }
   ],
   "source": [
    "nba.select('SALARY').bin(bins = make_array(0, 2, 4, 12, 18, 26),density=True)"
   ]
  },
  {
   "cell_type": "markdown",
   "metadata": {},
   "source": [
    "(a) Which bin contains more players: [2, 4) or [4, 12)? Explain your choice."
   ]
  },
  {
   "cell_type": "markdown",
   "metadata": {},
   "source": [
    "(b) To see some more detail in the [4, 12) range, the histogram will be redrawn with bins as shown below.\n",
    "The display includes the heights that are available from above.\n"
   ]
  },
  {
   "cell_type": "markdown",
   "metadata": {},
   "source": [
    "<table style=\"width:100%\">\n",
    "<tr>\n",
    "<th>bin (million dollars)</th>\n",
    "<th>[0, 2)</th>\n",
    "<th>[2, 4)</th>\n",
    "<th>[4, 6)</th>\n",
    "<th>[6, 12)</th>\n",
    "<th>[12, 18)</th>\n",
    "<th>[18, 26)</th>\n",
    "</tr>\n",
    "<tr>\n",
    "<th>height (percent per million dollars)</th>\n",
    "<th>17.63 </th>\n",
    "<th>11.39 </th>\n",
    "<th>(i) </th>\n",
    "<th>(ii)</th>\n",
    "<th>1.60</th>\n",
    "<th>0.45</th>\n",
    "</tr>\n",
    "</table>"
   ]
  },
  {
   "cell_type": "markdown",
   "metadata": {},
   "source": [
    "The expression nba.num rows evaluates to 417.\n",
    "The expression nba.where(‘SALARY’, are.between(4, 6)).num rows evaluates to 56.\n",
    "If possible, provide a numerical expression for each missing height (do not simplify the arithmetic). If\n",
    "this is not possible, explain why not."
   ]
  },
  {
   "cell_type": "code",
   "execution_count": 23,
   "metadata": {
    "collapsed": false
   },
   "outputs": [
    {
     "data": {
      "text/plain": [
       "56"
      ]
     },
     "execution_count": 23,
     "metadata": {},
     "output_type": "execute_result"
    }
   ],
   "source": [
    "nba.where('SALARY', are.between(4, 6)).num_rows "
   ]
  },
  {
   "cell_type": "code",
   "execution_count": 48,
   "metadata": {
    "collapsed": false,
    "scrolled": false
   },
   "outputs": [
    {
     "data": {
      "text/html": [
       "<table border=\"1\" class=\"dataframe\">\n",
       "    <thead>\n",
       "        <tr>\n",
       "            <th>bin</th> <th>SALARY density</th>\n",
       "        </tr>\n",
       "    </thead>\n",
       "    <tbody>\n",
       "        <tr>\n",
       "            <td>0   </td> <td>0.176259      </td>\n",
       "        </tr>\n",
       "    </tbody>\n",
       "        <tr>\n",
       "            <td>2   </td> <td>0.113909      </td>\n",
       "        </tr>\n",
       "    </tbody>\n",
       "        <tr>\n",
       "            <td>4   </td> <td>0.0671463     </td>\n",
       "        </tr>\n",
       "    </tbody>\n",
       "        <tr>\n",
       "            <td>6   </td> <td>0.0255795     </td>\n",
       "        </tr>\n",
       "    </tbody>\n",
       "        <tr>\n",
       "            <td>12  </td> <td>0.0159872     </td>\n",
       "        </tr>\n",
       "    </tbody>\n",
       "        <tr>\n",
       "            <td>18  </td> <td>0.0044964     </td>\n",
       "        </tr>\n",
       "    </tbody>\n",
       "        <tr>\n",
       "            <td>26  </td> <td>0             </td>\n",
       "        </tr>\n",
       "    </tbody>\n",
       "</table>"
      ],
      "text/plain": [
       "bin  | SALARY density\n",
       "0    | 0.176259\n",
       "2    | 0.113909\n",
       "4    | 0.0671463\n",
       "6    | 0.0255795\n",
       "12   | 0.0159872\n",
       "18   | 0.0044964\n",
       "26   | 0"
      ]
     },
     "execution_count": 48,
     "metadata": {},
     "output_type": "execute_result"
    }
   ],
   "source": [
    "#What it actually is\n",
    "nba.select('SALARY').bin(bins = make_array(0, 2, 4, 6, 12, 18, 26),density=True)"
   ]
  },
  {
   "cell_type": "markdown",
   "metadata": {},
   "source": [
    "# Scatter Plots"
   ]
  },
  {
   "cell_type": "markdown",
   "metadata": {},
   "source": [
    "A group of UCSD students are walking around La Jolla and notice that La Jolla has some really nice houses. One students says \"Man, the people who live in these houses must be really rich\". One of the other students is taking DSC10 this quarter and wonders if they can find any data to support that claim. The student goes online and finds a csv file of La Jolla housing prices and income levels. The table they found is displayed below. "
   ]
  },
  {
   "cell_type": "code",
   "execution_count": 15,
   "metadata": {
    "collapsed": false,
    "scrolled": true
   },
   "outputs": [
    {
     "data": {
      "text/html": [
       "<table border=\"1\" class=\"dataframe\">\n",
       "    <thead>\n",
       "        <tr>\n",
       "            <th>Housing Price in Millions</th> <th>Average Household Income per Tenant</th> <th>Number of Tenants in Household</th>\n",
       "        </tr>\n",
       "    </thead>\n",
       "    <tbody>\n",
       "        <tr>\n",
       "            <td>1.2                      </td> <td>50                                 </td> <td>4                             </td>\n",
       "        </tr>\n",
       "    </tbody>\n",
       "        <tr>\n",
       "            <td>1.4                      </td> <td>250                                </td> <td>1                             </td>\n",
       "        </tr>\n",
       "    </tbody>\n",
       "        <tr>\n",
       "            <td>0.7                      </td> <td>75                                 </td> <td>1                             </td>\n",
       "        </tr>\n",
       "    </tbody>\n",
       "        <tr>\n",
       "            <td>0.2                      </td> <td>15                                 </td> <td>3                             </td>\n",
       "        </tr>\n",
       "    </tbody>\n",
       "        <tr>\n",
       "            <td>0.35                     </td> <td>7                                  </td> <td>8                             </td>\n",
       "        </tr>\n",
       "    </tbody>\n",
       "        <tr>\n",
       "            <td>2.2                      </td> <td>55                                 </td> <td>5                             </td>\n",
       "        </tr>\n",
       "    </tbody>\n",
       "        <tr>\n",
       "            <td>2.5                      </td> <td>100                                </td> <td>3                             </td>\n",
       "        </tr>\n",
       "    </tbody>\n",
       "        <tr>\n",
       "            <td>1.3                      </td> <td>180                                </td> <td>1                             </td>\n",
       "        </tr>\n",
       "    </tbody>\n",
       "        <tr>\n",
       "            <td>1.2                      </td> <td>95                                 </td> <td>2                             </td>\n",
       "        </tr>\n",
       "    </tbody>\n",
       "        <tr>\n",
       "            <td>0.9                      </td> <td>80                                 </td> <td>2                             </td>\n",
       "        </tr>\n",
       "    </tbody>\n",
       "</table>\n",
       "<p>... (4 rows omitted)</p"
      ],
      "text/plain": [
       "Housing Price in Millions | Average Household Income per Tenant | Number of Tenants in Household\n",
       "1.2                       | 50                                  | 4\n",
       "1.4                       | 250                                 | 1\n",
       "0.7                       | 75                                  | 1\n",
       "0.2                       | 15                                  | 3\n",
       "0.35                      | 7                                   | 8\n",
       "2.2                       | 55                                  | 5\n",
       "2.5                       | 100                                 | 3\n",
       "1.3                       | 180                                 | 1\n",
       "1.2                       | 95                                  | 2\n",
       "0.9                       | 80                                  | 2\n",
       "... (4 rows omitted)"
      ]
     },
     "execution_count": 15,
     "metadata": {},
     "output_type": "execute_result"
    }
   ],
   "source": [
    "housing = Table().with_columns(\"Housing Price in Millions\", make_array(1.2,1.4,.7,.2,.35,2.2,2.5,1.3,1.2,.9,.85,.45,.33,.74),\n",
    "                     \"Average Household Income per Tenant\", make_array(50, 250, 75, 15, 7, 55, 100, 180, 95, 80, 27, 35, 110,90),\n",
    "                     \"Number of Tenants in Household\", make_array(4, 1, 1, 3, 8, 5,3,1,2,2,4,2,1,1))\n",
    "housing"
   ]
  },
  {
   "cell_type": "markdown",
   "metadata": {},
   "source": [
    "The household income has been recored in a bit of a weird way. It has been reported as the average household income per tenant. So for the first house it has an average household income per tenant of 50 thousand dollars and it has 4 tenants so the total household income is 200 thousand dollars (50*4).\n",
    "\n",
    "The student wants to generate a scatter plot that compares housing prices to total household income.\n",
    "**Write the code to generate the scatter plot.**"
   ]
  },
  {
   "cell_type": "code",
   "execution_count": 14,
   "metadata": {
    "collapsed": false
   },
   "outputs": [
    {
     "data": {
      "image/png": "[encoded data removed]",
      "text/plain": [
       "<matplotlib.figure.Figure at 0x11a3940b8>"
      ]
     },
     "metadata": {},
     "output_type": "display_data"
    }
   ],
   "source": [
    "housing.with_column('Total Income', housing.column('Average Household Income per Tenant')\n",
    "                    * housing.column('Number of Tenants in Household')).scatter('Housing Price in Millions',\n",
    "                                                                               'Total Income')"
   ]
  },
  {
   "cell_type": "markdown",
   "metadata": {},
   "source": [
    "### Does the chart support the claim that people who live in more expensive houses tend to make more money?"
   ]
  },
  {
   "cell_type": "code",
   "execution_count": null,
   "metadata": {
    "collapsed": true
   },
   "outputs": [],
   "source": []
  }
 ],
 "metadata": {
  "kernelspec": {
   "display_name": "Python 3",
   "language": "python",
   "name": "python3"
  },
  "language_info": {
   "codemirror_mode": {
    "name": "ipython",
    "version": 3
   },
   "file_extension": ".py",
   "mimetype": "text/x-python",
   "name": "python",
   "nbconvert_exporter": "python",
   "pygments_lexer": "ipython3",
   "version": "3.6.0"
  }
 },
 "nbformat": 4,
 "nbformat_minor": 2
}
