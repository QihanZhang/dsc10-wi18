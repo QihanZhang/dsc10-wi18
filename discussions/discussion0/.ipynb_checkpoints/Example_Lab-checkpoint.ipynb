{
 "cells": [
  {
   "cell_type": "markdown",
   "metadata": {},
   "source": [
    "# Discussion 1\n",
    "\n",
    "This is an example lab. After completing it you should feel comfortable with the process of submitting an assignment and checking your grades on ok grader. "
   ]
  },
  {
   "cell_type": "code",
   "execution_count": 3,
   "metadata": {
    "collapsed": false
   },
   "outputs": [],
   "source": [
    "# Don't change this cell; just run it.\n",
    "# You can run it using shift + return or using the button to the left of the stop button. \n",
    "from client.api.notebook import Notebook\n",
    "ok = Notebook('example_lab.ok')\n",
    "_ = ok.auth(inline=True)"
   ]
  },
  {
   "cell_type": "markdown",
   "metadata": {},
   "source": [
    "## 1. Welcome To Jupyter Notebook\n"
   ]
  },
  {
   "cell_type": "markdown",
   "metadata": {},
   "source": [
    "Explore jupyter notebook a bit. You can hover over all the button to see what they do.\n",
    "Check out the keyboard shortcuts button if you don't like using the mouse. "
   ]
  },
  {
   "cell_type": "markdown",
   "metadata": {},
   "source": [
    "###  Question 1\n",
    "Your labs, homeworks, and projects will be partially graded automatically using a grading script. This means you have to be very careful to submit your answer in the correct format. For example given the question:\n",
    "\n",
    "What is the unofficial mascot of UCSD?\n",
    "\n",
    "1. The Bear\n",
    "\n",
    "2. The Pacific Ocean\n",
    "\n",
    "3. The Sungod\n",
    "\n",
    "4. The Aztecs \n",
    "\n",
    "### Question 2\n",
    "What is your favorite color?\n",
    "\n",
    "1. Blue\n",
    "\n",
    "2. Red\n",
    "\n",
    "3. Green \n",
    "\n",
    "4. Purple"
   ]
  },
  {
   "cell_type": "code",
   "execution_count": 1,
   "metadata": {
    "collapsed": true
   },
   "outputs": [],
   "source": [
    "#Running this cell is equivalent to selecting option 3 for question 1\n",
    "names_q1 = 3"
   ]
  },
  {
   "cell_type": "code",
   "execution_count": 2,
   "metadata": {
    "collapsed": true
   },
   "outputs": [],
   "source": [
    "#Running this cell is equivalent to selecting option 3 for question 2\n",
    "names_q2 = 3"
   ]
  },
  {
   "cell_type": "markdown",
   "metadata": {},
   "source": [
    "Check that your answers are in the correct format. This test *does not* check that you answered correctly; only that you assigned a number successfully in each multiple-choice answer cell."
   ]
  },
  {
   "cell_type": "code",
   "execution_count": null,
   "metadata": {
    "collapsed": true
   },
   "outputs": [],
   "source": [
    "_ = ok.grade('q1')"
   ]
  },
  {
   "cell_type": "markdown",
   "metadata": {},
   "source": [
    "Once you're finished, select \"Save and Checkpoint\" in the File menu and then execute the `submit` cell below. The result will contain a link that you can use to check that your assignment has been submitted successfully. If you submit more than once before the deadline, we will only grade your final submission."
   ]
  },
  {
   "cell_type": "code",
   "execution_count": null,
   "metadata": {
    "collapsed": true
   },
   "outputs": [],
   "source": [
    "_ = ok.submit()"
   ]
  }
 ],
 "metadata": {
  "kernelspec": {
   "display_name": "Python 3",
   "language": "python",
   "name": "python3"
  },
  "language_info": {
   "codemirror_mode": {
    "name": "ipython",
    "version": 3
   },
   "file_extension": ".py",
   "mimetype": "text/x-python",
   "name": "python",
   "nbconvert_exporter": "python",
   "pygments_lexer": "ipython3",
   "version": "3.6.0"
  }
 },
 "nbformat": 4,
 "nbformat_minor": 1
}
